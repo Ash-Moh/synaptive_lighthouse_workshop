{
 "cells": [
  {
   "cell_type": "code",
   "execution_count": 1,
   "metadata": {},
   "outputs": [],
   "source": [
    "import pandas as pd\n",
    "import numpy as np\n",
    "\n",
    "import matplotlib.pyplot as plt\n",
    "import seaborn as sns"
   ]
  },
  {
   "cell_type": "markdown",
   "metadata": {},
   "source": [
    "Download this [dataset](https://www.kaggle.com/c/house-prices-advanced-regression-techniques) and save it in your data folder. Download only the training set for now."
   ]
  },
  {
   "cell_type": "code",
   "execution_count": 2,
   "metadata": {},
   "outputs": [],
   "source": [
    "df_train = pd.read_csv('data/train.csv')"
   ]
  },
  {
   "cell_type": "code",
   "execution_count": 3,
   "metadata": {},
   "outputs": [
    {
     "data": {
      "text/html": [
       "<div>\n",
       "<style scoped>\n",
       "    .dataframe tbody tr th:only-of-type {\n",
       "        vertical-align: middle;\n",
       "    }\n",
       "\n",
       "    .dataframe tbody tr th {\n",
       "        vertical-align: top;\n",
       "    }\n",
       "\n",
       "    .dataframe thead th {\n",
       "        text-align: right;\n",
       "    }\n",
       "</style>\n",
       "<table border=\"1\" class=\"dataframe\">\n",
       "  <thead>\n",
       "    <tr style=\"text-align: right;\">\n",
       "      <th></th>\n",
       "      <th>Id</th>\n",
       "      <th>MSSubClass</th>\n",
       "      <th>MSZoning</th>\n",
       "      <th>LotFrontage</th>\n",
       "      <th>LotArea</th>\n",
       "      <th>Street</th>\n",
       "      <th>Alley</th>\n",
       "      <th>LotShape</th>\n",
       "      <th>LandContour</th>\n",
       "      <th>Utilities</th>\n",
       "      <th>...</th>\n",
       "      <th>PoolArea</th>\n",
       "      <th>PoolQC</th>\n",
       "      <th>Fence</th>\n",
       "      <th>MiscFeature</th>\n",
       "      <th>MiscVal</th>\n",
       "      <th>MoSold</th>\n",
       "      <th>YrSold</th>\n",
       "      <th>SaleType</th>\n",
       "      <th>SaleCondition</th>\n",
       "      <th>SalePrice</th>\n",
       "    </tr>\n",
       "  </thead>\n",
       "  <tbody>\n",
       "    <tr>\n",
       "      <th>0</th>\n",
       "      <td>1</td>\n",
       "      <td>60</td>\n",
       "      <td>RL</td>\n",
       "      <td>65.0</td>\n",
       "      <td>8450</td>\n",
       "      <td>Pave</td>\n",
       "      <td>NaN</td>\n",
       "      <td>Reg</td>\n",
       "      <td>Lvl</td>\n",
       "      <td>AllPub</td>\n",
       "      <td>...</td>\n",
       "      <td>0</td>\n",
       "      <td>NaN</td>\n",
       "      <td>NaN</td>\n",
       "      <td>NaN</td>\n",
       "      <td>0</td>\n",
       "      <td>2</td>\n",
       "      <td>2008</td>\n",
       "      <td>WD</td>\n",
       "      <td>Normal</td>\n",
       "      <td>208500</td>\n",
       "    </tr>\n",
       "    <tr>\n",
       "      <th>1</th>\n",
       "      <td>2</td>\n",
       "      <td>20</td>\n",
       "      <td>RL</td>\n",
       "      <td>80.0</td>\n",
       "      <td>9600</td>\n",
       "      <td>Pave</td>\n",
       "      <td>NaN</td>\n",
       "      <td>Reg</td>\n",
       "      <td>Lvl</td>\n",
       "      <td>AllPub</td>\n",
       "      <td>...</td>\n",
       "      <td>0</td>\n",
       "      <td>NaN</td>\n",
       "      <td>NaN</td>\n",
       "      <td>NaN</td>\n",
       "      <td>0</td>\n",
       "      <td>5</td>\n",
       "      <td>2007</td>\n",
       "      <td>WD</td>\n",
       "      <td>Normal</td>\n",
       "      <td>181500</td>\n",
       "    </tr>\n",
       "    <tr>\n",
       "      <th>2</th>\n",
       "      <td>3</td>\n",
       "      <td>60</td>\n",
       "      <td>RL</td>\n",
       "      <td>68.0</td>\n",
       "      <td>11250</td>\n",
       "      <td>Pave</td>\n",
       "      <td>NaN</td>\n",
       "      <td>IR1</td>\n",
       "      <td>Lvl</td>\n",
       "      <td>AllPub</td>\n",
       "      <td>...</td>\n",
       "      <td>0</td>\n",
       "      <td>NaN</td>\n",
       "      <td>NaN</td>\n",
       "      <td>NaN</td>\n",
       "      <td>0</td>\n",
       "      <td>9</td>\n",
       "      <td>2008</td>\n",
       "      <td>WD</td>\n",
       "      <td>Normal</td>\n",
       "      <td>223500</td>\n",
       "    </tr>\n",
       "    <tr>\n",
       "      <th>3</th>\n",
       "      <td>4</td>\n",
       "      <td>70</td>\n",
       "      <td>RL</td>\n",
       "      <td>60.0</td>\n",
       "      <td>9550</td>\n",
       "      <td>Pave</td>\n",
       "      <td>NaN</td>\n",
       "      <td>IR1</td>\n",
       "      <td>Lvl</td>\n",
       "      <td>AllPub</td>\n",
       "      <td>...</td>\n",
       "      <td>0</td>\n",
       "      <td>NaN</td>\n",
       "      <td>NaN</td>\n",
       "      <td>NaN</td>\n",
       "      <td>0</td>\n",
       "      <td>2</td>\n",
       "      <td>2006</td>\n",
       "      <td>WD</td>\n",
       "      <td>Abnorml</td>\n",
       "      <td>140000</td>\n",
       "    </tr>\n",
       "    <tr>\n",
       "      <th>4</th>\n",
       "      <td>5</td>\n",
       "      <td>60</td>\n",
       "      <td>RL</td>\n",
       "      <td>84.0</td>\n",
       "      <td>14260</td>\n",
       "      <td>Pave</td>\n",
       "      <td>NaN</td>\n",
       "      <td>IR1</td>\n",
       "      <td>Lvl</td>\n",
       "      <td>AllPub</td>\n",
       "      <td>...</td>\n",
       "      <td>0</td>\n",
       "      <td>NaN</td>\n",
       "      <td>NaN</td>\n",
       "      <td>NaN</td>\n",
       "      <td>0</td>\n",
       "      <td>12</td>\n",
       "      <td>2008</td>\n",
       "      <td>WD</td>\n",
       "      <td>Normal</td>\n",
       "      <td>250000</td>\n",
       "    </tr>\n",
       "  </tbody>\n",
       "</table>\n",
       "<p>5 rows × 81 columns</p>\n",
       "</div>"
      ],
      "text/plain": [
       "   Id  MSSubClass MSZoning  LotFrontage  LotArea Street Alley LotShape  \\\n",
       "0   1          60       RL         65.0     8450   Pave   NaN      Reg   \n",
       "1   2          20       RL         80.0     9600   Pave   NaN      Reg   \n",
       "2   3          60       RL         68.0    11250   Pave   NaN      IR1   \n",
       "3   4          70       RL         60.0     9550   Pave   NaN      IR1   \n",
       "4   5          60       RL         84.0    14260   Pave   NaN      IR1   \n",
       "\n",
       "  LandContour Utilities  ... PoolArea PoolQC Fence MiscFeature MiscVal MoSold  \\\n",
       "0         Lvl    AllPub  ...        0    NaN   NaN         NaN       0      2   \n",
       "1         Lvl    AllPub  ...        0    NaN   NaN         NaN       0      5   \n",
       "2         Lvl    AllPub  ...        0    NaN   NaN         NaN       0      9   \n",
       "3         Lvl    AllPub  ...        0    NaN   NaN         NaN       0      2   \n",
       "4         Lvl    AllPub  ...        0    NaN   NaN         NaN       0     12   \n",
       "\n",
       "  YrSold  SaleType  SaleCondition  SalePrice  \n",
       "0   2008        WD         Normal     208500  \n",
       "1   2007        WD         Normal     181500  \n",
       "2   2008        WD         Normal     223500  \n",
       "3   2006        WD        Abnorml     140000  \n",
       "4   2008        WD         Normal     250000  \n",
       "\n",
       "[5 rows x 81 columns]"
      ]
     },
     "execution_count": 3,
     "metadata": {},
     "output_type": "execute_result"
    }
   ],
   "source": [
    "df_train.head()"
   ]
  },
  {
   "cell_type": "markdown",
   "metadata": {},
   "source": [
    "Check how many variables and observations we're dealing with using shape"
   ]
  },
  {
   "cell_type": "code",
   "execution_count": 4,
   "metadata": {},
   "outputs": [
    {
     "data": {
      "text/plain": [
       "(1460, 81)"
      ]
     },
     "execution_count": 4,
     "metadata": {},
     "output_type": "execute_result"
    }
   ],
   "source": [
    "df_train.shape"
   ]
  },
  {
   "cell_type": "code",
   "execution_count": 5,
   "metadata": {},
   "outputs": [
    {
     "data": {
      "text/plain": [
       "Id                 int64\n",
       "MSSubClass         int64\n",
       "MSZoning          object\n",
       "LotFrontage      float64\n",
       "LotArea            int64\n",
       "                  ...   \n",
       "MoSold             int64\n",
       "YrSold             int64\n",
       "SaleType          object\n",
       "SaleCondition     object\n",
       "SalePrice          int64\n",
       "Length: 81, dtype: object"
      ]
     },
     "execution_count": 5,
     "metadata": {},
     "output_type": "execute_result"
    }
   ],
   "source": [
    "df_train.dtypes\n"
   ]
  },
  {
   "cell_type": "markdown",
   "metadata": {},
   "source": [
    "## Exploring the Target Variable  \n",
    "The goal of this competition was to predict the price of a house. These values are stored in the variable SalePrice.\n",
    "  \n",
    "Let's check the descriptive statistics and the histogram:\n",
    "\n"
   ]
  },
  {
   "cell_type": "code",
   "execution_count": 6,
   "metadata": {},
   "outputs": [
    {
     "data": {
      "text/plain": [
       "count      1460.000000\n",
       "mean     180921.195890\n",
       "std       79442.502883\n",
       "min       34900.000000\n",
       "25%      129975.000000\n",
       "50%      163000.000000\n",
       "75%      214000.000000\n",
       "max      755000.000000\n",
       "Name: SalePrice, dtype: float64"
      ]
     },
     "execution_count": 6,
     "metadata": {},
     "output_type": "execute_result"
    }
   ],
   "source": [
    "# descriptive statistics\n",
    "df_train['SalePrice'].describe()"
   ]
  },
  {
   "cell_type": "code",
   "execution_count": 7,
   "metadata": {},
   "outputs": [
    {
     "data": {
      "text/plain": [
       "<AxesSubplot:xlabel='SalePrice', ylabel='Count'>"
      ]
     },
     "execution_count": 7,
     "metadata": {},
     "output_type": "execute_result"
    },
    {
     "data": {
      "image/png": "[encoded data removed]",
      "text/plain": [
       "<Figure size 432x288 with 1 Axes>"
      ]
     },
     "metadata": {
      "needs_background": "light"
     },
     "output_type": "display_data"
    }
   ],
   "source": [
    "# histogram\n",
    "sns.histplot(df_train['SalePrice'])"
   ]
  },
  {
   "cell_type": "markdown",
   "metadata": {},
   "source": [
    "## Relationship Between the Target Variable and Predictors\n",
    "  \n",
    "First, let's start with some common sense (or ideally domain knowledge):\n",
    "\n",
    "- Do we think about this variable when we are buying a house? (e.g. when we think about the house of our dreams, do we care about its 'Masonry veneer type'?).\n",
    "- If so, how important would this variable be? (e.g. what is the impact of having 'Excellent' material on the exterior instead of 'Poor'? And of having 'Excellent' instead of 'Good'?).\n",
    "- Is this information already described in any other variable? (e.g. if 'LandContour' gives the flatness of the property, do we really need to know the 'LandSlope'?).\n",
    "- We can print a list of all columns:"
   ]
  },
  {
   "cell_type": "code",
   "execution_count": 8,
   "metadata": {},
   "outputs": [
    {
     "data": {
      "text/plain": [
       "Index(['Id', 'MSSubClass', 'MSZoning', 'LotFrontage', 'LotArea', 'Street',\n",
       "       'Alley', 'LotShape', 'LandContour', 'Utilities', 'LotConfig',\n",
       "       'LandSlope', 'Neighborhood', 'Condition1', 'Condition2', 'BldgType',\n",
       "       'HouseStyle', 'OverallQual', 'OverallCond', 'YearBuilt', 'YearRemodAdd',\n",
       "       'RoofStyle', 'RoofMatl', 'Exterior1st', 'Exterior2nd', 'MasVnrType',\n",
       "       'MasVnrArea', 'ExterQual', 'ExterCond', 'Foundation', 'BsmtQual',\n",
       "       'BsmtCond', 'BsmtExposure', 'BsmtFinType1', 'BsmtFinSF1',\n",
       "       'BsmtFinType2', 'BsmtFinSF2', 'BsmtUnfSF', 'TotalBsmtSF', 'Heating',\n",
       "       'HeatingQC', 'CentralAir', 'Electrical', '1stFlrSF', '2ndFlrSF',\n",
       "       'LowQualFinSF', 'GrLivArea', 'BsmtFullBath', 'BsmtHalfBath', 'FullBath',\n",
       "       'HalfBath', 'BedroomAbvGr', 'KitchenAbvGr', 'KitchenQual',\n",
       "       'TotRmsAbvGrd', 'Functional', 'Fireplaces', 'FireplaceQu', 'GarageType',\n",
       "       'GarageYrBlt', 'GarageFinish', 'GarageCars', 'GarageArea', 'GarageQual',\n",
       "       'GarageCond', 'PavedDrive', 'WoodDeckSF', 'OpenPorchSF',\n",
       "       'EnclosedPorch', '3SsnPorch', 'ScreenPorch', 'PoolArea', 'PoolQC',\n",
       "       'Fence', 'MiscFeature', 'MiscVal', 'MoSold', 'YrSold', 'SaleType',\n",
       "       'SaleCondition', 'SalePrice'],\n",
       "      dtype='object')"
      ]
     },
     "execution_count": 8,
     "metadata": {},
     "output_type": "execute_result"
    }
   ],
   "source": [
    "df_train.columns"
   ]
  },
  {
   "cell_type": "code",
   "execution_count": 9,
   "metadata": {},
   "outputs": [],
   "source": [
    "# Takes forever but if you have a powerful computer try it. Otherwise, subset the columns you are interested on\n",
    "# sns.pairplot(df_train)"
   ]
  },
  {
   "cell_type": "markdown",
   "metadata": {},
   "source": [
    "Of course, you might want to choose the ones that seem more meaningful to you and plot 1 by 1. Also consider this second option if you have many variables."
   ]
  },
  {
   "cell_type": "code",
   "execution_count": 10,
   "metadata": {},
   "outputs": [
    {
     "data": {
      "text/plain": [
       "<AxesSubplot:xlabel='GrLivArea', ylabel='SalePrice'>"
      ]
     },
     "execution_count": 10,
     "metadata": {},
     "output_type": "execute_result"
    },
    {
     "data": {
      "image/png": "[encoded data removed]",
      "text/plain": [
       "<Figure size 432x288 with 1 Axes>"
      ]
     },
     "metadata": {
      "needs_background": "light"
     },
     "output_type": "display_data"
    }
   ],
   "source": [
    "#scatter plot grlivarea vs. SalePrice\n",
    "var = 'GrLivArea'\n",
    "data = df_train[['SalePrice',var]]\n",
    "data.plot.scatter(x=var, y='SalePrice', ylim=(0,800000))"
   ]
  },
  {
   "cell_type": "code",
   "execution_count": 11,
   "metadata": {},
   "outputs": [
    {
     "data": {
      "text/plain": [
       "(array([ 0,  1,  2,  3,  4,  5,  6,  7,  8,  9, 10, 11, 12, 13, 14, 15, 16,\n",
       "        17, 18, 19, 20, 21, 22, 23, 24]),\n",
       " [Text(0, 0, 'CollgCr'),\n",
       "  Text(1, 0, 'Veenker'),\n",
       "  Text(2, 0, 'Crawfor'),\n",
       "  Text(3, 0, 'NoRidge'),\n",
       "  Text(4, 0, 'Mitchel'),\n",
       "  Text(5, 0, 'Somerst'),\n",
       "  Text(6, 0, 'NWAmes'),\n",
       "  Text(7, 0, 'OldTown'),\n",
       "  Text(8, 0, 'BrkSide'),\n",
       "  Text(9, 0, 'Sawyer'),\n",
       "  Text(10, 0, 'NridgHt'),\n",
       "  Text(11, 0, 'NAmes'),\n",
       "  Text(12, 0, 'SawyerW'),\n",
       "  Text(13, 0, 'IDOTRR'),\n",
       "  Text(14, 0, 'MeadowV'),\n",
       "  Text(15, 0, 'Edwards'),\n",
       "  Text(16, 0, 'Timber'),\n",
       "  Text(17, 0, 'Gilbert'),\n",
       "  Text(18, 0, 'StoneBr'),\n",
       "  Text(19, 0, 'ClearCr'),\n",
       "  Text(20, 0, 'NPkVill'),\n",
       "  Text(21, 0, 'Blmngtn'),\n",
       "  Text(22, 0, 'BrDale'),\n",
       "  Text(23, 0, 'SWISU'),\n",
       "  Text(24, 0, 'Blueste')])"
      ]
     },
     "execution_count": 11,
     "metadata": {},
     "output_type": "execute_result"
    },
    {
     "data": {
      "image/png": "[encoded data removed]",
      "text/plain": [
       "<Figure size 576x432 with 1 Axes>"
      ]
     },
     "metadata": {
      "needs_background": "light"
     },
     "output_type": "display_data"
    }
   ],
   "source": [
    "# Neighborhood\n",
    "var = 'Neighborhood'\n",
    "data = df_train[['SalePrice',var]]\n",
    "f, ax = plt.subplots(figsize=(8, 6))\n",
    "fig = sns.boxplot(x=var, y=\"SalePrice\", data=data)\n",
    "fig.axis(ymin=0, ymax=800000)\n",
    "plt.xticks(rotation=90)"
   ]
  },
  {
   "cell_type": "code",
   "execution_count": 12,
   "metadata": {},
   "outputs": [
    {
     "data": {
      "text/plain": [
       "<AxesSubplot:>"
      ]
     },
     "execution_count": 12,
     "metadata": {},
     "output_type": "execute_result"
    },
    {
     "data": {
      "image/png": "[encoded data removed]",
      "text/plain": [
       "<Figure size 864x648 with 2 Axes>"
      ]
     },
     "metadata": {
      "needs_background": "light"
     },
     "output_type": "display_data"
    }
   ],
   "source": [
    "#correlation matrix\n",
    "corrmat = df_train.corr()\n",
    "f, ax = plt.subplots(figsize=(12, 9))\n",
    "sns.heatmap(corrmat, vmax=.8, square=True,cmap=\"RdYlGn_r\")"
   ]
  },
  {
   "cell_type": "markdown",
   "metadata": {},
   "source": [
    "To make it more readable we can plot only those variables that correlate with the target variable more than 0.5:\n",
    "\n"
   ]
  },
  {
   "cell_type": "code",
   "execution_count": 13,
   "metadata": {},
   "outputs": [
    {
     "data": {
      "image/png": "[encoded data removed]",
      "text/plain": [
       "<Figure size 720x720 with 2 Axes>"
      ]
     },
     "metadata": {
      "needs_background": "light"
     },
     "output_type": "display_data"
    }
   ],
   "source": [
    "# most correlated features with SalePrice\n",
    "corrmat = df_train.corr()\n",
    "top_corr_features = corrmat.index[abs(corrmat[\"SalePrice\"])>0.5]\n",
    "plt.figure(figsize=(10,10))\n",
    "g = sns.heatmap(df_train[top_corr_features].corr(),annot=True,cmap=\"RdYlGn_r\")"
   ]
  },
  {
   "cell_type": "markdown",
   "metadata": {},
   "source": [
    "Thoughts on this?"
   ]
  },
  {
   "cell_type": "markdown",
   "metadata": {},
   "source": [
    "## Outlier Detection"
   ]
  },
  {
   "cell_type": "markdown",
   "metadata": {},
   "source": [
    "Let's check the values of our target variable together with the other numeric attributes we identified as important in the previous tutorial:\n",
    "\n",
    "* TotalBsmtSF\n",
    "* GrLivArea"
   ]
  },
  {
   "cell_type": "code",
   "execution_count": 14,
   "metadata": {},
   "outputs": [
    {
     "data": {
      "image/png": "[encoded data removed]",
      "text/plain": [
       "<Figure size 432x288 with 1 Axes>"
      ]
     },
     "metadata": {
      "needs_background": "light"
     },
     "output_type": "display_data"
    }
   ],
   "source": [
    "\n",
    "fig, ax = plt.subplots()\n",
    "ax.scatter(x = df_train['TotalBsmtSF'], y = df_train['SalePrice'])\n",
    "plt.ylabel('SalePrice', fontsize=13)\n",
    "plt.xlabel('TotalBsmtSF', fontsize=13)\n",
    "plt.show()"
   ]
  },
  {
   "cell_type": "markdown",
   "metadata": {},
   "source": [
    "What do you notice?? "
   ]
  },
  {
   "cell_type": "markdown",
   "metadata": {},
   "source": [
    "Now we are going to remove this outlier from our dataset. We will remove all observations that have more than 5,000 square feet of basement and a price lower than $300,000:"
   ]
  },
  {
   "cell_type": "code",
   "execution_count": 15,
   "metadata": {},
   "outputs": [
    {
     "data": {
      "image/png": "[encoded data removed]",
      "text/plain": [
       "<Figure size 432x288 with 1 Axes>"
      ]
     },
     "metadata": {
      "needs_background": "light"
     },
     "output_type": "display_data"
    }
   ],
   "source": [
    "# delete outliers\n",
    "df_train = df_train.drop(df_train[(df_train['TotalBsmtSF']>5000) & (df_train['SalePrice']<300000)].index)\n",
    "\n",
    "# reset index\n",
    "df_train = df_train.reset_index(drop=True)\n",
    "\n",
    "# check the graphic again\n",
    "fig, ax = plt.subplots()\n",
    "ax.scatter(df_train['TotalBsmtSF'], df_train['SalePrice'])\n",
    "plt.ylabel('SalePrice', fontsize=13)\n",
    "plt.xlabel('TotalBsmtSF', fontsize=13)\n",
    "plt.show()"
   ]
  },
  {
   "cell_type": "markdown",
   "metadata": {},
   "source": [
    "Let's check another numeric variable from the output of the previous tutorial: GrLivArea."
   ]
  },
  {
   "cell_type": "code",
   "execution_count": 16,
   "metadata": {},
   "outputs": [
    {
     "data": {
      "image/png": "[encoded data removed]",
      "text/plain": [
       "<Figure size 432x288 with 1 Axes>"
      ]
     },
     "metadata": {
      "needs_background": "light"
     },
     "output_type": "display_data"
    }
   ],
   "source": [
    "fig, ax = plt.subplots()\n",
    "ax.scatter(x = df_train['GrLivArea'], y = df_train['SalePrice'])\n",
    "plt.ylabel('SalePrice', fontsize=13)\n",
    "plt.xlabel('GrLivArea', fontsize=13)\n",
    "plt.show()"
   ]
  },
  {
   "cell_type": "markdown",
   "metadata": {},
   "source": [
    "What do you think?\n",
    "\n",
    "Remove the outliers as you think it should be. \n",
    "\n",
    "Anyone willing to share their code on Slack or Zoom chat? Or send a screenshot in Slack of what they got?"
   ]
  },
  {
   "cell_type": "markdown",
   "metadata": {},
   "source": [
    "Do you think removing outliers is a good idea? Why or Why not? Do you have any other inputs?"
   ]
  },
  {
   "cell_type": "markdown",
   "metadata": {},
   "source": [
    "## Null Value Replacement"
   ]
  },
  {
   "cell_type": "code",
   "execution_count": 17,
   "metadata": {},
   "outputs": [
    {
     "data": {
      "text/html": [
       "<div>\n",
       "<style scoped>\n",
       "    .dataframe tbody tr th:only-of-type {\n",
       "        vertical-align: middle;\n",
       "    }\n",
       "\n",
       "    .dataframe tbody tr th {\n",
       "        vertical-align: top;\n",
       "    }\n",
       "\n",
       "    .dataframe thead th {\n",
       "        text-align: right;\n",
       "    }\n",
       "</style>\n",
       "<table border=\"1\" class=\"dataframe\">\n",
       "  <thead>\n",
       "    <tr style=\"text-align: right;\">\n",
       "      <th></th>\n",
       "      <th>Total</th>\n",
       "      <th>Percent</th>\n",
       "    </tr>\n",
       "  </thead>\n",
       "  <tbody>\n",
       "    <tr>\n",
       "      <th>PoolQC</th>\n",
       "      <td>1453</td>\n",
       "      <td>0.995888</td>\n",
       "    </tr>\n",
       "    <tr>\n",
       "      <th>MiscFeature</th>\n",
       "      <td>1405</td>\n",
       "      <td>0.962988</td>\n",
       "    </tr>\n",
       "    <tr>\n",
       "      <th>Alley</th>\n",
       "      <td>1368</td>\n",
       "      <td>0.937629</td>\n",
       "    </tr>\n",
       "    <tr>\n",
       "      <th>Fence</th>\n",
       "      <td>1178</td>\n",
       "      <td>0.807402</td>\n",
       "    </tr>\n",
       "    <tr>\n",
       "      <th>FireplaceQu</th>\n",
       "      <td>690</td>\n",
       "      <td>0.472927</td>\n",
       "    </tr>\n",
       "    <tr>\n",
       "      <th>LotFrontage</th>\n",
       "      <td>259</td>\n",
       "      <td>0.177519</td>\n",
       "    </tr>\n",
       "    <tr>\n",
       "      <th>GarageCond</th>\n",
       "      <td>81</td>\n",
       "      <td>0.055517</td>\n",
       "    </tr>\n",
       "    <tr>\n",
       "      <th>GarageType</th>\n",
       "      <td>81</td>\n",
       "      <td>0.055517</td>\n",
       "    </tr>\n",
       "    <tr>\n",
       "      <th>GarageYrBlt</th>\n",
       "      <td>81</td>\n",
       "      <td>0.055517</td>\n",
       "    </tr>\n",
       "    <tr>\n",
       "      <th>GarageFinish</th>\n",
       "      <td>81</td>\n",
       "      <td>0.055517</td>\n",
       "    </tr>\n",
       "    <tr>\n",
       "      <th>GarageQual</th>\n",
       "      <td>81</td>\n",
       "      <td>0.055517</td>\n",
       "    </tr>\n",
       "    <tr>\n",
       "      <th>BsmtExposure</th>\n",
       "      <td>38</td>\n",
       "      <td>0.026045</td>\n",
       "    </tr>\n",
       "    <tr>\n",
       "      <th>BsmtFinType2</th>\n",
       "      <td>38</td>\n",
       "      <td>0.026045</td>\n",
       "    </tr>\n",
       "    <tr>\n",
       "      <th>BsmtFinType1</th>\n",
       "      <td>37</td>\n",
       "      <td>0.025360</td>\n",
       "    </tr>\n",
       "    <tr>\n",
       "      <th>BsmtCond</th>\n",
       "      <td>37</td>\n",
       "      <td>0.025360</td>\n",
       "    </tr>\n",
       "    <tr>\n",
       "      <th>BsmtQual</th>\n",
       "      <td>37</td>\n",
       "      <td>0.025360</td>\n",
       "    </tr>\n",
       "    <tr>\n",
       "      <th>MasVnrArea</th>\n",
       "      <td>8</td>\n",
       "      <td>0.005483</td>\n",
       "    </tr>\n",
       "    <tr>\n",
       "      <th>MasVnrType</th>\n",
       "      <td>8</td>\n",
       "      <td>0.005483</td>\n",
       "    </tr>\n",
       "    <tr>\n",
       "      <th>Electrical</th>\n",
       "      <td>1</td>\n",
       "      <td>0.000685</td>\n",
       "    </tr>\n",
       "    <tr>\n",
       "      <th>Utilities</th>\n",
       "      <td>0</td>\n",
       "      <td>0.000000</td>\n",
       "    </tr>\n",
       "  </tbody>\n",
       "</table>\n",
       "</div>"
      ],
      "text/plain": [
       "              Total   Percent\n",
       "PoolQC         1453  0.995888\n",
       "MiscFeature    1405  0.962988\n",
       "Alley          1368  0.937629\n",
       "Fence          1178  0.807402\n",
       "FireplaceQu     690  0.472927\n",
       "LotFrontage     259  0.177519\n",
       "GarageCond       81  0.055517\n",
       "GarageType       81  0.055517\n",
       "GarageYrBlt      81  0.055517\n",
       "GarageFinish     81  0.055517\n",
       "GarageQual       81  0.055517\n",
       "BsmtExposure     38  0.026045\n",
       "BsmtFinType2     38  0.026045\n",
       "BsmtFinType1     37  0.025360\n",
       "BsmtCond         37  0.025360\n",
       "BsmtQual         37  0.025360\n",
       "MasVnrArea        8  0.005483\n",
       "MasVnrType        8  0.005483\n",
       "Electrical        1  0.000685\n",
       "Utilities         0  0.000000"
      ]
     },
     "execution_count": 17,
     "metadata": {},
     "output_type": "execute_result"
    }
   ],
   "source": [
    "# missing data\n",
    "total = df_train.isnull().sum().sort_values(ascending=False)\n",
    "percent = (df_train.isnull().sum()/df_train.isnull().count()).sort_values(ascending=False)\n",
    "missing_data = pd.concat([total, percent], axis=1, keys=['Total', 'Percent'])\n",
    "missing_data.head(20)"
   ]
  },
  {
   "cell_type": "markdown",
   "metadata": {},
   "source": [
    "There are a couple of columns, where most of the values are missing. We can get rid of these since they don't have any value for us."
   ]
  },
  {
   "cell_type": "code",
   "execution_count": 18,
   "metadata": {},
   "outputs": [],
   "source": [
    "# drop 5 columns with the biggest ratio of null values\n",
    "to_drop = missing_data.head(5).index.tolist()\n",
    "df_train.drop(to_drop, axis=1, inplace=True)"
   ]
  },
  {
   "cell_type": "code",
   "execution_count": 19,
   "metadata": {},
   "outputs": [
    {
     "data": {
      "text/plain": [
       "Index(['Id', 'MSSubClass', 'MSZoning', 'LotFrontage', 'LotArea', 'Street',\n",
       "       'LotShape', 'LandContour', 'Utilities', 'LotConfig', 'LandSlope',\n",
       "       'Neighborhood', 'Condition1', 'Condition2', 'BldgType', 'HouseStyle',\n",
       "       'OverallQual', 'OverallCond', 'YearBuilt', 'YearRemodAdd', 'RoofStyle',\n",
       "       'RoofMatl', 'Exterior1st', 'Exterior2nd', 'MasVnrType', 'MasVnrArea',\n",
       "       'ExterQual', 'ExterCond', 'Foundation', 'BsmtQual', 'BsmtCond',\n",
       "       'BsmtExposure', 'BsmtFinType1', 'BsmtFinSF1', 'BsmtFinType2',\n",
       "       'BsmtFinSF2', 'BsmtUnfSF', 'TotalBsmtSF', 'Heating', 'HeatingQC',\n",
       "       'CentralAir', 'Electrical', '1stFlrSF', '2ndFlrSF', 'LowQualFinSF',\n",
       "       'GrLivArea', 'BsmtFullBath', 'BsmtHalfBath', 'FullBath', 'HalfBath',\n",
       "       'BedroomAbvGr', 'KitchenAbvGr', 'KitchenQual', 'TotRmsAbvGrd',\n",
       "       'Functional', 'Fireplaces', 'GarageType', 'GarageYrBlt', 'GarageFinish',\n",
       "       'GarageCars', 'GarageArea', 'GarageQual', 'GarageCond', 'PavedDrive',\n",
       "       'WoodDeckSF', 'OpenPorchSF', 'EnclosedPorch', '3SsnPorch',\n",
       "       'ScreenPorch', 'PoolArea', 'MiscVal', 'MoSold', 'YrSold', 'SaleType',\n",
       "       'SaleCondition', 'SalePrice'],\n",
       "      dtype='object')"
      ]
     },
     "execution_count": 19,
     "metadata": {},
     "output_type": "execute_result"
    }
   ],
   "source": [
    "df_train.columns"
   ]
  },
  {
   "cell_type": "code",
   "execution_count": 20,
   "metadata": {},
   "outputs": [
    {
     "data": {
      "text/plain": [
       "LotFrontage     float64\n",
       "BsmtFinType2     object\n",
       "GarageType       object\n",
       "GarageYrBlt     float64\n",
       "GarageCond       object\n",
       "Electrical       object\n",
       "BsmtExposure     object\n",
       "MasVnrType       object\n",
       "BsmtCond         object\n",
       "MasVnrArea      float64\n",
       "BsmtFinType1     object\n",
       "GarageFinish     object\n",
       "BsmtQual         object\n",
       "GarageQual       object\n",
       "dtype: object"
      ]
     },
     "execution_count": 20,
     "metadata": {},
     "output_type": "execute_result"
    }
   ],
   "source": [
    "# extract the names of columns with missing values\n",
    "cols_with_missing = missing_data[missing_data.Percent > 0].index.tolist()\n",
    "# remove column names that are already removed from dataset\n",
    "missing_cols = list(set(cols_with_missing) - set(to_drop))\n",
    "# check the datatype\n",
    "df_train.dtypes[missing_cols]"
   ]
  },
  {
   "cell_type": "markdown",
   "metadata": {},
   "source": [
    "## Dealing with Numeric Variables"
   ]
  },
  {
   "cell_type": "code",
   "execution_count": 21,
   "metadata": {},
   "outputs": [],
   "source": [
    "num_cols_with_missing = df_train.dtypes[missing_cols][df_train.dtypes[missing_cols] == 'float'].index.tolist()\n",
    "# create new variable with the information that it was missing\n",
    "for cl in num_cols_with_missing:\n",
    "    df_train[cl + \"_missing_ind\"] = 0\n",
    "    df_train.loc[df_train[cl].isnull(), cl + \"_missing_ind\"] = 1"
   ]
  },
  {
   "cell_type": "markdown",
   "metadata": {},
   "source": [
    "Filling with different types of values:"
   ]
  },
  {
   "cell_type": "code",
   "execution_count": 22,
   "metadata": {},
   "outputs": [],
   "source": [
    "df_train[\"LotFrontage\"] = df_train[\"LotFrontage\"].fillna(df_train[\"LotFrontage\"].mean())\n",
    "df_train[\"GarageYrBlt\"] = df_train[\"GarageYrBlt\"].fillna(df_train[\"GarageYrBlt\"].min())\n",
    "df_train[\"MasVnrArea\"] = df_train[\"MasVnrArea\"].fillna(0)\n"
   ]
  },
  {
   "cell_type": "markdown",
   "metadata": {},
   "source": [
    "## Dealing with Other Variables"
   ]
  },
  {
   "cell_type": "code",
   "execution_count": 23,
   "metadata": {},
   "outputs": [],
   "source": [
    "# 2. for categorical variables:\n",
    "df_train.dtypes[missing_cols][df_train.dtypes[missing_cols] == 'object']\n",
    "cat_cols_with_missing = df_train.dtypes[missing_cols][df_train.dtypes[missing_cols] == 'object'].index.tolist()"
   ]
  },
  {
   "cell_type": "code",
   "execution_count": 24,
   "metadata": {},
   "outputs": [
    {
     "data": {
      "text/plain": [
       "['BsmtFinType2',\n",
       " 'GarageType',\n",
       " 'GarageCond',\n",
       " 'Electrical',\n",
       " 'BsmtExposure',\n",
       " 'MasVnrType',\n",
       " 'BsmtCond',\n",
       " 'BsmtFinType1',\n",
       " 'GarageFinish',\n",
       " 'BsmtQual',\n",
       " 'GarageQual']"
      ]
     },
     "execution_count": 24,
     "metadata": {},
     "output_type": "execute_result"
    }
   ],
   "source": [
    "cat_cols_with_missing"
   ]
  },
  {
   "cell_type": "code",
   "execution_count": 25,
   "metadata": {},
   "outputs": [],
   "source": [
    "# GarageFinish : data description says NA means \"no garage\"\n",
    "df_train[\"GarageFinish\"] = df_train[\"GarageFinish\"].fillna(\"None\")\n",
    "# GarageCond : data description says NA means \"no garage\"\n",
    "df_train[\"GarageCond\"] = df_train[\"GarageCond\"].fillna(\"None\")\n",
    "# GarageQual : data description says NA means \"no garage\"\n",
    "df_train[\"GarageQual\"] = df_train[\"GarageQual\"].fillna(\"None\")\n",
    "# GarageType : data description says NA means \"no garage\"\n",
    "df_train[\"GarageType\"] = df_train[\"GarageType\"].fillna(\"None\")\n",
    "\n",
    "# BsmtExposure : data description says NA means \"no basement\"\n",
    "df_train[\"BsmtExposure\"] = df_train[\"BsmtExposure\"].fillna(\"None\")\n",
    "# BsmtFinType2 : data description says NA means \"no basement\"\n",
    "df_train[\"BsmtFinType2\"] = df_train[\"BsmtFinType2\"].fillna(\"None\")\n",
    "# BsmtFinType1 : data description says NA means \"no basement\"\n",
    "df_train[\"BsmtFinType1\"] = df_train[\"BsmtFinType1\"].fillna(\"None\")\n",
    "# BsmtCond : data description says NA means \"no basement\"\n",
    "df_train[\"BsmtCond\"] = df_train[\"BsmtCond\"].fillna(\"None\")\n",
    "# BsmtQual : data description says NA means \"no basement\"\n",
    "df_train[\"BsmtQual\"] = df_train[\"BsmtQual\"].fillna(\"None\")\n",
    "\n",
    "df_train[\"Electrical\"] = df_train[\"Electrical\"].fillna(\"Empty\")\n",
    "df_train[\"MasVnrType\"] = df_train[\"MasVnrType\"].fillna(\"Empty\")"
   ]
  },
  {
   "cell_type": "code",
   "execution_count": 26,
   "metadata": {
    "scrolled": true
   },
   "outputs": [
    {
     "data": {
      "text/html": [
       "<div>\n",
       "<style scoped>\n",
       "    .dataframe tbody tr th:only-of-type {\n",
       "        vertical-align: middle;\n",
       "    }\n",
       "\n",
       "    .dataframe tbody tr th {\n",
       "        vertical-align: top;\n",
       "    }\n",
       "\n",
       "    .dataframe thead th {\n",
       "        text-align: right;\n",
       "    }\n",
       "</style>\n",
       "<table border=\"1\" class=\"dataframe\">\n",
       "  <thead>\n",
       "    <tr style=\"text-align: right;\">\n",
       "      <th></th>\n",
       "      <th>Id</th>\n",
       "      <th>MSSubClass</th>\n",
       "      <th>MSZoning</th>\n",
       "      <th>LotFrontage</th>\n",
       "      <th>LotArea</th>\n",
       "      <th>Street</th>\n",
       "      <th>LotShape</th>\n",
       "      <th>LandContour</th>\n",
       "      <th>Utilities</th>\n",
       "      <th>LotConfig</th>\n",
       "      <th>...</th>\n",
       "      <th>PoolArea</th>\n",
       "      <th>MiscVal</th>\n",
       "      <th>MoSold</th>\n",
       "      <th>YrSold</th>\n",
       "      <th>SaleType</th>\n",
       "      <th>SaleCondition</th>\n",
       "      <th>SalePrice</th>\n",
       "      <th>LotFrontage_missing_ind</th>\n",
       "      <th>GarageYrBlt_missing_ind</th>\n",
       "      <th>MasVnrArea_missing_ind</th>\n",
       "    </tr>\n",
       "  </thead>\n",
       "  <tbody>\n",
       "    <tr>\n",
       "      <th>0</th>\n",
       "      <td>1</td>\n",
       "      <td>60</td>\n",
       "      <td>RL</td>\n",
       "      <td>65.0</td>\n",
       "      <td>8450</td>\n",
       "      <td>Pave</td>\n",
       "      <td>Reg</td>\n",
       "      <td>Lvl</td>\n",
       "      <td>AllPub</td>\n",
       "      <td>Inside</td>\n",
       "      <td>...</td>\n",
       "      <td>0</td>\n",
       "      <td>0</td>\n",
       "      <td>2</td>\n",
       "      <td>2008</td>\n",
       "      <td>WD</td>\n",
       "      <td>Normal</td>\n",
       "      <td>208500</td>\n",
       "      <td>0</td>\n",
       "      <td>0</td>\n",
       "      <td>0</td>\n",
       "    </tr>\n",
       "    <tr>\n",
       "      <th>1</th>\n",
       "      <td>2</td>\n",
       "      <td>20</td>\n",
       "      <td>RL</td>\n",
       "      <td>80.0</td>\n",
       "      <td>9600</td>\n",
       "      <td>Pave</td>\n",
       "      <td>Reg</td>\n",
       "      <td>Lvl</td>\n",
       "      <td>AllPub</td>\n",
       "      <td>FR2</td>\n",
       "      <td>...</td>\n",
       "      <td>0</td>\n",
       "      <td>0</td>\n",
       "      <td>5</td>\n",
       "      <td>2007</td>\n",
       "      <td>WD</td>\n",
       "      <td>Normal</td>\n",
       "      <td>181500</td>\n",
       "      <td>0</td>\n",
       "      <td>0</td>\n",
       "      <td>0</td>\n",
       "    </tr>\n",
       "    <tr>\n",
       "      <th>2</th>\n",
       "      <td>3</td>\n",
       "      <td>60</td>\n",
       "      <td>RL</td>\n",
       "      <td>68.0</td>\n",
       "      <td>11250</td>\n",
       "      <td>Pave</td>\n",
       "      <td>IR1</td>\n",
       "      <td>Lvl</td>\n",
       "      <td>AllPub</td>\n",
       "      <td>Inside</td>\n",
       "      <td>...</td>\n",
       "      <td>0</td>\n",
       "      <td>0</td>\n",
       "      <td>9</td>\n",
       "      <td>2008</td>\n",
       "      <td>WD</td>\n",
       "      <td>Normal</td>\n",
       "      <td>223500</td>\n",
       "      <td>0</td>\n",
       "      <td>0</td>\n",
       "      <td>0</td>\n",
       "    </tr>\n",
       "    <tr>\n",
       "      <th>3</th>\n",
       "      <td>4</td>\n",
       "      <td>70</td>\n",
       "      <td>RL</td>\n",
       "      <td>60.0</td>\n",
       "      <td>9550</td>\n",
       "      <td>Pave</td>\n",
       "      <td>IR1</td>\n",
       "      <td>Lvl</td>\n",
       "      <td>AllPub</td>\n",
       "      <td>Corner</td>\n",
       "      <td>...</td>\n",
       "      <td>0</td>\n",
       "      <td>0</td>\n",
       "      <td>2</td>\n",
       "      <td>2006</td>\n",
       "      <td>WD</td>\n",
       "      <td>Abnorml</td>\n",
       "      <td>140000</td>\n",
       "      <td>0</td>\n",
       "      <td>0</td>\n",
       "      <td>0</td>\n",
       "    </tr>\n",
       "    <tr>\n",
       "      <th>4</th>\n",
       "      <td>5</td>\n",
       "      <td>60</td>\n",
       "      <td>RL</td>\n",
       "      <td>84.0</td>\n",
       "      <td>14260</td>\n",
       "      <td>Pave</td>\n",
       "      <td>IR1</td>\n",
       "      <td>Lvl</td>\n",
       "      <td>AllPub</td>\n",
       "      <td>FR2</td>\n",
       "      <td>...</td>\n",
       "      <td>0</td>\n",
       "      <td>0</td>\n",
       "      <td>12</td>\n",
       "      <td>2008</td>\n",
       "      <td>WD</td>\n",
       "      <td>Normal</td>\n",
       "      <td>250000</td>\n",
       "      <td>0</td>\n",
       "      <td>0</td>\n",
       "      <td>0</td>\n",
       "    </tr>\n",
       "    <tr>\n",
       "      <th>...</th>\n",
       "      <td>...</td>\n",
       "      <td>...</td>\n",
       "      <td>...</td>\n",
       "      <td>...</td>\n",
       "      <td>...</td>\n",
       "      <td>...</td>\n",
       "      <td>...</td>\n",
       "      <td>...</td>\n",
       "      <td>...</td>\n",
       "      <td>...</td>\n",
       "      <td>...</td>\n",
       "      <td>...</td>\n",
       "      <td>...</td>\n",
       "      <td>...</td>\n",
       "      <td>...</td>\n",
       "      <td>...</td>\n",
       "      <td>...</td>\n",
       "      <td>...</td>\n",
       "      <td>...</td>\n",
       "      <td>...</td>\n",
       "      <td>...</td>\n",
       "    </tr>\n",
       "    <tr>\n",
       "      <th>1454</th>\n",
       "      <td>1456</td>\n",
       "      <td>60</td>\n",
       "      <td>RL</td>\n",
       "      <td>62.0</td>\n",
       "      <td>7917</td>\n",
       "      <td>Pave</td>\n",
       "      <td>Reg</td>\n",
       "      <td>Lvl</td>\n",
       "      <td>AllPub</td>\n",
       "      <td>Inside</td>\n",
       "      <td>...</td>\n",
       "      <td>0</td>\n",
       "      <td>0</td>\n",
       "      <td>8</td>\n",
       "      <td>2007</td>\n",
       "      <td>WD</td>\n",
       "      <td>Normal</td>\n",
       "      <td>175000</td>\n",
       "      <td>0</td>\n",
       "      <td>0</td>\n",
       "      <td>0</td>\n",
       "    </tr>\n",
       "    <tr>\n",
       "      <th>1455</th>\n",
       "      <td>1457</td>\n",
       "      <td>20</td>\n",
       "      <td>RL</td>\n",
       "      <td>85.0</td>\n",
       "      <td>13175</td>\n",
       "      <td>Pave</td>\n",
       "      <td>Reg</td>\n",
       "      <td>Lvl</td>\n",
       "      <td>AllPub</td>\n",
       "      <td>Inside</td>\n",
       "      <td>...</td>\n",
       "      <td>0</td>\n",
       "      <td>0</td>\n",
       "      <td>2</td>\n",
       "      <td>2010</td>\n",
       "      <td>WD</td>\n",
       "      <td>Normal</td>\n",
       "      <td>210000</td>\n",
       "      <td>0</td>\n",
       "      <td>0</td>\n",
       "      <td>0</td>\n",
       "    </tr>\n",
       "    <tr>\n",
       "      <th>1456</th>\n",
       "      <td>1458</td>\n",
       "      <td>70</td>\n",
       "      <td>RL</td>\n",
       "      <td>66.0</td>\n",
       "      <td>9042</td>\n",
       "      <td>Pave</td>\n",
       "      <td>Reg</td>\n",
       "      <td>Lvl</td>\n",
       "      <td>AllPub</td>\n",
       "      <td>Inside</td>\n",
       "      <td>...</td>\n",
       "      <td>0</td>\n",
       "      <td>2500</td>\n",
       "      <td>5</td>\n",
       "      <td>2010</td>\n",
       "      <td>WD</td>\n",
       "      <td>Normal</td>\n",
       "      <td>266500</td>\n",
       "      <td>0</td>\n",
       "      <td>0</td>\n",
       "      <td>0</td>\n",
       "    </tr>\n",
       "    <tr>\n",
       "      <th>1457</th>\n",
       "      <td>1459</td>\n",
       "      <td>20</td>\n",
       "      <td>RL</td>\n",
       "      <td>68.0</td>\n",
       "      <td>9717</td>\n",
       "      <td>Pave</td>\n",
       "      <td>Reg</td>\n",
       "      <td>Lvl</td>\n",
       "      <td>AllPub</td>\n",
       "      <td>Inside</td>\n",
       "      <td>...</td>\n",
       "      <td>0</td>\n",
       "      <td>0</td>\n",
       "      <td>4</td>\n",
       "      <td>2010</td>\n",
       "      <td>WD</td>\n",
       "      <td>Normal</td>\n",
       "      <td>142125</td>\n",
       "      <td>0</td>\n",
       "      <td>0</td>\n",
       "      <td>0</td>\n",
       "    </tr>\n",
       "    <tr>\n",
       "      <th>1458</th>\n",
       "      <td>1460</td>\n",
       "      <td>20</td>\n",
       "      <td>RL</td>\n",
       "      <td>75.0</td>\n",
       "      <td>9937</td>\n",
       "      <td>Pave</td>\n",
       "      <td>Reg</td>\n",
       "      <td>Lvl</td>\n",
       "      <td>AllPub</td>\n",
       "      <td>Inside</td>\n",
       "      <td>...</td>\n",
       "      <td>0</td>\n",
       "      <td>0</td>\n",
       "      <td>6</td>\n",
       "      <td>2008</td>\n",
       "      <td>WD</td>\n",
       "      <td>Normal</td>\n",
       "      <td>147500</td>\n",
       "      <td>0</td>\n",
       "      <td>0</td>\n",
       "      <td>0</td>\n",
       "    </tr>\n",
       "  </tbody>\n",
       "</table>\n",
       "<p>1459 rows × 79 columns</p>\n",
       "</div>"
      ],
      "text/plain": [
       "        Id  MSSubClass MSZoning  LotFrontage  LotArea Street LotShape  \\\n",
       "0        1          60       RL         65.0     8450   Pave      Reg   \n",
       "1        2          20       RL         80.0     9600   Pave      Reg   \n",
       "2        3          60       RL         68.0    11250   Pave      IR1   \n",
       "3        4          70       RL         60.0     9550   Pave      IR1   \n",
       "4        5          60       RL         84.0    14260   Pave      IR1   \n",
       "...    ...         ...      ...          ...      ...    ...      ...   \n",
       "1454  1456          60       RL         62.0     7917   Pave      Reg   \n",
       "1455  1457          20       RL         85.0    13175   Pave      Reg   \n",
       "1456  1458          70       RL         66.0     9042   Pave      Reg   \n",
       "1457  1459          20       RL         68.0     9717   Pave      Reg   \n",
       "1458  1460          20       RL         75.0     9937   Pave      Reg   \n",
       "\n",
       "     LandContour Utilities LotConfig  ... PoolArea MiscVal MoSold YrSold  \\\n",
       "0            Lvl    AllPub    Inside  ...        0       0      2   2008   \n",
       "1            Lvl    AllPub       FR2  ...        0       0      5   2007   \n",
       "2            Lvl    AllPub    Inside  ...        0       0      9   2008   \n",
       "3            Lvl    AllPub    Corner  ...        0       0      2   2006   \n",
       "4            Lvl    AllPub       FR2  ...        0       0     12   2008   \n",
       "...          ...       ...       ...  ...      ...     ...    ...    ...   \n",
       "1454         Lvl    AllPub    Inside  ...        0       0      8   2007   \n",
       "1455         Lvl    AllPub    Inside  ...        0       0      2   2010   \n",
       "1456         Lvl    AllPub    Inside  ...        0    2500      5   2010   \n",
       "1457         Lvl    AllPub    Inside  ...        0       0      4   2010   \n",
       "1458         Lvl    AllPub    Inside  ...        0       0      6   2008   \n",
       "\n",
       "     SaleType SaleCondition  SalePrice  LotFrontage_missing_ind  \\\n",
       "0          WD        Normal     208500                        0   \n",
       "1          WD        Normal     181500                        0   \n",
       "2          WD        Normal     223500                        0   \n",
       "3          WD       Abnorml     140000                        0   \n",
       "4          WD        Normal     250000                        0   \n",
       "...       ...           ...        ...                      ...   \n",
       "1454       WD        Normal     175000                        0   \n",
       "1455       WD        Normal     210000                        0   \n",
       "1456       WD        Normal     266500                        0   \n",
       "1457       WD        Normal     142125                        0   \n",
       "1458       WD        Normal     147500                        0   \n",
       "\n",
       "      GarageYrBlt_missing_ind  MasVnrArea_missing_ind  \n",
       "0                           0                       0  \n",
       "1                           0                       0  \n",
       "2                           0                       0  \n",
       "3                           0                       0  \n",
       "4                           0                       0  \n",
       "...                       ...                     ...  \n",
       "1454                        0                       0  \n",
       "1455                        0                       0  \n",
       "1456                        0                       0  \n",
       "1457                        0                       0  \n",
       "1458                        0                       0  \n",
       "\n",
       "[1459 rows x 79 columns]"
      ]
     },
     "execution_count": 26,
     "metadata": {},
     "output_type": "execute_result"
    }
   ],
   "source": [
    "df_train"
   ]
  },
  {
   "cell_type": "markdown",
   "metadata": {},
   "source": [
    "NOTE: You can also use string methods and REGEX :  \n",
    "`df_train[\"BsmtQual\"] = df_train[\"BsmtQual\"].str.replace(\"abc\", \"ABC\")`"
   ]
  },
  {
   "cell_type": "code",
   "execution_count": 27,
   "metadata": {},
   "outputs": [
    {
     "data": {
      "text/html": [
       "<div>\n",
       "<style scoped>\n",
       "    .dataframe tbody tr th:only-of-type {\n",
       "        vertical-align: middle;\n",
       "    }\n",
       "\n",
       "    .dataframe tbody tr th {\n",
       "        vertical-align: top;\n",
       "    }\n",
       "\n",
       "    .dataframe thead th {\n",
       "        text-align: right;\n",
       "    }\n",
       "</style>\n",
       "<table border=\"1\" class=\"dataframe\">\n",
       "  <thead>\n",
       "    <tr style=\"text-align: right;\">\n",
       "      <th></th>\n",
       "      <th>Total</th>\n",
       "      <th>Percent</th>\n",
       "    </tr>\n",
       "  </thead>\n",
       "  <tbody>\n",
       "    <tr>\n",
       "      <th>MasVnrArea_missing_ind</th>\n",
       "      <td>0</td>\n",
       "      <td>0.0</td>\n",
       "    </tr>\n",
       "    <tr>\n",
       "      <th>Foundation</th>\n",
       "      <td>0</td>\n",
       "      <td>0.0</td>\n",
       "    </tr>\n",
       "    <tr>\n",
       "      <th>RoofMatl</th>\n",
       "      <td>0</td>\n",
       "      <td>0.0</td>\n",
       "    </tr>\n",
       "    <tr>\n",
       "      <th>Exterior1st</th>\n",
       "      <td>0</td>\n",
       "      <td>0.0</td>\n",
       "    </tr>\n",
       "    <tr>\n",
       "      <th>Exterior2nd</th>\n",
       "      <td>0</td>\n",
       "      <td>0.0</td>\n",
       "    </tr>\n",
       "    <tr>\n",
       "      <th>MasVnrType</th>\n",
       "      <td>0</td>\n",
       "      <td>0.0</td>\n",
       "    </tr>\n",
       "    <tr>\n",
       "      <th>MasVnrArea</th>\n",
       "      <td>0</td>\n",
       "      <td>0.0</td>\n",
       "    </tr>\n",
       "    <tr>\n",
       "      <th>ExterQual</th>\n",
       "      <td>0</td>\n",
       "      <td>0.0</td>\n",
       "    </tr>\n",
       "    <tr>\n",
       "      <th>ExterCond</th>\n",
       "      <td>0</td>\n",
       "      <td>0.0</td>\n",
       "    </tr>\n",
       "    <tr>\n",
       "      <th>BsmtQual</th>\n",
       "      <td>0</td>\n",
       "      <td>0.0</td>\n",
       "    </tr>\n",
       "    <tr>\n",
       "      <th>YearRemodAdd</th>\n",
       "      <td>0</td>\n",
       "      <td>0.0</td>\n",
       "    </tr>\n",
       "    <tr>\n",
       "      <th>BsmtCond</th>\n",
       "      <td>0</td>\n",
       "      <td>0.0</td>\n",
       "    </tr>\n",
       "    <tr>\n",
       "      <th>BsmtExposure</th>\n",
       "      <td>0</td>\n",
       "      <td>0.0</td>\n",
       "    </tr>\n",
       "    <tr>\n",
       "      <th>BsmtFinType1</th>\n",
       "      <td>0</td>\n",
       "      <td>0.0</td>\n",
       "    </tr>\n",
       "    <tr>\n",
       "      <th>BsmtFinSF1</th>\n",
       "      <td>0</td>\n",
       "      <td>0.0</td>\n",
       "    </tr>\n",
       "    <tr>\n",
       "      <th>BsmtFinType2</th>\n",
       "      <td>0</td>\n",
       "      <td>0.0</td>\n",
       "    </tr>\n",
       "    <tr>\n",
       "      <th>BsmtFinSF2</th>\n",
       "      <td>0</td>\n",
       "      <td>0.0</td>\n",
       "    </tr>\n",
       "    <tr>\n",
       "      <th>BsmtUnfSF</th>\n",
       "      <td>0</td>\n",
       "      <td>0.0</td>\n",
       "    </tr>\n",
       "    <tr>\n",
       "      <th>RoofStyle</th>\n",
       "      <td>0</td>\n",
       "      <td>0.0</td>\n",
       "    </tr>\n",
       "    <tr>\n",
       "      <th>YearBuilt</th>\n",
       "      <td>0</td>\n",
       "      <td>0.0</td>\n",
       "    </tr>\n",
       "  </tbody>\n",
       "</table>\n",
       "</div>"
      ],
      "text/plain": [
       "                        Total  Percent\n",
       "MasVnrArea_missing_ind      0      0.0\n",
       "Foundation                  0      0.0\n",
       "RoofMatl                    0      0.0\n",
       "Exterior1st                 0      0.0\n",
       "Exterior2nd                 0      0.0\n",
       "MasVnrType                  0      0.0\n",
       "MasVnrArea                  0      0.0\n",
       "ExterQual                   0      0.0\n",
       "ExterCond                   0      0.0\n",
       "BsmtQual                    0      0.0\n",
       "YearRemodAdd                0      0.0\n",
       "BsmtCond                    0      0.0\n",
       "BsmtExposure                0      0.0\n",
       "BsmtFinType1                0      0.0\n",
       "BsmtFinSF1                  0      0.0\n",
       "BsmtFinType2                0      0.0\n",
       "BsmtFinSF2                  0      0.0\n",
       "BsmtUnfSF                   0      0.0\n",
       "RoofStyle                   0      0.0\n",
       "YearBuilt                   0      0.0"
      ]
     },
     "execution_count": 27,
     "metadata": {},
     "output_type": "execute_result"
    }
   ],
   "source": [
    "# missing data\n",
    "total = df_train.isnull().sum().sort_values(ascending=False)\n",
    "percent = (df_train.isnull().sum()/df_train.isnull().count()).sort_values(ascending=False)\n",
    "missing_data = pd.concat([total, percent], axis=1, keys=['Total', 'Percent'])\n",
    "missing_data.head(20)"
   ]
  },
  {
   "cell_type": "markdown",
   "metadata": {},
   "source": [
    "## Variable Transformation"
   ]
  },
  {
   "cell_type": "markdown",
   "metadata": {},
   "source": [
    "### Numeric Variables"
   ]
  },
  {
   "cell_type": "code",
   "execution_count": 28,
   "metadata": {},
   "outputs": [
    {
     "data": {
      "text/plain": [
       "<AxesSubplot:xlabel='1stFlrSF', ylabel='Count'>"
      ]
     },
     "execution_count": 28,
     "metadata": {},
     "output_type": "execute_result"
    },
    {
     "data": {
      "image/png": "[encoded data removed]",
      "text/plain": [
       "<Figure size 432x288 with 1 Axes>"
      ]
     },
     "metadata": {
      "needs_background": "light"
     },
     "output_type": "display_data"
    }
   ],
   "source": [
    "sns.histplot(df_train[\"1stFlrSF\"])"
   ]
  },
  {
   "cell_type": "markdown",
   "metadata": {},
   "source": [
    "We will apply the logarithmic transformation:"
   ]
  },
  {
   "cell_type": "code",
   "execution_count": 29,
   "metadata": {},
   "outputs": [
    {
     "data": {
      "text/plain": [
       "<AxesSubplot:xlabel='1stFlrSF_log', ylabel='Count'>"
      ]
     },
     "execution_count": 29,
     "metadata": {},
     "output_type": "execute_result"
    },
    {
     "data": {
      "image/png": "[encoded data removed]",
      "text/plain": [
       "<Figure size 432x288 with 1 Axes>"
      ]
     },
     "metadata": {
      "needs_background": "light"
     },
     "output_type": "display_data"
    }
   ],
   "source": [
    "# log transformation\n",
    "df_train[\"1stFlrSF_log\"] = df_train[\"1stFlrSF\"].apply(np.log)\n",
    "sns.histplot(df_train[\"1stFlrSF_log\"])"
   ]
  },
  {
   "cell_type": "code",
   "execution_count": 30,
   "metadata": {},
   "outputs": [],
   "source": [
    "# Scaling\n",
    "from sklearn.preprocessing import StandardScaler\n",
    "\n",
    "num_feats = df_train.dtypes[df_train.dtypes != 'object'].index.tolist()\n",
    "scaler = StandardScaler()"
   ]
  },
  {
   "cell_type": "code",
   "execution_count": 31,
   "metadata": {},
   "outputs": [
    {
     "data": {
      "text/html": [
       "<div>\n",
       "<style scoped>\n",
       "    .dataframe tbody tr th:only-of-type {\n",
       "        vertical-align: middle;\n",
       "    }\n",
       "\n",
       "    .dataframe tbody tr th {\n",
       "        vertical-align: top;\n",
       "    }\n",
       "\n",
       "    .dataframe thead th {\n",
       "        text-align: right;\n",
       "    }\n",
       "</style>\n",
       "<table border=\"1\" class=\"dataframe\">\n",
       "  <thead>\n",
       "    <tr style=\"text-align: right;\">\n",
       "      <th></th>\n",
       "      <th>0</th>\n",
       "      <th>1</th>\n",
       "      <th>2</th>\n",
       "      <th>3</th>\n",
       "      <th>4</th>\n",
       "      <th>5</th>\n",
       "      <th>6</th>\n",
       "      <th>7</th>\n",
       "      <th>8</th>\n",
       "      <th>9</th>\n",
       "      <th>...</th>\n",
       "      <th>33</th>\n",
       "      <th>34</th>\n",
       "      <th>35</th>\n",
       "      <th>36</th>\n",
       "      <th>37</th>\n",
       "      <th>38</th>\n",
       "      <th>39</th>\n",
       "      <th>40</th>\n",
       "      <th>41</th>\n",
       "      <th>42</th>\n",
       "    </tr>\n",
       "  </thead>\n",
       "  <tbody>\n",
       "    <tr>\n",
       "      <th>0</th>\n",
       "      <td>-1.730427</td>\n",
       "      <td>0.073400</td>\n",
       "      <td>-0.229905</td>\n",
       "      <td>-0.205430</td>\n",
       "      <td>0.654978</td>\n",
       "      <td>-0.517424</td>\n",
       "      <td>1.052001</td>\n",
       "      <td>0.879514</td>\n",
       "      <td>0.519179</td>\n",
       "      <td>0.610914</td>\n",
       "      <td>...</td>\n",
       "      <td>-0.063687</td>\n",
       "      <td>-0.087718</td>\n",
       "      <td>-1.602043</td>\n",
       "      <td>0.138826</td>\n",
       "      <td>0.346982</td>\n",
       "      <td>-0.464579</td>\n",
       "      <td>-0.242448</td>\n",
       "      <td>-0.074253</td>\n",
       "      <td>-0.805921</td>\n",
       "      <td>-0.805921</td>\n",
       "    </tr>\n",
       "    <tr>\n",
       "      <th>1</th>\n",
       "      <td>-1.728054</td>\n",
       "      <td>-0.872215</td>\n",
       "      <td>0.481508</td>\n",
       "      <td>-0.089068</td>\n",
       "      <td>-0.070070</td>\n",
       "      <td>2.178727</td>\n",
       "      <td>0.157594</td>\n",
       "      <td>-0.428846</td>\n",
       "      <td>-0.570811</td>\n",
       "      <td>1.235786</td>\n",
       "      <td>...</td>\n",
       "      <td>-0.063687</td>\n",
       "      <td>-0.087718</td>\n",
       "      <td>-0.490944</td>\n",
       "      <td>-0.614137</td>\n",
       "      <td>0.007105</td>\n",
       "      <td>-0.464579</td>\n",
       "      <td>-0.242448</td>\n",
       "      <td>-0.074253</td>\n",
       "      <td>0.424588</td>\n",
       "      <td>0.424588</td>\n",
       "    </tr>\n",
       "    <tr>\n",
       "      <th>2</th>\n",
       "      <td>-1.725680</td>\n",
       "      <td>0.073400</td>\n",
       "      <td>-0.087622</td>\n",
       "      <td>0.077887</td>\n",
       "      <td>0.654978</td>\n",
       "      <td>-0.517424</td>\n",
       "      <td>0.985749</td>\n",
       "      <td>0.831056</td>\n",
       "      <td>0.330099</td>\n",
       "      <td>0.105504</td>\n",
       "      <td>...</td>\n",
       "      <td>-0.063687</td>\n",
       "      <td>-0.087718</td>\n",
       "      <td>0.990520</td>\n",
       "      <td>0.138826</td>\n",
       "      <td>0.535802</td>\n",
       "      <td>-0.464579</td>\n",
       "      <td>-0.242448</td>\n",
       "      <td>-0.074253</td>\n",
       "      <td>-0.577359</td>\n",
       "      <td>-0.577359</td>\n",
       "    </tr>\n",
       "    <tr>\n",
       "      <th>3</th>\n",
       "      <td>-1.723307</td>\n",
       "      <td>0.309804</td>\n",
       "      <td>-0.467043</td>\n",
       "      <td>-0.094127</td>\n",
       "      <td>0.654978</td>\n",
       "      <td>-0.517424</td>\n",
       "      <td>-1.863105</td>\n",
       "      <td>-0.719593</td>\n",
       "      <td>-0.570811</td>\n",
       "      <td>-0.514773</td>\n",
       "      <td>...</td>\n",
       "      <td>-0.063687</td>\n",
       "      <td>-0.087718</td>\n",
       "      <td>-1.602043</td>\n",
       "      <td>-1.367100</td>\n",
       "      <td>-0.515297</td>\n",
       "      <td>-0.464579</td>\n",
       "      <td>-0.242448</td>\n",
       "      <td>-0.074253</td>\n",
       "      <td>-0.439148</td>\n",
       "      <td>-0.439148</td>\n",
       "    </tr>\n",
       "    <tr>\n",
       "      <th>4</th>\n",
       "      <td>-1.720934</td>\n",
       "      <td>0.073400</td>\n",
       "      <td>0.671219</td>\n",
       "      <td>0.382453</td>\n",
       "      <td>1.380027</td>\n",
       "      <td>-0.517424</td>\n",
       "      <td>0.952622</td>\n",
       "      <td>0.734141</td>\n",
       "      <td>1.375600</td>\n",
       "      <td>0.493751</td>\n",
       "      <td>...</td>\n",
       "      <td>-0.063687</td>\n",
       "      <td>-0.087718</td>\n",
       "      <td>2.101618</td>\n",
       "      <td>0.138826</td>\n",
       "      <td>0.869385</td>\n",
       "      <td>-0.464579</td>\n",
       "      <td>-0.242448</td>\n",
       "      <td>-0.074253</td>\n",
       "      <td>0.116177</td>\n",
       "      <td>0.116177</td>\n",
       "    </tr>\n",
       "    <tr>\n",
       "      <th>...</th>\n",
       "      <td>...</td>\n",
       "      <td>...</td>\n",
       "      <td>...</td>\n",
       "      <td>...</td>\n",
       "      <td>...</td>\n",
       "      <td>...</td>\n",
       "      <td>...</td>\n",
       "      <td>...</td>\n",
       "      <td>...</td>\n",
       "      <td>...</td>\n",
       "      <td>...</td>\n",
       "      <td>...</td>\n",
       "      <td>...</td>\n",
       "      <td>...</td>\n",
       "      <td>...</td>\n",
       "      <td>...</td>\n",
       "      <td>...</td>\n",
       "      <td>...</td>\n",
       "      <td>...</td>\n",
       "      <td>...</td>\n",
       "      <td>...</td>\n",
       "    </tr>\n",
       "    <tr>\n",
       "      <th>1454</th>\n",
       "      <td>1.722783</td>\n",
       "      <td>0.073400</td>\n",
       "      <td>-0.372188</td>\n",
       "      <td>-0.259362</td>\n",
       "      <td>-0.070070</td>\n",
       "      <td>-0.517424</td>\n",
       "      <td>0.919496</td>\n",
       "      <td>0.734141</td>\n",
       "      <td>-0.570811</td>\n",
       "      <td>-1.010995</td>\n",
       "      <td>...</td>\n",
       "      <td>-0.063687</td>\n",
       "      <td>-0.087718</td>\n",
       "      <td>0.620154</td>\n",
       "      <td>-0.614137</td>\n",
       "      <td>-0.074717</td>\n",
       "      <td>-0.464579</td>\n",
       "      <td>-0.242448</td>\n",
       "      <td>-0.074253</td>\n",
       "      <td>-0.465647</td>\n",
       "      <td>-0.465647</td>\n",
       "    </tr>\n",
       "    <tr>\n",
       "      <th>1455</th>\n",
       "      <td>1.725157</td>\n",
       "      <td>-0.872215</td>\n",
       "      <td>0.718646</td>\n",
       "      <td>0.272668</td>\n",
       "      <td>-0.070070</td>\n",
       "      <td>0.381293</td>\n",
       "      <td>0.223846</td>\n",
       "      <td>0.152647</td>\n",
       "      <td>0.090968</td>\n",
       "      <td>0.803889</td>\n",
       "      <td>...</td>\n",
       "      <td>-0.063687</td>\n",
       "      <td>-0.087718</td>\n",
       "      <td>-1.602043</td>\n",
       "      <td>1.644752</td>\n",
       "      <td>0.365864</td>\n",
       "      <td>-0.464579</td>\n",
       "      <td>-0.242448</td>\n",
       "      <td>-0.074253</td>\n",
       "      <td>1.997819</td>\n",
       "      <td>1.997819</td>\n",
       "    </tr>\n",
       "    <tr>\n",
       "      <th>1456</th>\n",
       "      <td>1.727530</td>\n",
       "      <td>0.309804</td>\n",
       "      <td>-0.182478</td>\n",
       "      <td>-0.145529</td>\n",
       "      <td>0.654978</td>\n",
       "      <td>3.077444</td>\n",
       "      <td>-1.001824</td>\n",
       "      <td>1.024887</td>\n",
       "      <td>-0.570811</td>\n",
       "      <td>-0.379231</td>\n",
       "      <td>...</td>\n",
       "      <td>-0.063687</td>\n",
       "      <td>4.951368</td>\n",
       "      <td>-0.490944</td>\n",
       "      <td>1.644752</td>\n",
       "      <td>1.077087</td>\n",
       "      <td>-0.464579</td>\n",
       "      <td>-0.242448</td>\n",
       "      <td>-0.074253</td>\n",
       "      <td>0.233041</td>\n",
       "      <td>0.233041</td>\n",
       "    </tr>\n",
       "    <tr>\n",
       "      <th>1457</th>\n",
       "      <td>1.729903</td>\n",
       "      <td>-0.872215</td>\n",
       "      <td>-0.087622</td>\n",
       "      <td>-0.077229</td>\n",
       "      <td>-0.795118</td>\n",
       "      <td>0.381293</td>\n",
       "      <td>-0.703688</td>\n",
       "      <td>0.540309</td>\n",
       "      <td>-0.570811</td>\n",
       "      <td>-0.898426</td>\n",
       "      <td>...</td>\n",
       "      <td>-0.063687</td>\n",
       "      <td>-0.087718</td>\n",
       "      <td>-0.861311</td>\n",
       "      <td>1.644752</td>\n",
       "      <td>-0.488548</td>\n",
       "      <td>-0.464579</td>\n",
       "      <td>-0.242448</td>\n",
       "      <td>-0.074253</td>\n",
       "      <td>-0.074961</td>\n",
       "      <td>-0.074961</td>\n",
       "    </tr>\n",
       "    <tr>\n",
       "      <th>1458</th>\n",
       "      <td>1.732277</td>\n",
       "      <td>-0.872215</td>\n",
       "      <td>0.244370</td>\n",
       "      <td>-0.054968</td>\n",
       "      <td>-0.795118</td>\n",
       "      <td>0.381293</td>\n",
       "      <td>-0.206795</td>\n",
       "      <td>-0.961882</td>\n",
       "      <td>-0.570811</td>\n",
       "      <td>0.895782</td>\n",
       "      <td>...</td>\n",
       "      <td>-0.063687</td>\n",
       "      <td>-0.087718</td>\n",
       "      <td>-0.120578</td>\n",
       "      <td>0.138826</td>\n",
       "      <td>-0.420887</td>\n",
       "      <td>-0.464579</td>\n",
       "      <td>-0.242448</td>\n",
       "      <td>-0.074253</td>\n",
       "      <td>0.409482</td>\n",
       "      <td>0.409482</td>\n",
       "    </tr>\n",
       "  </tbody>\n",
       "</table>\n",
       "<p>1459 rows × 43 columns</p>\n",
       "</div>"
      ],
      "text/plain": [
       "            0         1         2         3         4         5         6   \\\n",
       "0    -1.730427  0.073400 -0.229905 -0.205430  0.654978 -0.517424  1.052001   \n",
       "1    -1.728054 -0.872215  0.481508 -0.089068 -0.070070  2.178727  0.157594   \n",
       "2    -1.725680  0.073400 -0.087622  0.077887  0.654978 -0.517424  0.985749   \n",
       "3    -1.723307  0.309804 -0.467043 -0.094127  0.654978 -0.517424 -1.863105   \n",
       "4    -1.720934  0.073400  0.671219  0.382453  1.380027 -0.517424  0.952622   \n",
       "...        ...       ...       ...       ...       ...       ...       ...   \n",
       "1454  1.722783  0.073400 -0.372188 -0.259362 -0.070070 -0.517424  0.919496   \n",
       "1455  1.725157 -0.872215  0.718646  0.272668 -0.070070  0.381293  0.223846   \n",
       "1456  1.727530  0.309804 -0.182478 -0.145529  0.654978  3.077444 -1.001824   \n",
       "1457  1.729903 -0.872215 -0.087622 -0.077229 -0.795118  0.381293 -0.703688   \n",
       "1458  1.732277 -0.872215  0.244370 -0.054968 -0.795118  0.381293 -0.206795   \n",
       "\n",
       "            7         8         9   ...        33        34        35  \\\n",
       "0     0.879514  0.519179  0.610914  ... -0.063687 -0.087718 -1.602043   \n",
       "1    -0.428846 -0.570811  1.235786  ... -0.063687 -0.087718 -0.490944   \n",
       "2     0.831056  0.330099  0.105504  ... -0.063687 -0.087718  0.990520   \n",
       "3    -0.719593 -0.570811 -0.514773  ... -0.063687 -0.087718 -1.602043   \n",
       "4     0.734141  1.375600  0.493751  ... -0.063687 -0.087718  2.101618   \n",
       "...        ...       ...       ...  ...       ...       ...       ...   \n",
       "1454  0.734141 -0.570811 -1.010995  ... -0.063687 -0.087718  0.620154   \n",
       "1455  0.152647  0.090968  0.803889  ... -0.063687 -0.087718 -1.602043   \n",
       "1456  1.024887 -0.570811 -0.379231  ... -0.063687  4.951368 -0.490944   \n",
       "1457  0.540309 -0.570811 -0.898426  ... -0.063687 -0.087718 -0.861311   \n",
       "1458 -0.961882 -0.570811  0.895782  ... -0.063687 -0.087718 -0.120578   \n",
       "\n",
       "            36        37        38        39        40        41        42  \n",
       "0     0.138826  0.346982 -0.464579 -0.242448 -0.074253 -0.805921 -0.805921  \n",
       "1    -0.614137  0.007105 -0.464579 -0.242448 -0.074253  0.424588  0.424588  \n",
       "2     0.138826  0.535802 -0.464579 -0.242448 -0.074253 -0.577359 -0.577359  \n",
       "3    -1.367100 -0.515297 -0.464579 -0.242448 -0.074253 -0.439148 -0.439148  \n",
       "4     0.138826  0.869385 -0.464579 -0.242448 -0.074253  0.116177  0.116177  \n",
       "...        ...       ...       ...       ...       ...       ...       ...  \n",
       "1454 -0.614137 -0.074717 -0.464579 -0.242448 -0.074253 -0.465647 -0.465647  \n",
       "1455  1.644752  0.365864 -0.464579 -0.242448 -0.074253  1.997819  1.997819  \n",
       "1456  1.644752  1.077087 -0.464579 -0.242448 -0.074253  0.233041  0.233041  \n",
       "1457  1.644752 -0.488548 -0.464579 -0.242448 -0.074253 -0.074961 -0.074961  \n",
       "1458  0.138826 -0.420887 -0.464579 -0.242448 -0.074253  0.409482  0.409482  \n",
       "\n",
       "[1459 rows x 43 columns]"
      ]
     },
     "execution_count": 31,
     "metadata": {},
     "output_type": "execute_result"
    }
   ],
   "source": [
    "df_train_scaled = pd.DataFrame(scaler.fit_transform(df_train[num_feats+[\"1stFlrSF_log\"]]))\n",
    "df_train_scaled"
   ]
  },
  {
   "cell_type": "code",
   "execution_count": 32,
   "metadata": {},
   "outputs": [],
   "source": [
    "# lets map ORDINAL features\n",
    "df_train = df_train.replace({\"Alley\" : {\"Grvl\" : 1, \"Pave\" : 2},\n",
    "                           \"BsmtCond\" : {\"None\" : 0, \"Po\" : 1, \"Fa\" : 2, \"TA\" : 3, \"Gd\" : 4, \"Ex\" : 5},\n",
    "                           \"BsmtExposure\" : {\"No\" : 0, \"Mn\" : 1, \"Av\": 2, \"Gd\" : 3},\n",
    "                           \"BsmtFinType1\" : {\"None\" : 0, \"Unf\" : 1, \"LwQ\": 2, \"Rec\" : 3, \"BLQ\" : 4,\n",
    "                                             \"ALQ\" : 5, \"GLQ\" : 6},\n",
    "                           \"BsmtFinType2\" : {\"None\" : 0, \"Unf\" : 1, \"LwQ\": 2, \"Rec\" : 3, \"BLQ\" : 4,\n",
    "                                             \"ALQ\" : 5, \"GLQ\" : 6},\n",
    "                           \"BsmtQual\" : {\"None\" : 0, \"Po\" : 1, \"Fa\" : 2, \"TA\": 3, \"Gd\" : 4, \"Ex\" : 5},\n",
    "                           \"ExterCond\" : {\"Po\" : 1, \"Fa\" : 2, \"TA\": 3, \"Gd\": 4, \"Ex\" : 5},\n",
    "                           \"ExterQual\" : {\"Po\" : 1, \"Fa\" : 2, \"TA\": 3, \"Gd\": 4, \"Ex\" : 5},\n",
    "                           \"FireplaceQu\" : {\"No\" : 0, \"Po\" : 1, \"Fa\" : 2, \"TA\" : 3, \"Gd\" : 4, \"Ex\" : 5},\n",
    "                           \"Functional\" : {\"Sal\" : 1, \"Sev\" : 2, \"Maj2\" : 3, \"Maj1\" : 4, \"Mod\": 5,\n",
    "                                           \"Min2\" : 6, \"Min1\" : 7, \"Typ\" : 8},\n",
    "                           \"GarageCond\" : {\"None\" : 0, \"Po\" : 1, \"Fa\" : 2, \"TA\" : 3, \"Gd\" : 4, \"Ex\" : 5},\n",
    "                           \"GarageQual\" : {\"None\" : 0, \"Po\" : 1, \"Fa\" : 2, \"TA\" : 3, \"Gd\" : 4, \"Ex\" : 5},\n",
    "                           \"HeatingQC\" : {\"Po\" : 1, \"Fa\" : 2, \"TA\" : 3, \"Gd\" : 4, \"Ex\" : 5},\n",
    "                           \"KitchenQual\" : {\"Po\" : 1, \"Fa\" : 2, \"TA\" : 3, \"Gd\" : 4, \"Ex\" : 5},\n",
    "                           \"LandSlope\" : {\"Sev\" : 1, \"Mod\" : 2, \"Gtl\" : 3},\n",
    "                           \"LotShape\" : {\"IR3\" : 1, \"IR2\" : 2, \"IR1\" : 3, \"Reg\" : 4},\n",
    "                           \"PavedDrive\" : {\"N\" : 0, \"P\" : 1, \"Y\" : 2},\n",
    "                           \"PoolQC\" : {\"No\" : 0, \"Fa\" : 1, \"TA\" : 2, \"Gd\" : 3, \"Ex\" : 4},\n",
    "                           \"Street\" : {\"Grvl\" : 1, \"Pave\" : 2},\n",
    "                           \"Utilities\" : {\"ELO\" : 1, \"NoSeWa\" : 2, \"NoSewr\" : 3, \"AllPub\" : 4}}\n",
    "                         )"
   ]
  },
  {
   "cell_type": "code",
   "execution_count": 33,
   "metadata": {},
   "outputs": [
    {
     "data": {
      "text/plain": [
       "0       4\n",
       "1       4\n",
       "2       4\n",
       "3       4\n",
       "4       4\n",
       "       ..\n",
       "1454    4\n",
       "1455    4\n",
       "1456    4\n",
       "1457    4\n",
       "1458    4\n",
       "Name: Utilities, Length: 1459, dtype: int64"
      ]
     },
     "execution_count": 33,
     "metadata": {},
     "output_type": "execute_result"
    }
   ],
   "source": [
    "df_train['Utilities']"
   ]
  },
  {
   "cell_type": "code",
   "execution_count": 55,
   "metadata": {},
   "outputs": [],
   "source": [
    "cat_feats = df_train.dtypes[df_train.dtypes == 'object'].index.tolist()\n",
    "df_dummy = pd.get_dummies(df_train[cat_feats])\n",
    "df_dummy.to_csv(\"./df_dummy.csv\",index=False)"
   ]
  },
  {
   "cell_type": "markdown",
   "metadata": {},
   "source": [
    "# Walkthrough II"
   ]
  },
  {
   "cell_type": "markdown",
   "metadata": {},
   "source": [
    "# Combination of Existing Features"
   ]
  },
  {
   "cell_type": "markdown",
   "metadata": {},
   "source": [
    "We can start with a simple addition. We have two variables 1stFlrSF and 2ndFlrSF but we don't have the total square footage.\n",
    "\n",
    "We can create a new feature which represents the sum of these two:"
   ]
  },
  {
   "cell_type": "code",
   "execution_count": 34,
   "metadata": {},
   "outputs": [
    {
     "data": {
      "text/plain": [
       "<AxesSubplot:xlabel='1stFlr_2ndFlr_SF', ylabel='SalePrice'>"
      ]
     },
     "execution_count": 34,
     "metadata": {},
     "output_type": "execute_result"
    },
    {
     "data": {
      "image/png": "[encoded data removed]",
      "text/plain": [
       "<Figure size 648x432 with 1 Axes>"
      ]
     },
     "metadata": {
      "needs_background": "light"
     },
     "output_type": "display_data"
    }
   ],
   "source": [
    "df_train['1stFlr_2ndFlr_SF'] = df_train['1stFlrSF'] + df_train['2ndFlrSF']\n",
    "\n",
    "\n",
    "f, ax = plt.subplots(figsize=(9, 6))\n",
    "# seaborn's regression plot\n",
    "sns.regplot(x=(df_train['1stFlr_2ndFlr_SF']), y=df_train['SalePrice'], data=df_train, order=1)"
   ]
  },
  {
   "cell_type": "markdown",
   "metadata": {},
   "source": [
    "We can see that there is a significant relationship between the new variable and our target.\n",
    "\n",
    "Another possibility is OverallGrade."
   ]
  },
  {
   "cell_type": "code",
   "execution_count": 35,
   "metadata": {},
   "outputs": [],
   "source": [
    "# overall quality of a house\n",
    "df_train[\"OverallGrade\"] = df_train[\"OverallQual\"] * df_train[\"OverallCond\"]"
   ]
  },
  {
   "cell_type": "code",
   "execution_count": 36,
   "metadata": {},
   "outputs": [
    {
     "data": {
      "text/plain": [
       "0       35\n",
       "1       48\n",
       "2       35\n",
       "3       35\n",
       "4       40\n",
       "        ..\n",
       "1454    30\n",
       "1455    36\n",
       "1456    63\n",
       "1457    30\n",
       "1458    30\n",
       "Name: OverallGrade, Length: 1459, dtype: int64"
      ]
     },
     "execution_count": 36,
     "metadata": {},
     "output_type": "execute_result"
    }
   ],
   "source": [
    "df_train[\"OverallGrade\"]"
   ]
  },
  {
   "cell_type": "markdown",
   "metadata": {},
   "source": [
    "Share some of your features on Slack or Zoom Chat!"
   ]
  },
  {
   "cell_type": "markdown",
   "metadata": {},
   "source": [
    "Simplification of the Existing Features"
   ]
  },
  {
   "cell_type": "code",
   "execution_count": 37,
   "metadata": {},
   "outputs": [
    {
     "data": {
      "text/plain": [
       "(-0.5, 5.5, 0.0, 800000.0)"
      ]
     },
     "execution_count": 37,
     "metadata": {},
     "output_type": "execute_result"
    },
    {
     "data": {
      "image/png": "[encoded data removed]",
      "text/plain": [
       "<Figure size 648x432 with 1 Axes>"
      ]
     },
     "metadata": {
      "needs_background": "light"
     },
     "output_type": "display_data"
    }
   ],
   "source": [
    "var = 'GarageQual'\n",
    "f, ax = plt.subplots(figsize=(9, 6))\n",
    "data = df_train[['SalePrice',var]]\n",
    "fig = sns.boxplot(x=var, y=\"SalePrice\", data=data)\n",
    "fig.axis(ymin=0, ymax=800000)"
   ]
  },
  {
   "cell_type": "markdown",
   "metadata": {},
   "source": [
    "We can see that there are categories for which the SalePrice is similar. If we move from the category 0 to 1 or 2, there is no change in SalePrice. Therefore, we can merge these categories into one:"
   ]
  },
  {
   "cell_type": "code",
   "execution_count": 38,
   "metadata": {},
   "outputs": [],
   "source": [
    "df_train[\"SimplGarageQual\"] = df_train.GarageQual.replace({1 : 1, # bad\n",
    "                                                     2 : 1, 3 : 1, # average\n",
    "                                                     4 : 2, 5 : 2 # good\n",
    "                                                    })"
   ]
  },
  {
   "cell_type": "code",
   "execution_count": 39,
   "metadata": {
    "scrolled": false
   },
   "outputs": [
    {
     "data": {
      "text/plain": [
       "(-0.5, 2.5, 0.0, 800000.0)"
      ]
     },
     "execution_count": 39,
     "metadata": {},
     "output_type": "execute_result"
    },
    {
     "data": {
      "image/png": "[encoded data removed]",
      "text/plain": [
       "<Figure size 648x432 with 1 Axes>"
      ]
     },
     "metadata": {
      "needs_background": "light"
     },
     "output_type": "display_data"
    }
   ],
   "source": [
    "var = 'SimplGarageQual'\n",
    "f, ax = plt.subplots(figsize=(9, 6))\n",
    "data = df_train[['SalePrice',var]]\n",
    "fig = sns.boxplot(x=var, y=\"SalePrice\", data=data)\n",
    "fig.axis(ymin=0, ymax=800000)"
   ]
  },
  {
   "cell_type": "markdown",
   "metadata": {},
   "source": [
    "In the end, we will create a new data-frame with numeric features only (including those we have created during transformations)."
   ]
  },
  {
   "cell_type": "code",
   "execution_count": 40,
   "metadata": {},
   "outputs": [],
   "source": [
    "final_num_feats = df_train.dtypes[df_train.dtypes != 'object'].index.tolist()\n",
    "df_numeric = df_train[final_num_feats]\n",
    "df_numeric.to_csv(\"./df_numeric.csv\",index=False)"
   ]
  },
  {
   "cell_type": "markdown",
   "metadata": {},
   "source": [
    "We have two Pandas DataFrames ready:\n",
    "\n",
    "* df_numeric\n",
    "* df_dummy\n",
    "\n",
    "We will use them to cover following two parts of this tutorial\n",
    "\n",
    "* Variable Selection\n",
    "* PCA (Principal Components Analysis)"
   ]
  },
  {
   "cell_type": "markdown",
   "metadata": {},
   "source": [
    "**Variable Selection**  \n",
    "We are going to implement elements for filter feature selectors based on the following criteria:\n",
    "\n",
    "**Small variance**  \n",
    "One of each pair of features, which are correlated together more than x  \n",
    "Before doing any transformations we will extract our target variable to keep it as it is so we don't \"accidentally\" transform it."
   ]
  },
  {
   "cell_type": "code",
   "execution_count": 42,
   "metadata": {},
   "outputs": [
    {
     "name": "stderr",
     "output_type": "stream",
     "text": [
      "/Users/seiryu8808/opt/anaconda3/lib/python3.7/site-packages/pandas/core/frame.py:4170: SettingWithCopyWarning: \n",
      "A value is trying to be set on a copy of a slice from a DataFrame\n",
      "\n",
      "See the caveats in the documentation: https://pandas.pydata.org/pandas-docs/stable/user_guide/indexing.html#returning-a-view-versus-a-copy\n",
      "  errors=errors,\n"
     ]
    }
   ],
   "source": [
    "y = df_numeric['SalePrice']\n",
    "df_numeric.drop(\"SalePrice\",axis=1, inplace=True)"
   ]
  },
  {
   "cell_type": "markdown",
   "metadata": {},
   "source": [
    "Part 1: Removing Features With Small Variance"
   ]
  },
  {
   "cell_type": "markdown",
   "metadata": {},
   "source": [
    "First of all, we will remove the columns with very little variance. Small variance equals small predictive power because all houses have very similar values.\n",
    "\n",
    "For most of our variable selection, we can use methods from sklearn:"
   ]
  },
  {
   "cell_type": "code",
   "execution_count": 43,
   "metadata": {},
   "outputs": [],
   "source": [
    "from sklearn.feature_selection import VarianceThreshold\n",
    "\n",
    "vt = VarianceThreshold(0.1)\n",
    "df_transformed = vt.fit_transform(df_numeric)"
   ]
  },
  {
   "cell_type": "code",
   "execution_count": 44,
   "metadata": {},
   "outputs": [],
   "source": [
    "# columns we have selected\n",
    "# get_support() is method of VarianceThreshold and stores boolean of each variable in the numpy array.\n",
    "selected_columns = df_numeric.columns[vt.get_support()]\n",
    "# transforming an array back to a data-frame preserves column labels\n",
    "df_transformed = pd.DataFrame(df_transformed, columns = selected_columns)"
   ]
  },
  {
   "cell_type": "markdown",
   "metadata": {},
   "source": [
    "Part 2: Removing Correlated Features  \n",
    "The goal of this part is to remove one feature from each highly correlated pair.  \n",
    "  \n",
    "We are going to do this in 3 steps:\n",
    "  \n",
    "1. Calculate a correlation matrix\n",
    "2. Get pairs of highly correlated features\n",
    "3. Remove correlated columns\n"
   ]
  },
  {
   "cell_type": "code",
   "execution_count": 46,
   "metadata": {},
   "outputs": [],
   "source": [
    "# step 1\n",
    "df_corr = df_transformed.corr().abs()\n"
   ]
  },
  {
   "cell_type": "code",
   "execution_count": 47,
   "metadata": {},
   "outputs": [],
   "source": [
    "# step 2\n",
    "indices = np.where(df_corr > 0.8) \n",
    "indices = [(df_corr.index[x], df_corr.columns[y]) for x, y in zip(*indices) if x != y and x < y]"
   ]
  },
  {
   "cell_type": "code",
   "execution_count": 48,
   "metadata": {},
   "outputs": [],
   "source": [
    "# step 3\n",
    "for idx in indices: #each pair\n",
    "    try:\n",
    "        df_transformed.drop(idx[1], axis = 1, inplace=True)\n",
    "    except KeyError:\n",
    "        pass"
   ]
  },
  {
   "cell_type": "code",
   "execution_count": 49,
   "metadata": {},
   "outputs": [
    {
     "name": "stdout",
     "output_type": "stream",
     "text": [
      "[('TotalBsmtSF', '1stFlrSF'), ('GrLivArea', 'TotRmsAbvGrd'), ('GrLivArea', '1stFlr_2ndFlr_SF'), ('TotRmsAbvGrd', '1stFlr_2ndFlr_SF'), ('GarageCars', 'GarageArea'), ('GarageQual', 'GarageCond')]\n"
     ]
    }
   ],
   "source": [
    "print(indices)\n"
   ]
  },
  {
   "cell_type": "markdown",
   "metadata": {},
   "source": [
    "Part 3: Forward Regression  \n",
    "We have removed the features with no information and correlated features. The last thing we can do before modeling is to select the k-best features in terms of the relationship with the target variable. We will use the forward wrapper method for that:"
   ]
  },
  {
   "cell_type": "code",
   "execution_count": 50,
   "metadata": {},
   "outputs": [],
   "source": [
    "from sklearn.feature_selection import f_regression, SelectKBest\n",
    "skb = SelectKBest(f_regression, k=10)\n",
    "X = skb.fit_transform(df_transformed, y)"
   ]
  },
  {
   "cell_type": "code",
   "execution_count": 51,
   "metadata": {},
   "outputs": [],
   "source": [
    "# this will give us the position of top 10 columns\n",
    "skb.get_support()\n",
    "# column names\n",
    "df_transformed.columns[skb.get_support()]\n",
    "X = pd.DataFrame(X,columns=df_transformed.columns[skb.get_support()])"
   ]
  },
  {
   "cell_type": "code",
   "execution_count": 52,
   "metadata": {},
   "outputs": [
    {
     "data": {
      "text/html": [
       "<div>\n",
       "<style scoped>\n",
       "    .dataframe tbody tr th:only-of-type {\n",
       "        vertical-align: middle;\n",
       "    }\n",
       "\n",
       "    .dataframe tbody tr th {\n",
       "        vertical-align: top;\n",
       "    }\n",
       "\n",
       "    .dataframe thead th {\n",
       "        text-align: right;\n",
       "    }\n",
       "</style>\n",
       "<table border=\"1\" class=\"dataframe\">\n",
       "  <thead>\n",
       "    <tr style=\"text-align: right;\">\n",
       "      <th></th>\n",
       "      <th>OverallQual</th>\n",
       "      <th>YearBuilt</th>\n",
       "      <th>ExterQual</th>\n",
       "      <th>BsmtQual</th>\n",
       "      <th>TotalBsmtSF</th>\n",
       "      <th>GrLivArea</th>\n",
       "      <th>FullBath</th>\n",
       "      <th>KitchenQual</th>\n",
       "      <th>GarageCars</th>\n",
       "      <th>OverallGrade</th>\n",
       "    </tr>\n",
       "  </thead>\n",
       "  <tbody>\n",
       "    <tr>\n",
       "      <th>0</th>\n",
       "      <td>7.0</td>\n",
       "      <td>2003.0</td>\n",
       "      <td>4.0</td>\n",
       "      <td>4.0</td>\n",
       "      <td>856.0</td>\n",
       "      <td>1710.0</td>\n",
       "      <td>2.0</td>\n",
       "      <td>4.0</td>\n",
       "      <td>2.0</td>\n",
       "      <td>35.0</td>\n",
       "    </tr>\n",
       "    <tr>\n",
       "      <th>1</th>\n",
       "      <td>6.0</td>\n",
       "      <td>1976.0</td>\n",
       "      <td>3.0</td>\n",
       "      <td>4.0</td>\n",
       "      <td>1262.0</td>\n",
       "      <td>1262.0</td>\n",
       "      <td>2.0</td>\n",
       "      <td>3.0</td>\n",
       "      <td>2.0</td>\n",
       "      <td>48.0</td>\n",
       "    </tr>\n",
       "    <tr>\n",
       "      <th>2</th>\n",
       "      <td>7.0</td>\n",
       "      <td>2001.0</td>\n",
       "      <td>4.0</td>\n",
       "      <td>4.0</td>\n",
       "      <td>920.0</td>\n",
       "      <td>1786.0</td>\n",
       "      <td>2.0</td>\n",
       "      <td>4.0</td>\n",
       "      <td>2.0</td>\n",
       "      <td>35.0</td>\n",
       "    </tr>\n",
       "    <tr>\n",
       "      <th>3</th>\n",
       "      <td>7.0</td>\n",
       "      <td>1915.0</td>\n",
       "      <td>3.0</td>\n",
       "      <td>3.0</td>\n",
       "      <td>756.0</td>\n",
       "      <td>1717.0</td>\n",
       "      <td>1.0</td>\n",
       "      <td>4.0</td>\n",
       "      <td>3.0</td>\n",
       "      <td>35.0</td>\n",
       "    </tr>\n",
       "    <tr>\n",
       "      <th>4</th>\n",
       "      <td>8.0</td>\n",
       "      <td>2000.0</td>\n",
       "      <td>4.0</td>\n",
       "      <td>4.0</td>\n",
       "      <td>1145.0</td>\n",
       "      <td>2198.0</td>\n",
       "      <td>2.0</td>\n",
       "      <td>4.0</td>\n",
       "      <td>3.0</td>\n",
       "      <td>40.0</td>\n",
       "    </tr>\n",
       "    <tr>\n",
       "      <th>...</th>\n",
       "      <td>...</td>\n",
       "      <td>...</td>\n",
       "      <td>...</td>\n",
       "      <td>...</td>\n",
       "      <td>...</td>\n",
       "      <td>...</td>\n",
       "      <td>...</td>\n",
       "      <td>...</td>\n",
       "      <td>...</td>\n",
       "      <td>...</td>\n",
       "    </tr>\n",
       "    <tr>\n",
       "      <th>1454</th>\n",
       "      <td>6.0</td>\n",
       "      <td>1999.0</td>\n",
       "      <td>3.0</td>\n",
       "      <td>4.0</td>\n",
       "      <td>953.0</td>\n",
       "      <td>1647.0</td>\n",
       "      <td>2.0</td>\n",
       "      <td>3.0</td>\n",
       "      <td>2.0</td>\n",
       "      <td>30.0</td>\n",
       "    </tr>\n",
       "    <tr>\n",
       "      <th>1455</th>\n",
       "      <td>6.0</td>\n",
       "      <td>1978.0</td>\n",
       "      <td>3.0</td>\n",
       "      <td>4.0</td>\n",
       "      <td>1542.0</td>\n",
       "      <td>2073.0</td>\n",
       "      <td>2.0</td>\n",
       "      <td>3.0</td>\n",
       "      <td>2.0</td>\n",
       "      <td>36.0</td>\n",
       "    </tr>\n",
       "    <tr>\n",
       "      <th>1456</th>\n",
       "      <td>7.0</td>\n",
       "      <td>1941.0</td>\n",
       "      <td>5.0</td>\n",
       "      <td>3.0</td>\n",
       "      <td>1152.0</td>\n",
       "      <td>2340.0</td>\n",
       "      <td>2.0</td>\n",
       "      <td>4.0</td>\n",
       "      <td>1.0</td>\n",
       "      <td>63.0</td>\n",
       "    </tr>\n",
       "    <tr>\n",
       "      <th>1457</th>\n",
       "      <td>5.0</td>\n",
       "      <td>1950.0</td>\n",
       "      <td>3.0</td>\n",
       "      <td>3.0</td>\n",
       "      <td>1078.0</td>\n",
       "      <td>1078.0</td>\n",
       "      <td>1.0</td>\n",
       "      <td>4.0</td>\n",
       "      <td>1.0</td>\n",
       "      <td>30.0</td>\n",
       "    </tr>\n",
       "    <tr>\n",
       "      <th>1458</th>\n",
       "      <td>5.0</td>\n",
       "      <td>1965.0</td>\n",
       "      <td>4.0</td>\n",
       "      <td>3.0</td>\n",
       "      <td>1256.0</td>\n",
       "      <td>1256.0</td>\n",
       "      <td>1.0</td>\n",
       "      <td>3.0</td>\n",
       "      <td>1.0</td>\n",
       "      <td>30.0</td>\n",
       "    </tr>\n",
       "  </tbody>\n",
       "</table>\n",
       "<p>1459 rows × 10 columns</p>\n",
       "</div>"
      ],
      "text/plain": [
       "      OverallQual  YearBuilt  ExterQual  BsmtQual  TotalBsmtSF  GrLivArea  \\\n",
       "0             7.0     2003.0        4.0       4.0        856.0     1710.0   \n",
       "1             6.0     1976.0        3.0       4.0       1262.0     1262.0   \n",
       "2             7.0     2001.0        4.0       4.0        920.0     1786.0   \n",
       "3             7.0     1915.0        3.0       3.0        756.0     1717.0   \n",
       "4             8.0     2000.0        4.0       4.0       1145.0     2198.0   \n",
       "...           ...        ...        ...       ...          ...        ...   \n",
       "1454          6.0     1999.0        3.0       4.0        953.0     1647.0   \n",
       "1455          6.0     1978.0        3.0       4.0       1542.0     2073.0   \n",
       "1456          7.0     1941.0        5.0       3.0       1152.0     2340.0   \n",
       "1457          5.0     1950.0        3.0       3.0       1078.0     1078.0   \n",
       "1458          5.0     1965.0        4.0       3.0       1256.0     1256.0   \n",
       "\n",
       "      FullBath  KitchenQual  GarageCars  OverallGrade  \n",
       "0          2.0          4.0         2.0          35.0  \n",
       "1          2.0          3.0         2.0          48.0  \n",
       "2          2.0          4.0         2.0          35.0  \n",
       "3          1.0          4.0         3.0          35.0  \n",
       "4          2.0          4.0         3.0          40.0  \n",
       "...        ...          ...         ...           ...  \n",
       "1454       2.0          3.0         2.0          30.0  \n",
       "1455       2.0          3.0         2.0          36.0  \n",
       "1456       2.0          4.0         1.0          63.0  \n",
       "1457       1.0          4.0         1.0          30.0  \n",
       "1458       1.0          3.0         1.0          30.0  \n",
       "\n",
       "[1459 rows x 10 columns]"
      ]
     },
     "execution_count": 52,
     "metadata": {},
     "output_type": "execute_result"
    }
   ],
   "source": [
    "X"
   ]
  },
  {
   "cell_type": "markdown",
   "metadata": {},
   "source": [
    "# PCA"
   ]
  },
  {
   "cell_type": "code",
   "execution_count": 68,
   "metadata": {},
   "outputs": [],
   "source": [
    "# import PCA\n",
    "from sklearn.decomposition import PCA\n",
    "\n"
   ]
  },
  {
   "cell_type": "code",
   "execution_count": 75,
   "metadata": {},
   "outputs": [],
   "source": [
    "# creation of PCA object\n",
    "pca = PCA(n_components=3)\n",
    "# applying fit_transform method\n",
    "df_pca = pca.fit_transform(df_dummy)\n",
    "# transforming results back to DataFrame\n",
    "df_pca = pd.DataFrame(df_pca)\n",
    "df_pca.columns = [\"component_1\",\"component_2\",\"component_3\"]"
   ]
  },
  {
   "cell_type": "markdown",
   "metadata": {},
   "source": [
    "When we check the shape of the df_pca we see that it has the same amount of rows but only 3 columns --> components of PCA.\n",
    "\n",
    "Now, we will merge it back to X and we will use that table tomorrow to predict the SalePrice.\n"
   ]
  },
  {
   "cell_type": "code",
   "execution_count": 76,
   "metadata": {},
   "outputs": [
    {
     "data": {
      "text/html": [
       "<div>\n",
       "<style scoped>\n",
       "    .dataframe tbody tr th:only-of-type {\n",
       "        vertical-align: middle;\n",
       "    }\n",
       "\n",
       "    .dataframe tbody tr th {\n",
       "        vertical-align: top;\n",
       "    }\n",
       "\n",
       "    .dataframe thead th {\n",
       "        text-align: right;\n",
       "    }\n",
       "</style>\n",
       "<table border=\"1\" class=\"dataframe\">\n",
       "  <thead>\n",
       "    <tr style=\"text-align: right;\">\n",
       "      <th></th>\n",
       "      <th>OverallQual</th>\n",
       "      <th>YearBuilt</th>\n",
       "      <th>ExterQual</th>\n",
       "      <th>BsmtQual</th>\n",
       "      <th>TotalBsmtSF</th>\n",
       "      <th>GrLivArea</th>\n",
       "      <th>FullBath</th>\n",
       "      <th>KitchenQual</th>\n",
       "      <th>GarageCars</th>\n",
       "      <th>OverallGrade</th>\n",
       "      <th>...</th>\n",
       "      <th>0</th>\n",
       "      <th>1</th>\n",
       "      <th>2</th>\n",
       "      <th>3</th>\n",
       "      <th>4</th>\n",
       "      <th>5</th>\n",
       "      <th>6</th>\n",
       "      <th>7</th>\n",
       "      <th>8</th>\n",
       "      <th>SalePrice_y</th>\n",
       "    </tr>\n",
       "  </thead>\n",
       "  <tbody>\n",
       "    <tr>\n",
       "      <th>0</th>\n",
       "      <td>7.0</td>\n",
       "      <td>2003.0</td>\n",
       "      <td>4.0</td>\n",
       "      <td>4.0</td>\n",
       "      <td>856.0</td>\n",
       "      <td>1710.0</td>\n",
       "      <td>2.0</td>\n",
       "      <td>4.0</td>\n",
       "      <td>2.0</td>\n",
       "      <td>35.0</td>\n",
       "      <td>...</td>\n",
       "      <td>-1.511498</td>\n",
       "      <td>-0.337451</td>\n",
       "      <td>1.000595</td>\n",
       "      <td>-0.322598</td>\n",
       "      <td>-0.590039</td>\n",
       "      <td>-0.822073</td>\n",
       "      <td>-0.112615</td>\n",
       "      <td>0.123562</td>\n",
       "      <td>0.291967</td>\n",
       "      <td>208500</td>\n",
       "    </tr>\n",
       "    <tr>\n",
       "      <th>1</th>\n",
       "      <td>6.0</td>\n",
       "      <td>1976.0</td>\n",
       "      <td>3.0</td>\n",
       "      <td>4.0</td>\n",
       "      <td>1262.0</td>\n",
       "      <td>1262.0</td>\n",
       "      <td>2.0</td>\n",
       "      <td>3.0</td>\n",
       "      <td>2.0</td>\n",
       "      <td>48.0</td>\n",
       "      <td>...</td>\n",
       "      <td>0.315587</td>\n",
       "      <td>0.865029</td>\n",
       "      <td>-0.334657</td>\n",
       "      <td>-0.552380</td>\n",
       "      <td>-0.402818</td>\n",
       "      <td>0.762980</td>\n",
       "      <td>0.570651</td>\n",
       "      <td>0.068107</td>\n",
       "      <td>-0.604004</td>\n",
       "      <td>181500</td>\n",
       "    </tr>\n",
       "    <tr>\n",
       "      <th>2</th>\n",
       "      <td>7.0</td>\n",
       "      <td>2001.0</td>\n",
       "      <td>4.0</td>\n",
       "      <td>4.0</td>\n",
       "      <td>920.0</td>\n",
       "      <td>1786.0</td>\n",
       "      <td>2.0</td>\n",
       "      <td>4.0</td>\n",
       "      <td>2.0</td>\n",
       "      <td>35.0</td>\n",
       "      <td>...</td>\n",
       "      <td>-1.640737</td>\n",
       "      <td>-0.273115</td>\n",
       "      <td>0.805964</td>\n",
       "      <td>-0.321093</td>\n",
       "      <td>-0.410726</td>\n",
       "      <td>-0.246954</td>\n",
       "      <td>-0.569471</td>\n",
       "      <td>0.487956</td>\n",
       "      <td>0.224999</td>\n",
       "      <td>223500</td>\n",
       "    </tr>\n",
       "    <tr>\n",
       "      <th>3</th>\n",
       "      <td>7.0</td>\n",
       "      <td>1915.0</td>\n",
       "      <td>3.0</td>\n",
       "      <td>3.0</td>\n",
       "      <td>756.0</td>\n",
       "      <td>1717.0</td>\n",
       "      <td>1.0</td>\n",
       "      <td>4.0</td>\n",
       "      <td>3.0</td>\n",
       "      <td>35.0</td>\n",
       "      <td>...</td>\n",
       "      <td>1.144521</td>\n",
       "      <td>-0.895768</td>\n",
       "      <td>0.316895</td>\n",
       "      <td>-0.405597</td>\n",
       "      <td>1.122224</td>\n",
       "      <td>0.168306</td>\n",
       "      <td>0.746295</td>\n",
       "      <td>0.025522</td>\n",
       "      <td>0.494777</td>\n",
       "      <td>140000</td>\n",
       "    </tr>\n",
       "    <tr>\n",
       "      <th>4</th>\n",
       "      <td>8.0</td>\n",
       "      <td>2000.0</td>\n",
       "      <td>4.0</td>\n",
       "      <td>4.0</td>\n",
       "      <td>1145.0</td>\n",
       "      <td>2198.0</td>\n",
       "      <td>2.0</td>\n",
       "      <td>4.0</td>\n",
       "      <td>3.0</td>\n",
       "      <td>40.0</td>\n",
       "      <td>...</td>\n",
       "      <td>-1.681285</td>\n",
       "      <td>-0.167821</td>\n",
       "      <td>0.911212</td>\n",
       "      <td>-0.422767</td>\n",
       "      <td>0.185372</td>\n",
       "      <td>0.024797</td>\n",
       "      <td>-0.302455</td>\n",
       "      <td>0.789677</td>\n",
       "      <td>0.265742</td>\n",
       "      <td>250000</td>\n",
       "    </tr>\n",
       "    <tr>\n",
       "      <th>...</th>\n",
       "      <td>...</td>\n",
       "      <td>...</td>\n",
       "      <td>...</td>\n",
       "      <td>...</td>\n",
       "      <td>...</td>\n",
       "      <td>...</td>\n",
       "      <td>...</td>\n",
       "      <td>...</td>\n",
       "      <td>...</td>\n",
       "      <td>...</td>\n",
       "      <td>...</td>\n",
       "      <td>...</td>\n",
       "      <td>...</td>\n",
       "      <td>...</td>\n",
       "      <td>...</td>\n",
       "      <td>...</td>\n",
       "      <td>...</td>\n",
       "      <td>...</td>\n",
       "      <td>...</td>\n",
       "      <td>...</td>\n",
       "      <td>...</td>\n",
       "    </tr>\n",
       "    <tr>\n",
       "      <th>1454</th>\n",
       "      <td>6.0</td>\n",
       "      <td>1999.0</td>\n",
       "      <td>3.0</td>\n",
       "      <td>4.0</td>\n",
       "      <td>953.0</td>\n",
       "      <td>1647.0</td>\n",
       "      <td>2.0</td>\n",
       "      <td>3.0</td>\n",
       "      <td>2.0</td>\n",
       "      <td>30.0</td>\n",
       "      <td>...</td>\n",
       "      <td>-1.102083</td>\n",
       "      <td>-0.793079</td>\n",
       "      <td>0.601772</td>\n",
       "      <td>-0.968573</td>\n",
       "      <td>-0.515569</td>\n",
       "      <td>-0.398129</td>\n",
       "      <td>0.054319</td>\n",
       "      <td>-0.582860</td>\n",
       "      <td>-0.151042</td>\n",
       "      <td>175000</td>\n",
       "    </tr>\n",
       "    <tr>\n",
       "      <th>1455</th>\n",
       "      <td>6.0</td>\n",
       "      <td>1978.0</td>\n",
       "      <td>3.0</td>\n",
       "      <td>4.0</td>\n",
       "      <td>1542.0</td>\n",
       "      <td>2073.0</td>\n",
       "      <td>2.0</td>\n",
       "      <td>3.0</td>\n",
       "      <td>2.0</td>\n",
       "      <td>36.0</td>\n",
       "      <td>...</td>\n",
       "      <td>0.429046</td>\n",
       "      <td>1.030790</td>\n",
       "      <td>-0.187973</td>\n",
       "      <td>-0.143121</td>\n",
       "      <td>-0.556147</td>\n",
       "      <td>-0.109306</td>\n",
       "      <td>0.077327</td>\n",
       "      <td>-0.040679</td>\n",
       "      <td>-0.024650</td>\n",
       "      <td>210000</td>\n",
       "    </tr>\n",
       "    <tr>\n",
       "      <th>1456</th>\n",
       "      <td>7.0</td>\n",
       "      <td>1941.0</td>\n",
       "      <td>5.0</td>\n",
       "      <td>3.0</td>\n",
       "      <td>1152.0</td>\n",
       "      <td>2340.0</td>\n",
       "      <td>2.0</td>\n",
       "      <td>4.0</td>\n",
       "      <td>1.0</td>\n",
       "      <td>63.0</td>\n",
       "      <td>...</td>\n",
       "      <td>-0.075797</td>\n",
       "      <td>-0.106431</td>\n",
       "      <td>0.746436</td>\n",
       "      <td>-0.549909</td>\n",
       "      <td>-0.532180</td>\n",
       "      <td>0.330612</td>\n",
       "      <td>0.021141</td>\n",
       "      <td>-1.077869</td>\n",
       "      <td>0.166056</td>\n",
       "      <td>266500</td>\n",
       "    </tr>\n",
       "    <tr>\n",
       "      <th>1457</th>\n",
       "      <td>5.0</td>\n",
       "      <td>1950.0</td>\n",
       "      <td>3.0</td>\n",
       "      <td>3.0</td>\n",
       "      <td>1078.0</td>\n",
       "      <td>1078.0</td>\n",
       "      <td>1.0</td>\n",
       "      <td>4.0</td>\n",
       "      <td>1.0</td>\n",
       "      <td>30.0</td>\n",
       "      <td>...</td>\n",
       "      <td>0.933630</td>\n",
       "      <td>1.030712</td>\n",
       "      <td>-0.956279</td>\n",
       "      <td>0.417731</td>\n",
       "      <td>-0.130273</td>\n",
       "      <td>-0.080481</td>\n",
       "      <td>-0.026208</td>\n",
       "      <td>-0.234945</td>\n",
       "      <td>-1.063940</td>\n",
       "      <td>142125</td>\n",
       "    </tr>\n",
       "    <tr>\n",
       "      <th>1458</th>\n",
       "      <td>5.0</td>\n",
       "      <td>1965.0</td>\n",
       "      <td>4.0</td>\n",
       "      <td>3.0</td>\n",
       "      <td>1256.0</td>\n",
       "      <td>1256.0</td>\n",
       "      <td>1.0</td>\n",
       "      <td>3.0</td>\n",
       "      <td>1.0</td>\n",
       "      <td>30.0</td>\n",
       "      <td>...</td>\n",
       "      <td>0.288475</td>\n",
       "      <td>0.972851</td>\n",
       "      <td>0.036843</td>\n",
       "      <td>-0.448738</td>\n",
       "      <td>-0.237495</td>\n",
       "      <td>0.281587</td>\n",
       "      <td>-0.040549</td>\n",
       "      <td>-0.597048</td>\n",
       "      <td>-0.408148</td>\n",
       "      <td>147500</td>\n",
       "    </tr>\n",
       "  </tbody>\n",
       "</table>\n",
       "<p>1459 rows × 24 columns</p>\n",
       "</div>"
      ],
      "text/plain": [
       "      OverallQual  YearBuilt  ExterQual  BsmtQual  TotalBsmtSF  GrLivArea  \\\n",
       "0             7.0     2003.0        4.0       4.0        856.0     1710.0   \n",
       "1             6.0     1976.0        3.0       4.0       1262.0     1262.0   \n",
       "2             7.0     2001.0        4.0       4.0        920.0     1786.0   \n",
       "3             7.0     1915.0        3.0       3.0        756.0     1717.0   \n",
       "4             8.0     2000.0        4.0       4.0       1145.0     2198.0   \n",
       "...           ...        ...        ...       ...          ...        ...   \n",
       "1454          6.0     1999.0        3.0       4.0        953.0     1647.0   \n",
       "1455          6.0     1978.0        3.0       4.0       1542.0     2073.0   \n",
       "1456          7.0     1941.0        5.0       3.0       1152.0     2340.0   \n",
       "1457          5.0     1950.0        3.0       3.0       1078.0     1078.0   \n",
       "1458          5.0     1965.0        4.0       3.0       1256.0     1256.0   \n",
       "\n",
       "      FullBath  KitchenQual  GarageCars  OverallGrade  ...         0  \\\n",
       "0          2.0          4.0         2.0          35.0  ... -1.511498   \n",
       "1          2.0          3.0         2.0          48.0  ...  0.315587   \n",
       "2          2.0          4.0         2.0          35.0  ... -1.640737   \n",
       "3          1.0          4.0         3.0          35.0  ...  1.144521   \n",
       "4          2.0          4.0         3.0          40.0  ... -1.681285   \n",
       "...        ...          ...         ...           ...  ...       ...   \n",
       "1454       2.0          3.0         2.0          30.0  ... -1.102083   \n",
       "1455       2.0          3.0         2.0          36.0  ...  0.429046   \n",
       "1456       2.0          4.0         1.0          63.0  ... -0.075797   \n",
       "1457       1.0          4.0         1.0          30.0  ...  0.933630   \n",
       "1458       1.0          3.0         1.0          30.0  ...  0.288475   \n",
       "\n",
       "             1         2         3         4         5         6         7  \\\n",
       "0    -0.337451  1.000595 -0.322598 -0.590039 -0.822073 -0.112615  0.123562   \n",
       "1     0.865029 -0.334657 -0.552380 -0.402818  0.762980  0.570651  0.068107   \n",
       "2    -0.273115  0.805964 -0.321093 -0.410726 -0.246954 -0.569471  0.487956   \n",
       "3    -0.895768  0.316895 -0.405597  1.122224  0.168306  0.746295  0.025522   \n",
       "4    -0.167821  0.911212 -0.422767  0.185372  0.024797 -0.302455  0.789677   \n",
       "...        ...       ...       ...       ...       ...       ...       ...   \n",
       "1454 -0.793079  0.601772 -0.968573 -0.515569 -0.398129  0.054319 -0.582860   \n",
       "1455  1.030790 -0.187973 -0.143121 -0.556147 -0.109306  0.077327 -0.040679   \n",
       "1456 -0.106431  0.746436 -0.549909 -0.532180  0.330612  0.021141 -1.077869   \n",
       "1457  1.030712 -0.956279  0.417731 -0.130273 -0.080481 -0.026208 -0.234945   \n",
       "1458  0.972851  0.036843 -0.448738 -0.237495  0.281587 -0.040549 -0.597048   \n",
       "\n",
       "             8  SalePrice_y  \n",
       "0     0.291967       208500  \n",
       "1    -0.604004       181500  \n",
       "2     0.224999       223500  \n",
       "3     0.494777       140000  \n",
       "4     0.265742       250000  \n",
       "...        ...          ...  \n",
       "1454 -0.151042       175000  \n",
       "1455 -0.024650       210000  \n",
       "1456  0.166056       266500  \n",
       "1457 -1.063940       142125  \n",
       "1458 -0.408148       147500  \n",
       "\n",
       "[1459 rows x 24 columns]"
      ]
     },
     "execution_count": 76,
     "metadata": {},
     "output_type": "execute_result"
    }
   ],
   "source": [
    "X"
   ]
  },
  {
   "cell_type": "code",
   "execution_count": 77,
   "metadata": {},
   "outputs": [],
   "source": [
    "X = X.merge(df_pca, left_index=True, right_index=True)\n",
    "X = X.merge(y, left_index=True, right_index=True)"
   ]
  },
  {
   "cell_type": "code",
   "execution_count": 78,
   "metadata": {},
   "outputs": [
    {
     "data": {
      "text/html": [
       "<div>\n",
       "<style scoped>\n",
       "    .dataframe tbody tr th:only-of-type {\n",
       "        vertical-align: middle;\n",
       "    }\n",
       "\n",
       "    .dataframe tbody tr th {\n",
       "        vertical-align: top;\n",
       "    }\n",
       "\n",
       "    .dataframe thead th {\n",
       "        text-align: right;\n",
       "    }\n",
       "</style>\n",
       "<table border=\"1\" class=\"dataframe\">\n",
       "  <thead>\n",
       "    <tr style=\"text-align: right;\">\n",
       "      <th></th>\n",
       "      <th>OverallQual</th>\n",
       "      <th>YearBuilt</th>\n",
       "      <th>ExterQual</th>\n",
       "      <th>BsmtQual</th>\n",
       "      <th>TotalBsmtSF</th>\n",
       "      <th>GrLivArea</th>\n",
       "      <th>FullBath</th>\n",
       "      <th>KitchenQual</th>\n",
       "      <th>GarageCars</th>\n",
       "      <th>OverallGrade</th>\n",
       "      <th>...</th>\n",
       "      <th>4</th>\n",
       "      <th>5</th>\n",
       "      <th>6</th>\n",
       "      <th>7</th>\n",
       "      <th>8</th>\n",
       "      <th>SalePrice_y</th>\n",
       "      <th>component_1_y</th>\n",
       "      <th>component_2_y</th>\n",
       "      <th>component_3_y</th>\n",
       "      <th>SalePrice</th>\n",
       "    </tr>\n",
       "  </thead>\n",
       "  <tbody>\n",
       "    <tr>\n",
       "      <th>0</th>\n",
       "      <td>7.0</td>\n",
       "      <td>2003.0</td>\n",
       "      <td>4.0</td>\n",
       "      <td>4.0</td>\n",
       "      <td>856.0</td>\n",
       "      <td>1710.0</td>\n",
       "      <td>2.0</td>\n",
       "      <td>4.0</td>\n",
       "      <td>2.0</td>\n",
       "      <td>35.0</td>\n",
       "      <td>...</td>\n",
       "      <td>-0.590039</td>\n",
       "      <td>-0.822073</td>\n",
       "      <td>-0.112615</td>\n",
       "      <td>0.123562</td>\n",
       "      <td>0.291967</td>\n",
       "      <td>208500</td>\n",
       "      <td>-1.511498</td>\n",
       "      <td>-0.337451</td>\n",
       "      <td>1.000751</td>\n",
       "      <td>208500</td>\n",
       "    </tr>\n",
       "    <tr>\n",
       "      <th>1</th>\n",
       "      <td>6.0</td>\n",
       "      <td>1976.0</td>\n",
       "      <td>3.0</td>\n",
       "      <td>4.0</td>\n",
       "      <td>1262.0</td>\n",
       "      <td>1262.0</td>\n",
       "      <td>2.0</td>\n",
       "      <td>3.0</td>\n",
       "      <td>2.0</td>\n",
       "      <td>48.0</td>\n",
       "      <td>...</td>\n",
       "      <td>-0.402818</td>\n",
       "      <td>0.762980</td>\n",
       "      <td>0.570651</td>\n",
       "      <td>0.068107</td>\n",
       "      <td>-0.604004</td>\n",
       "      <td>181500</td>\n",
       "      <td>0.315587</td>\n",
       "      <td>0.865015</td>\n",
       "      <td>-0.334814</td>\n",
       "      <td>181500</td>\n",
       "    </tr>\n",
       "    <tr>\n",
       "      <th>2</th>\n",
       "      <td>7.0</td>\n",
       "      <td>2001.0</td>\n",
       "      <td>4.0</td>\n",
       "      <td>4.0</td>\n",
       "      <td>920.0</td>\n",
       "      <td>1786.0</td>\n",
       "      <td>2.0</td>\n",
       "      <td>4.0</td>\n",
       "      <td>2.0</td>\n",
       "      <td>35.0</td>\n",
       "      <td>...</td>\n",
       "      <td>-0.410726</td>\n",
       "      <td>-0.246954</td>\n",
       "      <td>-0.569471</td>\n",
       "      <td>0.487956</td>\n",
       "      <td>0.224999</td>\n",
       "      <td>223500</td>\n",
       "      <td>-1.640737</td>\n",
       "      <td>-0.273116</td>\n",
       "      <td>0.806026</td>\n",
       "      <td>223500</td>\n",
       "    </tr>\n",
       "    <tr>\n",
       "      <th>3</th>\n",
       "      <td>7.0</td>\n",
       "      <td>1915.0</td>\n",
       "      <td>3.0</td>\n",
       "      <td>3.0</td>\n",
       "      <td>756.0</td>\n",
       "      <td>1717.0</td>\n",
       "      <td>1.0</td>\n",
       "      <td>4.0</td>\n",
       "      <td>3.0</td>\n",
       "      <td>35.0</td>\n",
       "      <td>...</td>\n",
       "      <td>1.122224</td>\n",
       "      <td>0.168306</td>\n",
       "      <td>0.746295</td>\n",
       "      <td>0.025522</td>\n",
       "      <td>0.494777</td>\n",
       "      <td>140000</td>\n",
       "      <td>1.144522</td>\n",
       "      <td>-0.895760</td>\n",
       "      <td>0.317351</td>\n",
       "      <td>140000</td>\n",
       "    </tr>\n",
       "    <tr>\n",
       "      <th>4</th>\n",
       "      <td>8.0</td>\n",
       "      <td>2000.0</td>\n",
       "      <td>4.0</td>\n",
       "      <td>4.0</td>\n",
       "      <td>1145.0</td>\n",
       "      <td>2198.0</td>\n",
       "      <td>2.0</td>\n",
       "      <td>4.0</td>\n",
       "      <td>3.0</td>\n",
       "      <td>40.0</td>\n",
       "      <td>...</td>\n",
       "      <td>0.185372</td>\n",
       "      <td>0.024797</td>\n",
       "      <td>-0.302455</td>\n",
       "      <td>0.789677</td>\n",
       "      <td>0.265742</td>\n",
       "      <td>250000</td>\n",
       "      <td>-1.681285</td>\n",
       "      <td>-0.167821</td>\n",
       "      <td>0.911085</td>\n",
       "      <td>250000</td>\n",
       "    </tr>\n",
       "    <tr>\n",
       "      <th>...</th>\n",
       "      <td>...</td>\n",
       "      <td>...</td>\n",
       "      <td>...</td>\n",
       "      <td>...</td>\n",
       "      <td>...</td>\n",
       "      <td>...</td>\n",
       "      <td>...</td>\n",
       "      <td>...</td>\n",
       "      <td>...</td>\n",
       "      <td>...</td>\n",
       "      <td>...</td>\n",
       "      <td>...</td>\n",
       "      <td>...</td>\n",
       "      <td>...</td>\n",
       "      <td>...</td>\n",
       "      <td>...</td>\n",
       "      <td>...</td>\n",
       "      <td>...</td>\n",
       "      <td>...</td>\n",
       "      <td>...</td>\n",
       "      <td>...</td>\n",
       "    </tr>\n",
       "    <tr>\n",
       "      <th>1454</th>\n",
       "      <td>6.0</td>\n",
       "      <td>1999.0</td>\n",
       "      <td>3.0</td>\n",
       "      <td>4.0</td>\n",
       "      <td>953.0</td>\n",
       "      <td>1647.0</td>\n",
       "      <td>2.0</td>\n",
       "      <td>3.0</td>\n",
       "      <td>2.0</td>\n",
       "      <td>30.0</td>\n",
       "      <td>...</td>\n",
       "      <td>-0.515569</td>\n",
       "      <td>-0.398129</td>\n",
       "      <td>0.054319</td>\n",
       "      <td>-0.582860</td>\n",
       "      <td>-0.151042</td>\n",
       "      <td>175000</td>\n",
       "      <td>-1.102083</td>\n",
       "      <td>-0.793071</td>\n",
       "      <td>0.601859</td>\n",
       "      <td>175000</td>\n",
       "    </tr>\n",
       "    <tr>\n",
       "      <th>1455</th>\n",
       "      <td>6.0</td>\n",
       "      <td>1978.0</td>\n",
       "      <td>3.0</td>\n",
       "      <td>4.0</td>\n",
       "      <td>1542.0</td>\n",
       "      <td>2073.0</td>\n",
       "      <td>2.0</td>\n",
       "      <td>3.0</td>\n",
       "      <td>2.0</td>\n",
       "      <td>36.0</td>\n",
       "      <td>...</td>\n",
       "      <td>-0.556147</td>\n",
       "      <td>-0.109306</td>\n",
       "      <td>0.077327</td>\n",
       "      <td>-0.040679</td>\n",
       "      <td>-0.024650</td>\n",
       "      <td>210000</td>\n",
       "      <td>0.429047</td>\n",
       "      <td>1.030857</td>\n",
       "      <td>-0.186400</td>\n",
       "      <td>210000</td>\n",
       "    </tr>\n",
       "    <tr>\n",
       "      <th>1456</th>\n",
       "      <td>7.0</td>\n",
       "      <td>1941.0</td>\n",
       "      <td>5.0</td>\n",
       "      <td>3.0</td>\n",
       "      <td>1152.0</td>\n",
       "      <td>2340.0</td>\n",
       "      <td>2.0</td>\n",
       "      <td>4.0</td>\n",
       "      <td>1.0</td>\n",
       "      <td>63.0</td>\n",
       "      <td>...</td>\n",
       "      <td>-0.532180</td>\n",
       "      <td>0.330612</td>\n",
       "      <td>0.021141</td>\n",
       "      <td>-1.077869</td>\n",
       "      <td>0.166056</td>\n",
       "      <td>266500</td>\n",
       "      <td>-0.075797</td>\n",
       "      <td>-0.106420</td>\n",
       "      <td>0.746660</td>\n",
       "      <td>266500</td>\n",
       "    </tr>\n",
       "    <tr>\n",
       "      <th>1457</th>\n",
       "      <td>5.0</td>\n",
       "      <td>1950.0</td>\n",
       "      <td>3.0</td>\n",
       "      <td>3.0</td>\n",
       "      <td>1078.0</td>\n",
       "      <td>1078.0</td>\n",
       "      <td>1.0</td>\n",
       "      <td>4.0</td>\n",
       "      <td>1.0</td>\n",
       "      <td>30.0</td>\n",
       "      <td>...</td>\n",
       "      <td>-0.130273</td>\n",
       "      <td>-0.080481</td>\n",
       "      <td>-0.026208</td>\n",
       "      <td>-0.234945</td>\n",
       "      <td>-1.063940</td>\n",
       "      <td>142125</td>\n",
       "      <td>0.933629</td>\n",
       "      <td>1.030720</td>\n",
       "      <td>-0.956846</td>\n",
       "      <td>142125</td>\n",
       "    </tr>\n",
       "    <tr>\n",
       "      <th>1458</th>\n",
       "      <td>5.0</td>\n",
       "      <td>1965.0</td>\n",
       "      <td>4.0</td>\n",
       "      <td>3.0</td>\n",
       "      <td>1256.0</td>\n",
       "      <td>1256.0</td>\n",
       "      <td>1.0</td>\n",
       "      <td>3.0</td>\n",
       "      <td>1.0</td>\n",
       "      <td>30.0</td>\n",
       "      <td>...</td>\n",
       "      <td>-0.237495</td>\n",
       "      <td>0.281587</td>\n",
       "      <td>-0.040549</td>\n",
       "      <td>-0.597048</td>\n",
       "      <td>-0.408148</td>\n",
       "      <td>147500</td>\n",
       "      <td>0.288475</td>\n",
       "      <td>0.972818</td>\n",
       "      <td>0.036077</td>\n",
       "      <td>147500</td>\n",
       "    </tr>\n",
       "  </tbody>\n",
       "</table>\n",
       "<p>1459 rows × 28 columns</p>\n",
       "</div>"
      ],
      "text/plain": [
       "      OverallQual  YearBuilt  ExterQual  BsmtQual  TotalBsmtSF  GrLivArea  \\\n",
       "0             7.0     2003.0        4.0       4.0        856.0     1710.0   \n",
       "1             6.0     1976.0        3.0       4.0       1262.0     1262.0   \n",
       "2             7.0     2001.0        4.0       4.0        920.0     1786.0   \n",
       "3             7.0     1915.0        3.0       3.0        756.0     1717.0   \n",
       "4             8.0     2000.0        4.0       4.0       1145.0     2198.0   \n",
       "...           ...        ...        ...       ...          ...        ...   \n",
       "1454          6.0     1999.0        3.0       4.0        953.0     1647.0   \n",
       "1455          6.0     1978.0        3.0       4.0       1542.0     2073.0   \n",
       "1456          7.0     1941.0        5.0       3.0       1152.0     2340.0   \n",
       "1457          5.0     1950.0        3.0       3.0       1078.0     1078.0   \n",
       "1458          5.0     1965.0        4.0       3.0       1256.0     1256.0   \n",
       "\n",
       "      FullBath  KitchenQual  GarageCars  OverallGrade  ...         4  \\\n",
       "0          2.0          4.0         2.0          35.0  ... -0.590039   \n",
       "1          2.0          3.0         2.0          48.0  ... -0.402818   \n",
       "2          2.0          4.0         2.0          35.0  ... -0.410726   \n",
       "3          1.0          4.0         3.0          35.0  ...  1.122224   \n",
       "4          2.0          4.0         3.0          40.0  ...  0.185372   \n",
       "...        ...          ...         ...           ...  ...       ...   \n",
       "1454       2.0          3.0         2.0          30.0  ... -0.515569   \n",
       "1455       2.0          3.0         2.0          36.0  ... -0.556147   \n",
       "1456       2.0          4.0         1.0          63.0  ... -0.532180   \n",
       "1457       1.0          4.0         1.0          30.0  ... -0.130273   \n",
       "1458       1.0          3.0         1.0          30.0  ... -0.237495   \n",
       "\n",
       "             5         6         7         8  SalePrice_y  component_1_y  \\\n",
       "0    -0.822073 -0.112615  0.123562  0.291967       208500      -1.511498   \n",
       "1     0.762980  0.570651  0.068107 -0.604004       181500       0.315587   \n",
       "2    -0.246954 -0.569471  0.487956  0.224999       223500      -1.640737   \n",
       "3     0.168306  0.746295  0.025522  0.494777       140000       1.144522   \n",
       "4     0.024797 -0.302455  0.789677  0.265742       250000      -1.681285   \n",
       "...        ...       ...       ...       ...          ...            ...   \n",
       "1454 -0.398129  0.054319 -0.582860 -0.151042       175000      -1.102083   \n",
       "1455 -0.109306  0.077327 -0.040679 -0.024650       210000       0.429047   \n",
       "1456  0.330612  0.021141 -1.077869  0.166056       266500      -0.075797   \n",
       "1457 -0.080481 -0.026208 -0.234945 -1.063940       142125       0.933629   \n",
       "1458  0.281587 -0.040549 -0.597048 -0.408148       147500       0.288475   \n",
       "\n",
       "      component_2_y  component_3_y  SalePrice  \n",
       "0         -0.337451       1.000751     208500  \n",
       "1          0.865015      -0.334814     181500  \n",
       "2         -0.273116       0.806026     223500  \n",
       "3         -0.895760       0.317351     140000  \n",
       "4         -0.167821       0.911085     250000  \n",
       "...             ...            ...        ...  \n",
       "1454      -0.793071       0.601859     175000  \n",
       "1455       1.030857      -0.186400     210000  \n",
       "1456      -0.106420       0.746660     266500  \n",
       "1457       1.030720      -0.956846     142125  \n",
       "1458       0.972818       0.036077     147500  \n",
       "\n",
       "[1459 rows x 28 columns]"
      ]
     },
     "execution_count": 78,
     "metadata": {},
     "output_type": "execute_result"
    }
   ],
   "source": [
    "X"
   ]
  },
  {
   "cell_type": "code",
   "execution_count": 79,
   "metadata": {},
   "outputs": [
    {
     "data": {
      "text/plain": [
       "array([0.13282151, 0.07840981, 0.04910124])"
      ]
     },
     "execution_count": 79,
     "metadata": {},
     "output_type": "execute_result"
    }
   ],
   "source": [
    "pca.explained_variance_ratio_"
   ]
  },
  {
   "cell_type": "code",
   "execution_count": 80,
   "metadata": {},
   "outputs": [
    {
     "data": {
      "image/png": "[encoded data removed]",
      "text/plain": [
       "<Figure size 432x288 with 1 Axes>"
      ]
     },
     "metadata": {
      "needs_background": "light"
     },
     "output_type": "display_data"
    }
   ],
   "source": [
    "pc_values = np.arange(pca.n_components_) + 1\n",
    "plt.plot(pc_values, pca.explained_variance_ratio_, 'ro-', linewidth=2)\n",
    "plt.title('Scree Plot')\n",
    "plt.xlabel('Principal Component')\n",
    "plt.ylabel('Proportion of Variance Explained')\n",
    "plt.show()"
   ]
  },
  {
   "cell_type": "code",
   "execution_count": null,
   "metadata": {},
   "outputs": [],
   "source": []
  }
 ],
 "metadata": {
  "kernelspec": {
   "display_name": "Python 3",
   "language": "python",
   "name": "python3"
  },
  "language_info": {
   "codemirror_mode": {
    "name": "ipython",
    "version": 3
   },
   "file_extension": ".py",
   "mimetype": "text/x-python",
   "name": "python",
   "nbconvert_exporter": "python",
   "pygments_lexer": "ipython3",
   "version": "3.7.4"
  }
 },
 "nbformat": 4,
 "nbformat_minor": 2
}
