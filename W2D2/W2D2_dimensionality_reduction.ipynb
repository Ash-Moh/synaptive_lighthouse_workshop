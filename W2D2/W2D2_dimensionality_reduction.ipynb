{
 "cells": [
  {
   "cell_type": "markdown",
   "metadata": {
    "slideshow": {
     "slide_type": "slide"
    }
   },
   "source": [
    "## Lighthouse Labs\n",
    "### Dimentionality Reduction\n",
    "### W2D2 part 2 Dimentionality Reduction\n",
    "\n",
    "Instructor: Socorro Dominguez  \n",
    "November 27, 2020"
   ]
  },
  {
   "cell_type": "markdown",
   "metadata": {
    "slideshow": {
     "slide_type": "slide"
    }
   },
   "source": [
    "## Agenda\n",
    "1. What is and why dimensionality reduction?\n",
    "2. Variable Selection Techniques\n",
    "    - Filter Methods\n",
    "    - Wrapper Methods   \n",
    "      \n",
    "\n",
    "\n",
    "3.  Other Dimensionality Reduction Techniques\n",
    "    - Principal Components Analysis (PCA)"
   ]
  },
  {
   "cell_type": "code",
   "execution_count": 1,
   "metadata": {
    "slideshow": {
     "slide_type": "skip"
    }
   },
   "outputs": [],
   "source": [
    "from sklearn import datasets\n",
    "from sklearn.preprocessing import StandardScaler\n",
    "from sklearn.decomposition import PCA\n",
    "from sklearn.discriminant_analysis import LinearDiscriminantAnalysis as LDA\n",
    "from sklearn.preprocessing import LabelEncoder\n",
    "from sklearn.datasets import load_boston\n",
    "import seaborn as sns\n",
    "import numpy as np\n",
    "import pandas as pd\n",
    "import matplotlib.pyplot as plt\n",
    "from IPython.display import clear_output\n",
    "import time\n",
    "\n",
    "import warnings\n",
    "warnings.filterwarnings(\"ignore\")"
   ]
  },
  {
   "cell_type": "code",
   "execution_count": 2,
   "metadata": {
    "slideshow": {
     "slide_type": "skip"
    }
   },
   "outputs": [],
   "source": [
    "# helpful functions for later\n",
    "\n",
    "def plot_reduction2d(data, w, h, drop):\n",
    "\n",
    "    dimension = set([0, 1])\n",
    "    dimension = list(dimension.difference([drop]))[0]\n",
    "\n",
    "    x_std = data.to_numpy()\n",
    "\n",
    "    fig, ax = plt.subplots(1, 2, figsize=(w, h))\n",
    "    ax[0].scatter(x_std[:, 0], x_std[:, 1], zorder=2)  # Plot the points\n",
    "\n",
    "    # This for will draw the red lines into the plot\n",
    "    for i in range(0, x_std.shape[0]):\n",
    "        if dimension == 0:\n",
    "            ax[0].plot([x_std[i, 0], x_std[i, 0]], [0, x_std[i, 1]],\n",
    "                       color=\"red\", linestyle=\"-.\", alpha=.4, zorder=1)\n",
    "        if dimension == 1:\n",
    "            ax[0].plot([0, x_std[i, 0]],\n",
    "                       [x_std[i, 1], x_std[i, 1]],\n",
    "                       color=\"red\", linestyle=\"-.\", alpha=.4, zorder=1)\n",
    "\n",
    "    # This line plots the black line\n",
    "    if dimension == 0:\n",
    "        ax[0].plot([np.min(x_std[:, 0]),\n",
    "                    np.max(x_std[:, 0])],\n",
    "                   [0, 0], color=\"black\", zorder=0)\n",
    "    if dimension == 1:\n",
    "        ax[0].plot([0, 0], [np.min(x_std[:, 1]), np.max(x_std[:, 1])],\n",
    "                   color=\"black\", zorder=0)\n",
    "\n",
    "    # This line plots the red points\n",
    "    if dimension == 0:\n",
    "        ax[0].scatter(x_std[:, 0], np.zeros_like(x_std[:, 0]), color=\"red\")\n",
    "    if dimension == 1:\n",
    "        ax[0].scatter(np.zeros_like(x_std[:, 1]), x_std[:, 1], color=\"red\")\n",
    "\n",
    "    # Editing frame\n",
    "    ax[0].spines['top'].set_visible(False)\n",
    "    ax[0].spines['right'].set_visible(False)\n",
    "\n",
    "    # Increases the size of the labels' ticks;\n",
    "    ax[0].set_xticklabels(ax[0].get_xticks(), fontdict={'fontsize': 16})\n",
    "    ax[0].set_yticklabels(ax[0].get_yticks(), fontdict={'fontsize': 16})\n",
    "\n",
    "    # Editing labels\n",
    "    ax[0].set_xlabel(data.columns[0], fontdict={'fontsize': w})\n",
    "    ax[0].set_ylabel(data.columns[1], fontdict={'fontsize': w})\n",
    "    ax[0].set_title(\"Dropping the column $X_\" + str(drop+1) +\n",
    "                    \"$ = \" + data.columns[drop], fontsize=w+h)\n",
    "\n",
    "    # The functions called here are the same as above,\n",
    "    # but this time is for the plot on the right\n",
    "    ax[1].scatter(x_std[:, dimension], np.zeros_like(x_std[:, 0]), color=\"red\")\n",
    "    ax[1].spines['left'].set_visible(False)\n",
    "    ax[1].spines['right'].set_visible(False)\n",
    "    ax[1].spines['top'].set_visible(False)\n",
    "    ax[1].set_title(\"Projected points\", fontsize=w+h)\n",
    "    ax[1].set_yticks([])\n",
    "    ax[1].set_xticklabels(ax[1].get_xticks(), fontdict={'fontsize': 16})\n",
    "    ax[1].set_xlabel(\"$Z_1 = $\" + data.columns[dimension],\n",
    "                     fontdict={'fontsize': w})\n",
    "    \n",
    "def plot_rotation2d(data, w, h, theta, projection=True, projection_line=True, plot_error=True, show_error=False, clear=False):\n",
    "    \"\"\"\n",
    "    Plot different lines for projections;\n",
    "\n",
    "    Parameters:\n",
    "    -----------\n",
    "    w: width of the figure\n",
    "    h: height of the figure\n",
    "    theta: angle (in degrees) of the line\n",
    "    clear: if true the result of the cell will be cleared before plotting;\n",
    "    \"\"\"\n",
    "\n",
    "    x_std = data.to_numpy()\n",
    "\n",
    "    theta = np.deg2rad(theta)\n",
    "    fig, ax = plt.subplots(1, 2, figsize=(w, h))\n",
    "\n",
    "    # Plot the points\n",
    "    ax[0].scatter(x_std[:, 0], x_std[:, 1])\n",
    "\n",
    "    r = [[np.cos(theta)], [np.sin(theta)]] / \\\n",
    "        np.linalg.norm([np.cos(theta), np.sin(theta)])\n",
    "    z = x_std[:, 0:2] @ r\n",
    "    v = z @ r.reshape(1, -1)\n",
    "    error = np.round(np.sum((x_std[:, 0:2] - v)**2), 2)\n",
    "    \n",
    "    # This line plots the black line\n",
    "    if projection_line:\n",
    "        if np.rad2deg(theta) <= 90:\n",
    "            ax[0].plot([np.min(v[:, 0]), np.max(v[:, 0])],\n",
    "                       [np.min(v[:, 1]), np.max(v[:, 1])], color=\"black\")\n",
    "        else:\n",
    "            ax[0].plot([np.min(v[:, 0]), np.max(v[:, 0])],\n",
    "                       [np.max(v[:, 1]), np.min(v[:, 1])], color=\"black\")\n",
    "\n",
    "        \n",
    "    \n",
    "    if projection:\n",
    "        # This for will draw the red lines into the plot\n",
    "        if plot_error:\n",
    "            for i in range(0, x_std.shape[0]):\n",
    "                ax[0].plot([x_std[i, 0], v[i, 0]], [x_std[i, 1], v[i, 1]],\n",
    "                           color=\"red\", linestyle=\"-.\", alpha=.4)\n",
    "        \n",
    "        # This line plots the red points\n",
    "        ax[0].scatter(v[:, 0], v[:, 1], color=\"red\")\n",
    "\n",
    "    # Removing frame sides\n",
    "    ax[0].spines['top'].set_visible(False)\n",
    "    ax[0].spines['right'].set_visible(False)\n",
    "\n",
    "    # Increasing the size of the ticks labels;\n",
    "    ax[0].set_xticklabels(ax[0].get_xticks(), fontdict={'fontsize': 16})\n",
    "    ax[0].set_yticklabels(ax[0].get_yticks(), fontdict={'fontsize': 16})\n",
    "\n",
    "    # Changes the labels\n",
    "    ax[0].set_xlabel(data.columns[0], fontdict={'fontsize': w})\n",
    "    ax[0].set_ylabel(data.columns[1], fontdict={'fontsize': w})\n",
    "    if projection and show_error:\n",
    "        ax[0].set_title(f\"Original space (reconstruction error: {error})\", fontsize=w)\n",
    "    else:\n",
    "        ax[0].set_title(f\"Projecting points\", fontsize=w)\n",
    "\n",
    "    ax[1].scatter(z, np.zeros_like(z), color=\"red\")\n",
    "    ax[1].spines['left'].set_visible(False)\n",
    "    ax[1].spines['right'].set_visible(False)\n",
    "    ax[1].spines['top'].set_visible(False)\n",
    "    var = np.round(np.var(z), 4)\n",
    "\n",
    "    # Define the title of the plot\n",
    "    ax[1].set_title(f\"Projected points (var: {var})\", fontsize=w)\n",
    "    ax[1].set_yticks([])  # Here it is just removing the ticks from the y-axis\n",
    "    ax[1].set_xticklabels(ax[1].get_xticks(), fontdict={'fontsize': 16})\n",
    "    ax[1].set_xlabel(\"$Z_1$\", fontdict={'fontsize': w})\n",
    "    if clear:\n",
    "        clear_output()\n",
    "\n",
    "    plt.show()\n",
    "    \n",
    "def plot_pca_rotation2d(data, w, h):\n",
    "\n",
    "    x_std = data.iloc[:, 0:2].to_numpy()\n",
    "\n",
    "    pca = PCA(n_components=2)\n",
    "    z = pca.fit_transform(x_std)\n",
    "\n",
    "    fig, ax = plt.subplots(1, 2, figsize=(w, h))\n",
    "    ax[0].scatter(x_std[:, 0], x_std[:, 1], alpha=.4)\n",
    "    ax[0].axis(\"equal\")\n",
    "    ax[0].quiver(pca.components_[0, 0], pca.components_[0, 1],\n",
    "                 color=\"black\", label=\"Direction 1nd PC\")\n",
    "    ax[0].quiver(pca.components_[1, 0], pca.components_[\n",
    "                 1, 1], color=\"red\", label=\"Direction 2nd PC\")\n",
    "    ax[0].spines['top'].set_visible(False)  # Removes the top side of the frame\n",
    "    # Removes the right side of the frame\n",
    "    ax[0].spines['right'].set_visible(False)\n",
    "    # Increase the size of the x-axis ticks labels;\n",
    "    ax[0].set_xticklabels(ax[0].get_xticks(), fontdict={'fontsize': 16})\n",
    "    # Increase the size of the y-axis ticks labels;\n",
    "    ax[0].set_yticklabels(ax[0].get_yticks(), fontdict={'fontsize': 16})\n",
    "    # Define the title of the plot\n",
    "    ax[0].set_title(f\"Original data\", fontsize=w+h)\n",
    "    ax[0].legend(fontsize=w, loc=\"lower right\")\n",
    "    ax[0].set_xlabel(\"$X_1$\")\n",
    "    ax[0].set_ylabel(\"$X_2$\")\n",
    "\n",
    "    ax[1].scatter(z[:, 0], z[:, 1])\n",
    "    ax[1].axis(\"equal\")\n",
    "    ax[1].spines['top'].set_visible(False)  # Removes the top side of the frame\n",
    "    # Removes the right side of the frame\n",
    "    ax[1].spines['right'].set_visible(False)\n",
    "    # Increase the size of the x-axis ticks labels;\n",
    "    ax[1].set_xticklabels(ax[1].get_xticks(), fontdict={'fontsize': 16})\n",
    "    # Increase the size of the y-axis ticks labels;\n",
    "    ax[1].set_yticklabels(np.round(ax[1].get_yticks(), 2),\n",
    "                          fontdict={'fontsize': 16})\n",
    "    # Define the title of the plot\n",
    "    ax[1].set_title(f\"Transformed data\", fontsize=w+h)\n",
    "    ax[1].set_xlabel(\"$Z_1$\")\n",
    "    ax[1].set_ylabel(\"$Z_2$\")"
   ]
  },
  {
   "cell_type": "markdown",
   "metadata": {
    "slideshow": {
     "slide_type": "slide"
    }
   },
   "source": [
    "# What is dimensionality reduction?\n",
    "- Reducing the number of features in a dataset\n",
    "- E.g., 1000 rows by 20 columns (features) to 1000 rows by 10 columns\n",
    "\n",
    "\n",
    "## Why do we do it?\n",
    "- Helps our machine learning algorithms perform better\n",
    "- Improves run-time of our algorithms\n",
    "- Storing and using less data (memory)\n",
    "- For visualization\n",
    "\n",
    "**The best solution is the most parsimonious model with acceptable accuracy (or other metric).**"
   ]
  },
  {
   "cell_type": "markdown",
   "metadata": {
    "slideshow": {
     "slide_type": "slide"
    }
   },
   "source": [
    "## When do we do dimensionality reduction?\n",
    "- Before visualization\n",
    "- To improve the performance of our baseline model\n",
    "- Maybe the model is not time efficient?"
   ]
  },
  {
   "cell_type": "markdown",
   "metadata": {
    "slideshow": {
     "slide_type": "slide"
    }
   },
   "source": [
    "## Dimensionality Reduction\n",
    "\n",
    "**The goal is to preserve as much of the important data as possible.**\n",
    "\n",
    "How can we do this?\n",
    "\n",
    "One way, is to select features."
   ]
  },
  {
   "cell_type": "markdown",
   "metadata": {
    "slideshow": {
     "slide_type": "slide"
    }
   },
   "source": [
    "## Variable Selection Techniques\n",
    "\n",
    "**Filter methods**\n",
    "   - Using correlation and other metrics to select variables during data prep\n",
    "   \n",
    "![img](imgs/Filter_Methods.png)\n"
   ]
  },
  {
   "cell_type": "markdown",
   "metadata": {
    "slideshow": {
     "slide_type": "slide"
    }
   },
   "source": [
    "**Wrapper methods**\n",
    "   - \"Try (on a model), measure and try (fitting the model) again\"\n",
    "   - Techniques like backward selection, forward selection\n",
    "   \n",
    "![img](imgs/Wrapper_Methods.png)"
   ]
  },
  {
   "cell_type": "markdown",
   "metadata": {
    "slideshow": {
     "slide_type": "slide"
    }
   },
   "source": [
    "## Variable Selection - Filter Method Example\n",
    "- We are going to use a very famous toy dataset from Sklearn: \n",
    "[The Boston Data Set](https://scikit-learn.org/stable/datasets/index.html#boston-dataset)"
   ]
  },
  {
   "cell_type": "code",
   "execution_count": 27,
   "metadata": {},
   "outputs": [
    {
     "data": {
      "text/html": [
       "<div>\n",
       "<style scoped>\n",
       "    .dataframe tbody tr th:only-of-type {\n",
       "        vertical-align: middle;\n",
       "    }\n",
       "\n",
       "    .dataframe tbody tr th {\n",
       "        vertical-align: top;\n",
       "    }\n",
       "\n",
       "    .dataframe thead th {\n",
       "        text-align: right;\n",
       "    }\n",
       "</style>\n",
       "<table border=\"1\" class=\"dataframe\">\n",
       "  <thead>\n",
       "    <tr style=\"text-align: right;\">\n",
       "      <th></th>\n",
       "      <th>CRIM</th>\n",
       "      <th>ZN</th>\n",
       "      <th>INDUS</th>\n",
       "      <th>CHAS</th>\n",
       "      <th>NOX</th>\n",
       "      <th>RM</th>\n",
       "      <th>AGE</th>\n",
       "      <th>DIS</th>\n",
       "      <th>RAD</th>\n",
       "      <th>TAX</th>\n",
       "      <th>PTRATIO</th>\n",
       "      <th>B</th>\n",
       "      <th>LSTAT</th>\n",
       "      <th>target</th>\n",
       "    </tr>\n",
       "  </thead>\n",
       "  <tbody>\n",
       "    <tr>\n",
       "      <th>0</th>\n",
       "      <td>0.00632</td>\n",
       "      <td>18.0</td>\n",
       "      <td>2.31</td>\n",
       "      <td>0.0</td>\n",
       "      <td>0.538</td>\n",
       "      <td>6.575</td>\n",
       "      <td>65.2</td>\n",
       "      <td>4.0900</td>\n",
       "      <td>1.0</td>\n",
       "      <td>296.0</td>\n",
       "      <td>15.3</td>\n",
       "      <td>396.90</td>\n",
       "      <td>4.98</td>\n",
       "      <td>24.0</td>\n",
       "    </tr>\n",
       "    <tr>\n",
       "      <th>1</th>\n",
       "      <td>0.02731</td>\n",
       "      <td>0.0</td>\n",
       "      <td>7.07</td>\n",
       "      <td>0.0</td>\n",
       "      <td>0.469</td>\n",
       "      <td>6.421</td>\n",
       "      <td>78.9</td>\n",
       "      <td>4.9671</td>\n",
       "      <td>2.0</td>\n",
       "      <td>242.0</td>\n",
       "      <td>17.8</td>\n",
       "      <td>396.90</td>\n",
       "      <td>9.14</td>\n",
       "      <td>21.6</td>\n",
       "    </tr>\n",
       "    <tr>\n",
       "      <th>2</th>\n",
       "      <td>0.02729</td>\n",
       "      <td>0.0</td>\n",
       "      <td>7.07</td>\n",
       "      <td>0.0</td>\n",
       "      <td>0.469</td>\n",
       "      <td>7.185</td>\n",
       "      <td>61.1</td>\n",
       "      <td>4.9671</td>\n",
       "      <td>2.0</td>\n",
       "      <td>242.0</td>\n",
       "      <td>17.8</td>\n",
       "      <td>392.83</td>\n",
       "      <td>4.03</td>\n",
       "      <td>34.7</td>\n",
       "    </tr>\n",
       "    <tr>\n",
       "      <th>3</th>\n",
       "      <td>0.03237</td>\n",
       "      <td>0.0</td>\n",
       "      <td>2.18</td>\n",
       "      <td>0.0</td>\n",
       "      <td>0.458</td>\n",
       "      <td>6.998</td>\n",
       "      <td>45.8</td>\n",
       "      <td>6.0622</td>\n",
       "      <td>3.0</td>\n",
       "      <td>222.0</td>\n",
       "      <td>18.7</td>\n",
       "      <td>394.63</td>\n",
       "      <td>2.94</td>\n",
       "      <td>33.4</td>\n",
       "    </tr>\n",
       "    <tr>\n",
       "      <th>4</th>\n",
       "      <td>0.06905</td>\n",
       "      <td>0.0</td>\n",
       "      <td>2.18</td>\n",
       "      <td>0.0</td>\n",
       "      <td>0.458</td>\n",
       "      <td>7.147</td>\n",
       "      <td>54.2</td>\n",
       "      <td>6.0622</td>\n",
       "      <td>3.0</td>\n",
       "      <td>222.0</td>\n",
       "      <td>18.7</td>\n",
       "      <td>396.90</td>\n",
       "      <td>5.33</td>\n",
       "      <td>36.2</td>\n",
       "    </tr>\n",
       "  </tbody>\n",
       "</table>\n",
       "</div>"
      ],
      "text/plain": [
       "      CRIM    ZN  INDUS  CHAS    NOX     RM   AGE     DIS  RAD    TAX  \\\n",
       "0  0.00632  18.0   2.31   0.0  0.538  6.575  65.2  4.0900  1.0  296.0   \n",
       "1  0.02731   0.0   7.07   0.0  0.469  6.421  78.9  4.9671  2.0  242.0   \n",
       "2  0.02729   0.0   7.07   0.0  0.469  7.185  61.1  4.9671  2.0  242.0   \n",
       "3  0.03237   0.0   2.18   0.0  0.458  6.998  45.8  6.0622  3.0  222.0   \n",
       "4  0.06905   0.0   2.18   0.0  0.458  7.147  54.2  6.0622  3.0  222.0   \n",
       "\n",
       "   PTRATIO       B  LSTAT  target  \n",
       "0     15.3  396.90   4.98    24.0  \n",
       "1     17.8  396.90   9.14    21.6  \n",
       "2     17.8  392.83   4.03    34.7  \n",
       "3     18.7  394.63   2.94    33.4  \n",
       "4     18.7  396.90   5.33    36.2  "
      ]
     },
     "execution_count": 27,
     "metadata": {},
     "output_type": "execute_result"
    }
   ],
   "source": [
    "boston_housing  = load_boston()\n",
    "boston_df = pd.DataFrame(boston_housing.data, columns=boston_housing.feature_names)\n",
    "boston_df['target'] = boston_housing.target\n",
    "boston_df.head()"
   ]
  },
  {
   "cell_type": "markdown",
   "metadata": {
    "slideshow": {
     "slide_type": "slide"
    }
   },
   "source": [
    "### Using correlation\n",
    "- Looking for variables that are highly correlated with target\n",
    "- Eliminating variables that are highly correlated with each other"
   ]
  },
  {
   "cell_type": "code",
   "execution_count": 28,
   "metadata": {
    "scrolled": true,
    "slideshow": {
     "slide_type": "slide"
    }
   },
   "outputs": [
    {
     "data": {
      "text/html": [
       "<div>\n",
       "<style scoped>\n",
       "    .dataframe tbody tr th:only-of-type {\n",
       "        vertical-align: middle;\n",
       "    }\n",
       "\n",
       "    .dataframe tbody tr th {\n",
       "        vertical-align: top;\n",
       "    }\n",
       "\n",
       "    .dataframe thead th {\n",
       "        text-align: right;\n",
       "    }\n",
       "</style>\n",
       "<table border=\"1\" class=\"dataframe\">\n",
       "  <thead>\n",
       "    <tr style=\"text-align: right;\">\n",
       "      <th></th>\n",
       "      <th>CRIM</th>\n",
       "      <th>ZN</th>\n",
       "      <th>INDUS</th>\n",
       "      <th>CHAS</th>\n",
       "      <th>NOX</th>\n",
       "      <th>RM</th>\n",
       "      <th>AGE</th>\n",
       "      <th>DIS</th>\n",
       "      <th>RAD</th>\n",
       "      <th>TAX</th>\n",
       "      <th>PTRATIO</th>\n",
       "      <th>B</th>\n",
       "      <th>LSTAT</th>\n",
       "      <th>target</th>\n",
       "    </tr>\n",
       "  </thead>\n",
       "  <tbody>\n",
       "    <tr>\n",
       "      <th>CRIM</th>\n",
       "      <td>1.000000</td>\n",
       "      <td>-0.200469</td>\n",
       "      <td>0.406583</td>\n",
       "      <td>-0.055892</td>\n",
       "      <td>0.420972</td>\n",
       "      <td>-0.219247</td>\n",
       "      <td>0.352734</td>\n",
       "      <td>-0.379670</td>\n",
       "      <td>0.625505</td>\n",
       "      <td>0.582764</td>\n",
       "      <td>0.289946</td>\n",
       "      <td>-0.385064</td>\n",
       "      <td>0.455621</td>\n",
       "      <td>-0.388305</td>\n",
       "    </tr>\n",
       "    <tr>\n",
       "      <th>ZN</th>\n",
       "      <td>-0.200469</td>\n",
       "      <td>1.000000</td>\n",
       "      <td>-0.533828</td>\n",
       "      <td>-0.042697</td>\n",
       "      <td>-0.516604</td>\n",
       "      <td>0.311991</td>\n",
       "      <td>-0.569537</td>\n",
       "      <td>0.664408</td>\n",
       "      <td>-0.311948</td>\n",
       "      <td>-0.314563</td>\n",
       "      <td>-0.391679</td>\n",
       "      <td>0.175520</td>\n",
       "      <td>-0.412995</td>\n",
       "      <td>0.360445</td>\n",
       "    </tr>\n",
       "    <tr>\n",
       "      <th>INDUS</th>\n",
       "      <td>0.406583</td>\n",
       "      <td>-0.533828</td>\n",
       "      <td>1.000000</td>\n",
       "      <td>0.062938</td>\n",
       "      <td>0.763651</td>\n",
       "      <td>-0.391676</td>\n",
       "      <td>0.644779</td>\n",
       "      <td>-0.708027</td>\n",
       "      <td>0.595129</td>\n",
       "      <td>0.720760</td>\n",
       "      <td>0.383248</td>\n",
       "      <td>-0.356977</td>\n",
       "      <td>0.603800</td>\n",
       "      <td>-0.483725</td>\n",
       "    </tr>\n",
       "    <tr>\n",
       "      <th>CHAS</th>\n",
       "      <td>-0.055892</td>\n",
       "      <td>-0.042697</td>\n",
       "      <td>0.062938</td>\n",
       "      <td>1.000000</td>\n",
       "      <td>0.091203</td>\n",
       "      <td>0.091251</td>\n",
       "      <td>0.086518</td>\n",
       "      <td>-0.099176</td>\n",
       "      <td>-0.007368</td>\n",
       "      <td>-0.035587</td>\n",
       "      <td>-0.121515</td>\n",
       "      <td>0.048788</td>\n",
       "      <td>-0.053929</td>\n",
       "      <td>0.175260</td>\n",
       "    </tr>\n",
       "    <tr>\n",
       "      <th>NOX</th>\n",
       "      <td>0.420972</td>\n",
       "      <td>-0.516604</td>\n",
       "      <td>0.763651</td>\n",
       "      <td>0.091203</td>\n",
       "      <td>1.000000</td>\n",
       "      <td>-0.302188</td>\n",
       "      <td>0.731470</td>\n",
       "      <td>-0.769230</td>\n",
       "      <td>0.611441</td>\n",
       "      <td>0.668023</td>\n",
       "      <td>0.188933</td>\n",
       "      <td>-0.380051</td>\n",
       "      <td>0.590879</td>\n",
       "      <td>-0.427321</td>\n",
       "    </tr>\n",
       "    <tr>\n",
       "      <th>RM</th>\n",
       "      <td>-0.219247</td>\n",
       "      <td>0.311991</td>\n",
       "      <td>-0.391676</td>\n",
       "      <td>0.091251</td>\n",
       "      <td>-0.302188</td>\n",
       "      <td>1.000000</td>\n",
       "      <td>-0.240265</td>\n",
       "      <td>0.205246</td>\n",
       "      <td>-0.209847</td>\n",
       "      <td>-0.292048</td>\n",
       "      <td>-0.355501</td>\n",
       "      <td>0.128069</td>\n",
       "      <td>-0.613808</td>\n",
       "      <td>0.695360</td>\n",
       "    </tr>\n",
       "    <tr>\n",
       "      <th>AGE</th>\n",
       "      <td>0.352734</td>\n",
       "      <td>-0.569537</td>\n",
       "      <td>0.644779</td>\n",
       "      <td>0.086518</td>\n",
       "      <td>0.731470</td>\n",
       "      <td>-0.240265</td>\n",
       "      <td>1.000000</td>\n",
       "      <td>-0.747881</td>\n",
       "      <td>0.456022</td>\n",
       "      <td>0.506456</td>\n",
       "      <td>0.261515</td>\n",
       "      <td>-0.273534</td>\n",
       "      <td>0.602339</td>\n",
       "      <td>-0.376955</td>\n",
       "    </tr>\n",
       "    <tr>\n",
       "      <th>DIS</th>\n",
       "      <td>-0.379670</td>\n",
       "      <td>0.664408</td>\n",
       "      <td>-0.708027</td>\n",
       "      <td>-0.099176</td>\n",
       "      <td>-0.769230</td>\n",
       "      <td>0.205246</td>\n",
       "      <td>-0.747881</td>\n",
       "      <td>1.000000</td>\n",
       "      <td>-0.494588</td>\n",
       "      <td>-0.534432</td>\n",
       "      <td>-0.232471</td>\n",
       "      <td>0.291512</td>\n",
       "      <td>-0.496996</td>\n",
       "      <td>0.249929</td>\n",
       "    </tr>\n",
       "    <tr>\n",
       "      <th>RAD</th>\n",
       "      <td>0.625505</td>\n",
       "      <td>-0.311948</td>\n",
       "      <td>0.595129</td>\n",
       "      <td>-0.007368</td>\n",
       "      <td>0.611441</td>\n",
       "      <td>-0.209847</td>\n",
       "      <td>0.456022</td>\n",
       "      <td>-0.494588</td>\n",
       "      <td>1.000000</td>\n",
       "      <td>0.910228</td>\n",
       "      <td>0.464741</td>\n",
       "      <td>-0.444413</td>\n",
       "      <td>0.488676</td>\n",
       "      <td>-0.381626</td>\n",
       "    </tr>\n",
       "    <tr>\n",
       "      <th>TAX</th>\n",
       "      <td>0.582764</td>\n",
       "      <td>-0.314563</td>\n",
       "      <td>0.720760</td>\n",
       "      <td>-0.035587</td>\n",
       "      <td>0.668023</td>\n",
       "      <td>-0.292048</td>\n",
       "      <td>0.506456</td>\n",
       "      <td>-0.534432</td>\n",
       "      <td>0.910228</td>\n",
       "      <td>1.000000</td>\n",
       "      <td>0.460853</td>\n",
       "      <td>-0.441808</td>\n",
       "      <td>0.543993</td>\n",
       "      <td>-0.468536</td>\n",
       "    </tr>\n",
       "    <tr>\n",
       "      <th>PTRATIO</th>\n",
       "      <td>0.289946</td>\n",
       "      <td>-0.391679</td>\n",
       "      <td>0.383248</td>\n",
       "      <td>-0.121515</td>\n",
       "      <td>0.188933</td>\n",
       "      <td>-0.355501</td>\n",
       "      <td>0.261515</td>\n",
       "      <td>-0.232471</td>\n",
       "      <td>0.464741</td>\n",
       "      <td>0.460853</td>\n",
       "      <td>1.000000</td>\n",
       "      <td>-0.177383</td>\n",
       "      <td>0.374044</td>\n",
       "      <td>-0.507787</td>\n",
       "    </tr>\n",
       "    <tr>\n",
       "      <th>B</th>\n",
       "      <td>-0.385064</td>\n",
       "      <td>0.175520</td>\n",
       "      <td>-0.356977</td>\n",
       "      <td>0.048788</td>\n",
       "      <td>-0.380051</td>\n",
       "      <td>0.128069</td>\n",
       "      <td>-0.273534</td>\n",
       "      <td>0.291512</td>\n",
       "      <td>-0.444413</td>\n",
       "      <td>-0.441808</td>\n",
       "      <td>-0.177383</td>\n",
       "      <td>1.000000</td>\n",
       "      <td>-0.366087</td>\n",
       "      <td>0.333461</td>\n",
       "    </tr>\n",
       "    <tr>\n",
       "      <th>LSTAT</th>\n",
       "      <td>0.455621</td>\n",
       "      <td>-0.412995</td>\n",
       "      <td>0.603800</td>\n",
       "      <td>-0.053929</td>\n",
       "      <td>0.590879</td>\n",
       "      <td>-0.613808</td>\n",
       "      <td>0.602339</td>\n",
       "      <td>-0.496996</td>\n",
       "      <td>0.488676</td>\n",
       "      <td>0.543993</td>\n",
       "      <td>0.374044</td>\n",
       "      <td>-0.366087</td>\n",
       "      <td>1.000000</td>\n",
       "      <td>-0.737663</td>\n",
       "    </tr>\n",
       "    <tr>\n",
       "      <th>target</th>\n",
       "      <td>-0.388305</td>\n",
       "      <td>0.360445</td>\n",
       "      <td>-0.483725</td>\n",
       "      <td>0.175260</td>\n",
       "      <td>-0.427321</td>\n",
       "      <td>0.695360</td>\n",
       "      <td>-0.376955</td>\n",
       "      <td>0.249929</td>\n",
       "      <td>-0.381626</td>\n",
       "      <td>-0.468536</td>\n",
       "      <td>-0.507787</td>\n",
       "      <td>0.333461</td>\n",
       "      <td>-0.737663</td>\n",
       "      <td>1.000000</td>\n",
       "    </tr>\n",
       "  </tbody>\n",
       "</table>\n",
       "</div>"
      ],
      "text/plain": [
       "             CRIM        ZN     INDUS      CHAS       NOX        RM       AGE  \\\n",
       "CRIM     1.000000 -0.200469  0.406583 -0.055892  0.420972 -0.219247  0.352734   \n",
       "ZN      -0.200469  1.000000 -0.533828 -0.042697 -0.516604  0.311991 -0.569537   \n",
       "INDUS    0.406583 -0.533828  1.000000  0.062938  0.763651 -0.391676  0.644779   \n",
       "CHAS    -0.055892 -0.042697  0.062938  1.000000  0.091203  0.091251  0.086518   \n",
       "NOX      0.420972 -0.516604  0.763651  0.091203  1.000000 -0.302188  0.731470   \n",
       "RM      -0.219247  0.311991 -0.391676  0.091251 -0.302188  1.000000 -0.240265   \n",
       "AGE      0.352734 -0.569537  0.644779  0.086518  0.731470 -0.240265  1.000000   \n",
       "DIS     -0.379670  0.664408 -0.708027 -0.099176 -0.769230  0.205246 -0.747881   \n",
       "RAD      0.625505 -0.311948  0.595129 -0.007368  0.611441 -0.209847  0.456022   \n",
       "TAX      0.582764 -0.314563  0.720760 -0.035587  0.668023 -0.292048  0.506456   \n",
       "PTRATIO  0.289946 -0.391679  0.383248 -0.121515  0.188933 -0.355501  0.261515   \n",
       "B       -0.385064  0.175520 -0.356977  0.048788 -0.380051  0.128069 -0.273534   \n",
       "LSTAT    0.455621 -0.412995  0.603800 -0.053929  0.590879 -0.613808  0.602339   \n",
       "target  -0.388305  0.360445 -0.483725  0.175260 -0.427321  0.695360 -0.376955   \n",
       "\n",
       "              DIS       RAD       TAX   PTRATIO         B     LSTAT    target  \n",
       "CRIM    -0.379670  0.625505  0.582764  0.289946 -0.385064  0.455621 -0.388305  \n",
       "ZN       0.664408 -0.311948 -0.314563 -0.391679  0.175520 -0.412995  0.360445  \n",
       "INDUS   -0.708027  0.595129  0.720760  0.383248 -0.356977  0.603800 -0.483725  \n",
       "CHAS    -0.099176 -0.007368 -0.035587 -0.121515  0.048788 -0.053929  0.175260  \n",
       "NOX     -0.769230  0.611441  0.668023  0.188933 -0.380051  0.590879 -0.427321  \n",
       "RM       0.205246 -0.209847 -0.292048 -0.355501  0.128069 -0.613808  0.695360  \n",
       "AGE     -0.747881  0.456022  0.506456  0.261515 -0.273534  0.602339 -0.376955  \n",
       "DIS      1.000000 -0.494588 -0.534432 -0.232471  0.291512 -0.496996  0.249929  \n",
       "RAD     -0.494588  1.000000  0.910228  0.464741 -0.444413  0.488676 -0.381626  \n",
       "TAX     -0.534432  0.910228  1.000000  0.460853 -0.441808  0.543993 -0.468536  \n",
       "PTRATIO -0.232471  0.464741  0.460853  1.000000 -0.177383  0.374044 -0.507787  \n",
       "B        0.291512 -0.444413 -0.441808 -0.177383  1.000000 -0.366087  0.333461  \n",
       "LSTAT   -0.496996  0.488676  0.543993  0.374044 -0.366087  1.000000 -0.737663  \n",
       "target   0.249929 -0.381626 -0.468536 -0.507787  0.333461 -0.737663  1.000000  "
      ]
     },
     "execution_count": 28,
     "metadata": {},
     "output_type": "execute_result"
    }
   ],
   "source": [
    "# Get pair-wise correlation between features and features and target\n",
    "cor = boston_df.corr()\n",
    "cor"
   ]
  },
  {
   "cell_type": "markdown",
   "metadata": {
    "slideshow": {
     "slide_type": "slide"
    }
   },
   "source": [
    "### Correlation heat map\n",
    "- Much easier to see"
   ]
  },
  {
   "cell_type": "code",
   "execution_count": 29,
   "metadata": {
    "slideshow": {
     "slide_type": "slide"
    }
   },
   "outputs": [
    {
     "data": {
      "image/png": "[encoded data removed]",
      "text/plain": [
       "<Figure size 864x720 with 2 Axes>"
      ]
     },
     "metadata": {
      "needs_background": "light"
     },
     "output_type": "display_data"
    }
   ],
   "source": [
    "plt.figure(figsize=(12,10))\n",
    "sns.heatmap(cor, annot=True, cmap=plt.cm.Blues)\n",
    "plt.show()"
   ]
  },
  {
   "cell_type": "markdown",
   "metadata": {
    "slideshow": {
     "slide_type": "slide"
    }
   },
   "source": [
    "## Drawbacks of using correlation\n",
    "\n",
    "- Ignores variable interactions\n",
    "- Looking at feature combinations independently"
   ]
  },
  {
   "cell_type": "markdown",
   "metadata": {
    "slideshow": {
     "slide_type": "slide"
    }
   },
   "source": [
    "## Variable Selection - Wrapper Method\n",
    "- Remember that wrapper method uses a \"try and see\" approach for a given model\n",
    "- **Forward Selection**: Start with having no features in the model. In each iteration, we keep adding the feature which best improves our model till an addition of a new variable does not improve the performance of the model.\n",
    "- **Backward Elimination**: Start with all the features and removes the least significant feature at each iteration which improves the performance of the model. We repeat this until no improvement is observed on removal of features.\n",
    "- **Recursive Feature elimination**: ... next slide"
   ]
  },
  {
   "cell_type": "markdown",
   "metadata": {
    "slideshow": {
     "slide_type": "slide"
    }
   },
   "source": [
    "## Variable Selection - Wrapper Method continued...\n",
    "### Recursive Feature Elimination\n",
    "\n",
    "1. Decide $k$, the number of features to select. \n",
    "* Use a model (usually a linear model) to assign weights to features.\n",
    "    - The weights of important features have higher absolute value.\n",
    "* Rank the features based on the absolute value of weights.\n",
    "* Drop the least useful feature.\n",
    "* Try steps 2-4 again until desired number of features is reached"
   ]
  },
  {
   "cell_type": "markdown",
   "metadata": {
    "slideshow": {
     "slide_type": "slide"
    }
   },
   "source": [
    "## Variable Selection - Wrapper Methods Tips\n",
    "- Look for implementations, `sklearn` has a `rfe` implementations, for example\n",
    "- It's not possible to tell which method will work better until you try\n",
    "- Different variable selection algorithms may give you a different answers\n",
    "- Different machine learning algorithms with the same variable selection method may give you different answers\n",
    "- Over this process, you'll find out what features tend to get eliminated and which features tend to be kept (hopefully)"
   ]
  },
  {
   "cell_type": "markdown",
   "metadata": {
    "slideshow": {
     "slide_type": "slide"
    }
   },
   "source": [
    "### What if.... \n",
    "###  <pre class=\"tab\">          instead selecting features, we created features? </pre> \n",
    "\n",
    "Two well-known techniques amongst many others are:\n",
    "\n",
    "- Principal Component Analysis (PCA)\n",
    "- Linear Discriminant Analysis (LDA)\n",
    "\n",
    "We are only going to cover PCA."
   ]
  },
  {
   "cell_type": "markdown",
   "metadata": {
    "slideshow": {
     "slide_type": "slide"
    }
   },
   "source": [
    "## Principal Component Analysis (PCA)\n",
    "\n",
    "- Consider a data matrix $X$ with $n$ rows and $d$ columns\n",
    "\n",
    "\n",
    "- We want a new data matrix $Z$ with $n$ rows and $k\\leq d$ columns\n",
    "\n",
    "$$\n",
    "\\textbf{X} = \n",
    "\\underbrace{\\left[\n",
    "  \\begin{array}{cccc}\n",
    "    \\rule[-1ex]{0.5pt}{2.5ex} & \\rule[-1ex]{0.5pt}{2.5ex} &   &  &   & \\rule[-1ex]{0.5pt}{2.5ex} \\\\\n",
    "    \\textbf{X}_{1}    & \\textbf{X}_{2}    & \\ldots & \\ldots & \\ldots & \\textbf{X}_{d}    \\\\\n",
    "    \\rule[-1ex]{0.5pt}{2.5ex} & \\rule[-1ex]{0.5pt}{2.5ex} &   &   &  & \\rule[-1ex]{0.5pt}{2.5ex} \n",
    "  \\end{array}\n",
    "\\right]}_{\\text{d columns (wider)}}\\\\\n",
    "\\textbf{Z} = \n",
    "\\underbrace{\\left[\n",
    "  \\begin{array}{cccc}\n",
    "    \\rule[-1ex]{0.5pt}{2.5ex} &         & \\rule[-1ex]{0.5pt}{2.5ex} \\\\\n",
    "    {\\textbf{Z}}_{1}    & \\ldots & \\textbf{Z}_{k}    \\\\\n",
    "    \\rule[-1ex]{0.5pt}{2.5ex}  &        & \\rule[-1ex]{0.5pt}{2.5ex} \n",
    "  \\end{array}\n",
    "\\right]}_{\\text{k columns (narrower)}}\n",
    "$$\n",
    "\n",
    "Remember: The point is to reduce dimensions"
   ]
  },
  {
   "cell_type": "markdown",
   "metadata": {
    "slideshow": {
     "slide_type": "slide"
    }
   },
   "source": [
    "## Let's load in some data\n",
    "\n",
    "Now, let's talk about the wine [dataset](https://scikit-learn.org/stable/datasets/index.html#wine-dataset)"
   ]
  },
  {
   "cell_type": "code",
   "execution_count": 3,
   "metadata": {
    "slideshow": {
     "slide_type": "fragment"
    }
   },
   "outputs": [],
   "source": [
    "wine_data = datasets.load_wine() #load dataset\n",
    "wine = pd.DataFrame(wine_data.data, columns=wine_data['feature_names']) # turn into dataframe\n",
    "X = StandardScaler().fit_transform(wine) # scaling\n",
    "wine_std = pd.DataFrame(X, columns = wine.columns) # put back in dataframe"
   ]
  },
  {
   "cell_type": "code",
   "execution_count": 4,
   "metadata": {
    "scrolled": true,
    "slideshow": {
     "slide_type": "slide"
    }
   },
   "outputs": [
    {
     "data": {
      "text/html": [
       "<div>\n",
       "<style scoped>\n",
       "    .dataframe tbody tr th:only-of-type {\n",
       "        vertical-align: middle;\n",
       "    }\n",
       "\n",
       "    .dataframe tbody tr th {\n",
       "        vertical-align: top;\n",
       "    }\n",
       "\n",
       "    .dataframe thead th {\n",
       "        text-align: right;\n",
       "    }\n",
       "</style>\n",
       "<table border=\"1\" class=\"dataframe\">\n",
       "  <thead>\n",
       "    <tr style=\"text-align: right;\">\n",
       "      <th></th>\n",
       "      <th>alcohol</th>\n",
       "      <th>malic_acid</th>\n",
       "      <th>ash</th>\n",
       "      <th>alcalinity_of_ash</th>\n",
       "      <th>magnesium</th>\n",
       "      <th>total_phenols</th>\n",
       "      <th>flavanoids</th>\n",
       "      <th>nonflavanoid_phenols</th>\n",
       "      <th>proanthocyanins</th>\n",
       "      <th>color_intensity</th>\n",
       "      <th>hue</th>\n",
       "      <th>od280/od315_of_diluted_wines</th>\n",
       "      <th>proline</th>\n",
       "    </tr>\n",
       "  </thead>\n",
       "  <tbody>\n",
       "    <tr>\n",
       "      <th>0</th>\n",
       "      <td>14.23</td>\n",
       "      <td>1.71</td>\n",
       "      <td>2.43</td>\n",
       "      <td>15.6</td>\n",
       "      <td>127.0</td>\n",
       "      <td>2.80</td>\n",
       "      <td>3.06</td>\n",
       "      <td>0.28</td>\n",
       "      <td>2.29</td>\n",
       "      <td>5.64</td>\n",
       "      <td>1.04</td>\n",
       "      <td>3.92</td>\n",
       "      <td>1065.0</td>\n",
       "    </tr>\n",
       "    <tr>\n",
       "      <th>1</th>\n",
       "      <td>13.20</td>\n",
       "      <td>1.78</td>\n",
       "      <td>2.14</td>\n",
       "      <td>11.2</td>\n",
       "      <td>100.0</td>\n",
       "      <td>2.65</td>\n",
       "      <td>2.76</td>\n",
       "      <td>0.26</td>\n",
       "      <td>1.28</td>\n",
       "      <td>4.38</td>\n",
       "      <td>1.05</td>\n",
       "      <td>3.40</td>\n",
       "      <td>1050.0</td>\n",
       "    </tr>\n",
       "    <tr>\n",
       "      <th>2</th>\n",
       "      <td>13.16</td>\n",
       "      <td>2.36</td>\n",
       "      <td>2.67</td>\n",
       "      <td>18.6</td>\n",
       "      <td>101.0</td>\n",
       "      <td>2.80</td>\n",
       "      <td>3.24</td>\n",
       "      <td>0.30</td>\n",
       "      <td>2.81</td>\n",
       "      <td>5.68</td>\n",
       "      <td>1.03</td>\n",
       "      <td>3.17</td>\n",
       "      <td>1185.0</td>\n",
       "    </tr>\n",
       "    <tr>\n",
       "      <th>3</th>\n",
       "      <td>14.37</td>\n",
       "      <td>1.95</td>\n",
       "      <td>2.50</td>\n",
       "      <td>16.8</td>\n",
       "      <td>113.0</td>\n",
       "      <td>3.85</td>\n",
       "      <td>3.49</td>\n",
       "      <td>0.24</td>\n",
       "      <td>2.18</td>\n",
       "      <td>7.80</td>\n",
       "      <td>0.86</td>\n",
       "      <td>3.45</td>\n",
       "      <td>1480.0</td>\n",
       "    </tr>\n",
       "    <tr>\n",
       "      <th>4</th>\n",
       "      <td>13.24</td>\n",
       "      <td>2.59</td>\n",
       "      <td>2.87</td>\n",
       "      <td>21.0</td>\n",
       "      <td>118.0</td>\n",
       "      <td>2.80</td>\n",
       "      <td>2.69</td>\n",
       "      <td>0.39</td>\n",
       "      <td>1.82</td>\n",
       "      <td>4.32</td>\n",
       "      <td>1.04</td>\n",
       "      <td>2.93</td>\n",
       "      <td>735.0</td>\n",
       "    </tr>\n",
       "  </tbody>\n",
       "</table>\n",
       "</div>"
      ],
      "text/plain": [
       "   alcohol  malic_acid   ash  alcalinity_of_ash  magnesium  total_phenols  \\\n",
       "0    14.23        1.71  2.43               15.6      127.0           2.80   \n",
       "1    13.20        1.78  2.14               11.2      100.0           2.65   \n",
       "2    13.16        2.36  2.67               18.6      101.0           2.80   \n",
       "3    14.37        1.95  2.50               16.8      113.0           3.85   \n",
       "4    13.24        2.59  2.87               21.0      118.0           2.80   \n",
       "\n",
       "   flavanoids  nonflavanoid_phenols  proanthocyanins  color_intensity   hue  \\\n",
       "0        3.06                  0.28             2.29             5.64  1.04   \n",
       "1        2.76                  0.26             1.28             4.38  1.05   \n",
       "2        3.24                  0.30             2.81             5.68  1.03   \n",
       "3        3.49                  0.24             2.18             7.80  0.86   \n",
       "4        2.69                  0.39             1.82             4.32  1.04   \n",
       "\n",
       "   od280/od315_of_diluted_wines  proline  \n",
       "0                          3.92   1065.0  \n",
       "1                          3.40   1050.0  \n",
       "2                          3.17   1185.0  \n",
       "3                          3.45   1480.0  \n",
       "4                          2.93    735.0  "
      ]
     },
     "execution_count": 4,
     "metadata": {},
     "output_type": "execute_result"
    }
   ],
   "source": [
    "wine.head()"
   ]
  },
  {
   "cell_type": "code",
   "execution_count": 5,
   "metadata": {
    "slideshow": {
     "slide_type": "slide"
    }
   },
   "outputs": [
    {
     "data": {
      "text/html": [
       "<div>\n",
       "<style scoped>\n",
       "    .dataframe tbody tr th:only-of-type {\n",
       "        vertical-align: middle;\n",
       "    }\n",
       "\n",
       "    .dataframe tbody tr th {\n",
       "        vertical-align: top;\n",
       "    }\n",
       "\n",
       "    .dataframe thead th {\n",
       "        text-align: right;\n",
       "    }\n",
       "</style>\n",
       "<table border=\"1\" class=\"dataframe\">\n",
       "  <thead>\n",
       "    <tr style=\"text-align: right;\">\n",
       "      <th></th>\n",
       "      <th>alcohol</th>\n",
       "      <th>malic_acid</th>\n",
       "      <th>ash</th>\n",
       "      <th>alcalinity_of_ash</th>\n",
       "      <th>magnesium</th>\n",
       "      <th>total_phenols</th>\n",
       "      <th>flavanoids</th>\n",
       "      <th>nonflavanoid_phenols</th>\n",
       "      <th>proanthocyanins</th>\n",
       "      <th>color_intensity</th>\n",
       "      <th>hue</th>\n",
       "      <th>od280/od315_of_diluted_wines</th>\n",
       "      <th>proline</th>\n",
       "    </tr>\n",
       "  </thead>\n",
       "  <tbody>\n",
       "    <tr>\n",
       "      <th>0</th>\n",
       "      <td>1.518613</td>\n",
       "      <td>-0.562250</td>\n",
       "      <td>0.232053</td>\n",
       "      <td>-1.169593</td>\n",
       "      <td>1.913905</td>\n",
       "      <td>0.808997</td>\n",
       "      <td>1.034819</td>\n",
       "      <td>-0.659563</td>\n",
       "      <td>1.224884</td>\n",
       "      <td>0.251717</td>\n",
       "      <td>0.362177</td>\n",
       "      <td>1.847920</td>\n",
       "      <td>1.013009</td>\n",
       "    </tr>\n",
       "    <tr>\n",
       "      <th>1</th>\n",
       "      <td>0.246290</td>\n",
       "      <td>-0.499413</td>\n",
       "      <td>-0.827996</td>\n",
       "      <td>-2.490847</td>\n",
       "      <td>0.018145</td>\n",
       "      <td>0.568648</td>\n",
       "      <td>0.733629</td>\n",
       "      <td>-0.820719</td>\n",
       "      <td>-0.544721</td>\n",
       "      <td>-0.293321</td>\n",
       "      <td>0.406051</td>\n",
       "      <td>1.113449</td>\n",
       "      <td>0.965242</td>\n",
       "    </tr>\n",
       "    <tr>\n",
       "      <th>2</th>\n",
       "      <td>0.196879</td>\n",
       "      <td>0.021231</td>\n",
       "      <td>1.109334</td>\n",
       "      <td>-0.268738</td>\n",
       "      <td>0.088358</td>\n",
       "      <td>0.808997</td>\n",
       "      <td>1.215533</td>\n",
       "      <td>-0.498407</td>\n",
       "      <td>2.135968</td>\n",
       "      <td>0.269020</td>\n",
       "      <td>0.318304</td>\n",
       "      <td>0.788587</td>\n",
       "      <td>1.395148</td>\n",
       "    </tr>\n",
       "    <tr>\n",
       "      <th>3</th>\n",
       "      <td>1.691550</td>\n",
       "      <td>-0.346811</td>\n",
       "      <td>0.487926</td>\n",
       "      <td>-0.809251</td>\n",
       "      <td>0.930918</td>\n",
       "      <td>2.491446</td>\n",
       "      <td>1.466525</td>\n",
       "      <td>-0.981875</td>\n",
       "      <td>1.032155</td>\n",
       "      <td>1.186068</td>\n",
       "      <td>-0.427544</td>\n",
       "      <td>1.184071</td>\n",
       "      <td>2.334574</td>\n",
       "    </tr>\n",
       "    <tr>\n",
       "      <th>4</th>\n",
       "      <td>0.295700</td>\n",
       "      <td>0.227694</td>\n",
       "      <td>1.840403</td>\n",
       "      <td>0.451946</td>\n",
       "      <td>1.281985</td>\n",
       "      <td>0.808997</td>\n",
       "      <td>0.663351</td>\n",
       "      <td>0.226796</td>\n",
       "      <td>0.401404</td>\n",
       "      <td>-0.319276</td>\n",
       "      <td>0.362177</td>\n",
       "      <td>0.449601</td>\n",
       "      <td>-0.037874</td>\n",
       "    </tr>\n",
       "  </tbody>\n",
       "</table>\n",
       "</div>"
      ],
      "text/plain": [
       "    alcohol  malic_acid       ash  alcalinity_of_ash  magnesium  \\\n",
       "0  1.518613   -0.562250  0.232053          -1.169593   1.913905   \n",
       "1  0.246290   -0.499413 -0.827996          -2.490847   0.018145   \n",
       "2  0.196879    0.021231  1.109334          -0.268738   0.088358   \n",
       "3  1.691550   -0.346811  0.487926          -0.809251   0.930918   \n",
       "4  0.295700    0.227694  1.840403           0.451946   1.281985   \n",
       "\n",
       "   total_phenols  flavanoids  nonflavanoid_phenols  proanthocyanins  \\\n",
       "0       0.808997    1.034819             -0.659563         1.224884   \n",
       "1       0.568648    0.733629             -0.820719        -0.544721   \n",
       "2       0.808997    1.215533             -0.498407         2.135968   \n",
       "3       2.491446    1.466525             -0.981875         1.032155   \n",
       "4       0.808997    0.663351              0.226796         0.401404   \n",
       "\n",
       "   color_intensity       hue  od280/od315_of_diluted_wines   proline  \n",
       "0         0.251717  0.362177                      1.847920  1.013009  \n",
       "1        -0.293321  0.406051                      1.113449  0.965242  \n",
       "2         0.269020  0.318304                      0.788587  1.395148  \n",
       "3         1.186068 -0.427544                      1.184071  2.334574  \n",
       "4        -0.319276  0.362177                      0.449601 -0.037874  "
      ]
     },
     "execution_count": 5,
     "metadata": {},
     "output_type": "execute_result"
    }
   ],
   "source": [
    "wine_std.head()"
   ]
  },
  {
   "cell_type": "markdown",
   "metadata": {
    "slideshow": {
     "slide_type": "slide"
    }
   },
   "source": [
    "## Concept 1: Projecting data to reduce number of dimensions"
   ]
  },
  {
   "cell_type": "code",
   "execution_count": 6,
   "metadata": {},
   "outputs": [
    {
     "data": {
      "image/png": "[encoded data removed]",
      "text/plain": [
       "<Figure size 1080x576 with 2 Axes>"
      ]
     },
     "metadata": {
      "needs_background": "light"
     },
     "output_type": "display_data"
    }
   ],
   "source": [
    "plot_reduction2d(wine_std[['alcohol', 'magnesium']], 15, 8, drop = 0) # can try to drop 1 too"
   ]
  },
  {
   "cell_type": "markdown",
   "metadata": {
    "slideshow": {
     "slide_type": "slide"
    }
   },
   "source": [
    "## Concept 2: Choosing a line to project on\n",
    "- In PCA, we're trying to project onto an axis of maximum variance"
   ]
  },
  {
   "cell_type": "code",
   "execution_count": 7,
   "metadata": {},
   "outputs": [
    {
     "data": {
      "image/png": "[encoded data removed]",
      "text/plain": [
       "<Figure size 1080x576 with 2 Axes>"
      ]
     },
     "metadata": {
      "needs_background": "light"
     },
     "output_type": "display_data"
    }
   ],
   "source": [
    "for θ in np.linspace(0,170, 8):\n",
    "    plot_rotation2d(wine_std, 15, 8, θ, clear=True)\n",
    "    time.sleep(2)"
   ]
  },
  {
   "cell_type": "markdown",
   "metadata": {
    "slideshow": {
     "slide_type": "slide"
    }
   },
   "source": [
    "## Concept 3: Many components"
   ]
  },
  {
   "cell_type": "code",
   "execution_count": 8,
   "metadata": {},
   "outputs": [
    {
     "data": {
      "image/png": "[encoded data removed]",
      "text/plain": [
       "<Figure size 1080x576 with 2 Axes>"
      ]
     },
     "metadata": {
      "needs_background": "light"
     },
     "output_type": "display_data"
    }
   ],
   "source": [
    "plot_pca_rotation2d(wine_std[['alcohol', 'malic_acid']], 15, 8)"
   ]
  },
  {
   "cell_type": "markdown",
   "metadata": {
    "slideshow": {
     "slide_type": "slide"
    }
   },
   "source": [
    "## Mathematically speaking ...\n",
    "\n",
    "Let $Z$ be our new desired representation.\n",
    "\n",
    "$$\n",
    "\\textbf{Z}_{(n\\times k)} = \\textbf{X}_{(n\\times d)}\\left(\\textbf{w}_{(k\\times d)}\\right)^T\n",
    "$$\n",
    "\n",
    "where $1\\leq k \\leq d$ and $d$ is the dimension of the original dataset."
   ]
  },
  {
   "cell_type": "markdown",
   "metadata": {
    "slideshow": {
     "slide_type": "slide"
    }
   },
   "source": [
    "$$\n",
    "\\left[\n",
    "  \\begin{array}{cccc}\n",
    "    \\rule[-1ex]{0.5pt}{2.5ex} &         & \\rule[-1ex]{0.5pt}{2.5ex} \\\\\n",
    "    {\\textbf{Z}}_{1}    & \\ldots & \\textbf{Z}_{d}    \\\\\n",
    "    \\rule[-1ex]{0.5pt}{2.5ex}  &        & \\rule[-1ex]{0.5pt}{2.5ex} \n",
    "  \\end{array}\n",
    "\\right] = \n",
    "\\left[\n",
    "  \\begin{array}{cccc}\n",
    "    \\rule[-1ex]{0.5pt}{2.5ex} & \\rule[-1ex]{0.5pt}{2.5ex}    &     & \\rule[-1ex]{0.5pt}{2.5ex} \\\\\n",
    "    \\textbf{X}_{1}    & \\textbf{X}_{2}    & \\ldots  & \\textbf{X}_{d}    \\\\\n",
    "    \\rule[-1ex]{0.5pt}{2.5ex} & \\rule[-1ex]{0.5pt}{2.5ex}    &     & \\rule[-1ex]{0.5pt}{2.5ex} \n",
    "  \\end{array}\n",
    "\\right]\\underbrace{\\left[\n",
    "  \\begin{array}{cccc}\n",
    "    \\rule[-1ex]{0.5pt}{2.5ex} & \\rule[-1ex]{0.5pt}{2.5ex} &        & \\rule[-1ex]{0.5pt}{2.5ex} \\\\\n",
    "    \\textbf{PC}_{1}    & \\textbf{PC}_{2}    & \\ldots  & \\textbf{PC}_{d}    \\\\\n",
    "    \\rule[-1ex]{0.5pt}{2.5ex} & \\rule[-1ex]{0.5pt}{2.5ex} &        & \\rule[-1ex]{0.5pt}{2.5ex} \n",
    "  \\end{array}\n",
    "\\right]}_{\\left(\\textbf{w}_{(d\\times d)}\\right)^T}\n",
    "$$"
   ]
  },
  {
   "cell_type": "markdown",
   "metadata": {
    "slideshow": {
     "slide_type": "slide"
    }
   },
   "source": [
    "(Each PC is called an eigenvector - this might sound too complicated. Think of it as a linear combination that is ortogonal to all the other vectors. The weights that have the biggest absolut value (eigenvalues), are the features that explain that vector the most.)"
   ]
  },
  {
   "cell_type": "markdown",
   "metadata": {
    "slideshow": {
     "slide_type": "slide"
    }
   },
   "source": [
    "## The code\n",
    "- Let's just use the first 3 features"
   ]
  },
  {
   "cell_type": "code",
   "execution_count": 37,
   "metadata": {},
   "outputs": [
    {
     "data": {
      "text/plain": [
       "array([[ 1.51861254, -0.5622498 ,  0.23205254],\n",
       "       [ 0.24628963, -0.49941338, -0.82799632],\n",
       "       [ 0.19687903,  0.02123125,  1.10933436],\n",
       "       [ 1.69154964, -0.34681064,  0.4879264 ],\n",
       "       [ 0.29570023,  0.22769377,  1.84040254]])"
      ]
     },
     "execution_count": 37,
     "metadata": {},
     "output_type": "execute_result"
    }
   ],
   "source": [
    "X = wine_std.iloc[:, 0:3].to_numpy()\n",
    "X[0:5, :]"
   ]
  },
  {
   "cell_type": "code",
   "execution_count": 38,
   "metadata": {},
   "outputs": [
    {
     "data": {
      "text/plain": [
       "(178, 3)"
      ]
     },
     "execution_count": 38,
     "metadata": {},
     "output_type": "execute_result"
    }
   ],
   "source": [
    "X.shape"
   ]
  },
  {
   "cell_type": "markdown",
   "metadata": {
    "slideshow": {
     "slide_type": "slide"
    }
   },
   "source": [
    "Let's fit a PCA, turning our $X$ into $Z$"
   ]
  },
  {
   "cell_type": "code",
   "execution_count": 39,
   "metadata": {},
   "outputs": [
    {
     "name": "stdout",
     "output_type": "stream",
     "text": [
      "[[-0.74288937 -1.35859608 -0.52772089]\n",
      " [ 0.64174121 -0.45223797 -0.61587276]\n",
      " [-0.83794212 -0.22221255  0.7199371 ]\n",
      " [-1.11568165 -1.31345903 -0.49976974]\n",
      " [-1.46913532 -0.19525223  1.15320535]]\n"
     ]
    }
   ],
   "source": [
    "# PCA object will fit a PCA for us\n",
    "pca = PCA(n_components=3)\n",
    "\n",
    "# Learning the components and transforming X into Z\n",
    "Z = pca.fit_transform(X)\n",
    "\n",
    "print(Z[0:5, :])"
   ]
  },
  {
   "cell_type": "code",
   "execution_count": 40,
   "metadata": {},
   "outputs": [
    {
     "data": {
      "text/plain": [
       "(178, 3)"
      ]
     },
     "execution_count": 40,
     "metadata": {},
     "output_type": "execute_result"
    }
   ],
   "source": [
    "Z.shape"
   ]
  },
  {
   "cell_type": "markdown",
   "metadata": {
    "slideshow": {
     "slide_type": "slide"
    }
   },
   "source": [
    "What is our $w$? They are our components."
   ]
  },
  {
   "cell_type": "code",
   "execution_count": 41,
   "metadata": {},
   "outputs": [
    {
     "name": "stdout",
     "output_type": "stream",
     "text": [
      "[[-0.57714314 -0.50306233 -0.64329937]\n",
      " [-0.57817425  0.80802739 -0.1131648 ]\n",
      " [-0.57673246 -0.30662685  0.75720515]]\n"
     ]
    }
   ],
   "source": [
    "# This is our w (the components row-wise)\n",
    "w = pca.components_\n",
    "print(w)"
   ]
  },
  {
   "cell_type": "code",
   "execution_count": 42,
   "metadata": {},
   "outputs": [
    {
     "data": {
      "text/plain": [
       "(3, 3)"
      ]
     },
     "execution_count": 42,
     "metadata": {},
     "output_type": "execute_result"
    }
   ],
   "source": [
    "w.shape"
   ]
  },
  {
   "cell_type": "markdown",
   "metadata": {
    "slideshow": {
     "slide_type": "slide"
    }
   },
   "source": [
    "Let's make sure it checks out..."
   ]
  },
  {
   "cell_type": "code",
   "execution_count": 43,
   "metadata": {},
   "outputs": [
    {
     "name": "stdout",
     "output_type": "stream",
     "text": [
      "[[-0.74288937 -1.35859608 -0.52772089]\n",
      " [ 0.64174121 -0.45223797 -0.61587276]\n",
      " [-0.83794212 -0.22221255  0.7199371 ]\n",
      " [-1.11568165 -1.31345903 -0.49976974]\n",
      " [-1.46913532 -0.19525223  1.15320535]]\n"
     ]
    }
   ],
   "source": [
    "# Sanity check:\n",
    "print(Z[0:5, :])"
   ]
  },
  {
   "cell_type": "code",
   "execution_count": 44,
   "metadata": {},
   "outputs": [
    {
     "data": {
      "text/plain": [
       "array([[-0.74288937, -1.35859608, -0.52772089],\n",
       "       [ 0.64174121, -0.45223797, -0.61587276],\n",
       "       [-0.83794212, -0.22221255,  0.7199371 ],\n",
       "       [-1.11568165, -1.31345903, -0.49976974],\n",
       "       [-1.46913532, -0.19525223,  1.15320535]])"
      ]
     },
     "execution_count": 44,
     "metadata": {},
     "output_type": "execute_result"
    }
   ],
   "source": [
    "(X @ w.T)[0:5, :]"
   ]
  },
  {
   "cell_type": "code",
   "execution_count": 45,
   "metadata": {},
   "outputs": [
    {
     "data": {
      "text/plain": [
       "(178, 3)"
      ]
     },
     "execution_count": 45,
     "metadata": {},
     "output_type": "execute_result"
    }
   ],
   "source": [
    "Z.shape"
   ]
  },
  {
   "cell_type": "markdown",
   "metadata": {
    "slideshow": {
     "slide_type": "slide"
    }
   },
   "source": [
    "## The whole point is dimensionality *reduction*\n",
    "- How many components do I pick?"
   ]
  },
  {
   "cell_type": "code",
   "execution_count": 46,
   "metadata": {},
   "outputs": [
    {
     "data": {
      "text/plain": [
       "array([0.4393579 , 0.30316024, 0.25748186])"
      ]
     },
     "execution_count": 46,
     "metadata": {},
     "output_type": "execute_result"
    }
   ],
   "source": [
    "# Variance explained\n",
    "pca.explained_variance_ratio_"
   ]
  },
  {
   "cell_type": "markdown",
   "metadata": {
    "slideshow": {
     "slide_type": "slide"
    }
   },
   "source": [
    "## Fitting PCA on the whole dataset"
   ]
  },
  {
   "cell_type": "code",
   "execution_count": 47,
   "metadata": {},
   "outputs": [
    {
     "data": {
      "text/plain": [
       "(178, 13)"
      ]
     },
     "execution_count": 47,
     "metadata": {},
     "output_type": "execute_result"
    }
   ],
   "source": [
    "wine_std.shape"
   ]
  },
  {
   "cell_type": "code",
   "execution_count": 48,
   "metadata": {},
   "outputs": [
    {
     "data": {
      "text/plain": [
       "PCA(n_components=13)"
      ]
     },
     "execution_count": 48,
     "metadata": {},
     "output_type": "execute_result"
    }
   ],
   "source": [
    "# Run PCA on the wine dataset\n",
    "pca_wine = PCA(n_components=13)\n",
    "pca_wine.fit(wine_std) # notice I only do fit here"
   ]
  },
  {
   "cell_type": "markdown",
   "metadata": {
    "slideshow": {
     "slide_type": "slide"
    }
   },
   "source": [
    "## Plotting variance explained - Elbow Plot\n",
    "- How many components do I use?"
   ]
  },
  {
   "cell_type": "code",
   "execution_count": 49,
   "metadata": {},
   "outputs": [
    {
     "data": {
      "image/png": "[encoded data removed]",
      "text/plain": [
       "<Figure size 432x288 with 1 Axes>"
      ]
     },
     "metadata": {
      "needs_background": "light"
     },
     "output_type": "display_data"
    }
   ],
   "source": [
    "# Calculates the proportion of variance explained\n",
    "var_exp_wine = np.cumsum(pca_wine.explained_variance_/np.sum(pca_wine.explained_variance_))\n",
    "\n",
    "# Plots the elbow plot for the wine pca\n",
    "plt.plot(range(1,14), var_exp_wine, marker='o')\n",
    "plt.title(\"Variance explained - Wine\", fontsize=18);"
   ]
  },
  {
   "cell_type": "code",
   "execution_count": 52,
   "metadata": {},
   "outputs": [
    {
     "data": {
      "image/png": "[encoded data removed]",
      "text/plain": [
       "<Figure size 432x288 with 1 Axes>"
      ]
     },
     "metadata": {
      "needs_background": "light"
     },
     "output_type": "display_data"
    }
   ],
   "source": [
    "PC_values = np.arange(pca_wine.n_components_) + 1\n",
    "plt.plot(PC_values, pca_wine.explained_variance_ratio_, 'ro-', linewidth=2)\n",
    "plt.title('Scree Plot')\n",
    "plt.xlabel('Principal Component')\n",
    "plt.ylabel('Proportion of Variance Explained')\n",
    "plt.show()"
   ]
  },
  {
   "cell_type": "code",
   "execution_count": 60,
   "metadata": {},
   "outputs": [
    {
     "data": {
      "text/html": [
       "<div>\n",
       "<style scoped>\n",
       "    .dataframe tbody tr th:only-of-type {\n",
       "        vertical-align: middle;\n",
       "    }\n",
       "\n",
       "    .dataframe tbody tr th {\n",
       "        vertical-align: top;\n",
       "    }\n",
       "\n",
       "    .dataframe thead th {\n",
       "        text-align: right;\n",
       "    }\n",
       "</style>\n",
       "<table border=\"1\" class=\"dataframe\">\n",
       "  <thead>\n",
       "    <tr style=\"text-align: right;\">\n",
       "      <th></th>\n",
       "      <th>PC1</th>\n",
       "      <th>PC2</th>\n",
       "      <th>PC3</th>\n",
       "      <th>PC4</th>\n",
       "      <th>PC5</th>\n",
       "      <th>PC6</th>\n",
       "      <th>PC7</th>\n",
       "      <th>PC8</th>\n",
       "      <th>PC9</th>\n",
       "      <th>PC10</th>\n",
       "      <th>PC11</th>\n",
       "      <th>PC12</th>\n",
       "      <th>PC13</th>\n",
       "    </tr>\n",
       "  </thead>\n",
       "  <tbody>\n",
       "    <tr>\n",
       "      <th>alcohol</th>\n",
       "      <td>0.144329</td>\n",
       "      <td>-0.483652</td>\n",
       "      <td>-0.207383</td>\n",
       "      <td>-0.017856</td>\n",
       "      <td>-0.265664</td>\n",
       "      <td>-0.213539</td>\n",
       "      <td>-0.056396</td>\n",
       "      <td>-0.396139</td>\n",
       "      <td>0.508619</td>\n",
       "      <td>0.211605</td>\n",
       "      <td>-0.225917</td>\n",
       "      <td>-0.266286</td>\n",
       "      <td>0.014970</td>\n",
       "    </tr>\n",
       "    <tr>\n",
       "      <th>malic_acid</th>\n",
       "      <td>-0.245188</td>\n",
       "      <td>-0.224931</td>\n",
       "      <td>0.089013</td>\n",
       "      <td>0.536890</td>\n",
       "      <td>0.035214</td>\n",
       "      <td>-0.536814</td>\n",
       "      <td>0.420524</td>\n",
       "      <td>-0.065827</td>\n",
       "      <td>-0.075283</td>\n",
       "      <td>-0.309080</td>\n",
       "      <td>0.076486</td>\n",
       "      <td>0.121696</td>\n",
       "      <td>0.025964</td>\n",
       "    </tr>\n",
       "    <tr>\n",
       "      <th>ash</th>\n",
       "      <td>-0.002051</td>\n",
       "      <td>-0.316069</td>\n",
       "      <td>0.626224</td>\n",
       "      <td>-0.214176</td>\n",
       "      <td>-0.143025</td>\n",
       "      <td>-0.154475</td>\n",
       "      <td>-0.149171</td>\n",
       "      <td>0.170260</td>\n",
       "      <td>-0.307694</td>\n",
       "      <td>-0.027125</td>\n",
       "      <td>-0.498691</td>\n",
       "      <td>-0.049622</td>\n",
       "      <td>-0.141218</td>\n",
       "    </tr>\n",
       "    <tr>\n",
       "      <th>alcalinity_of_ash</th>\n",
       "      <td>-0.239320</td>\n",
       "      <td>0.010591</td>\n",
       "      <td>0.612080</td>\n",
       "      <td>0.060859</td>\n",
       "      <td>0.066103</td>\n",
       "      <td>0.100825</td>\n",
       "      <td>-0.286969</td>\n",
       "      <td>-0.427970</td>\n",
       "      <td>0.200449</td>\n",
       "      <td>0.052799</td>\n",
       "      <td>0.479314</td>\n",
       "      <td>-0.055743</td>\n",
       "      <td>0.091683</td>\n",
       "    </tr>\n",
       "    <tr>\n",
       "      <th>magnesium</th>\n",
       "      <td>0.141992</td>\n",
       "      <td>-0.299634</td>\n",
       "      <td>0.130757</td>\n",
       "      <td>-0.351797</td>\n",
       "      <td>0.727049</td>\n",
       "      <td>-0.038144</td>\n",
       "      <td>0.322883</td>\n",
       "      <td>0.156361</td>\n",
       "      <td>0.271403</td>\n",
       "      <td>0.067870</td>\n",
       "      <td>0.071289</td>\n",
       "      <td>0.062220</td>\n",
       "      <td>0.056774</td>\n",
       "    </tr>\n",
       "    <tr>\n",
       "      <th>total_phenols</th>\n",
       "      <td>0.394661</td>\n",
       "      <td>-0.065040</td>\n",
       "      <td>0.146179</td>\n",
       "      <td>0.198068</td>\n",
       "      <td>-0.149318</td>\n",
       "      <td>0.084122</td>\n",
       "      <td>-0.027925</td>\n",
       "      <td>0.405934</td>\n",
       "      <td>0.286035</td>\n",
       "      <td>-0.320131</td>\n",
       "      <td>0.304341</td>\n",
       "      <td>-0.303882</td>\n",
       "      <td>-0.463908</td>\n",
       "    </tr>\n",
       "    <tr>\n",
       "      <th>flavanoids</th>\n",
       "      <td>0.422934</td>\n",
       "      <td>0.003360</td>\n",
       "      <td>0.150682</td>\n",
       "      <td>0.152295</td>\n",
       "      <td>-0.109026</td>\n",
       "      <td>0.018920</td>\n",
       "      <td>-0.060685</td>\n",
       "      <td>0.187245</td>\n",
       "      <td>0.049578</td>\n",
       "      <td>-0.163151</td>\n",
       "      <td>-0.025694</td>\n",
       "      <td>-0.042899</td>\n",
       "      <td>0.832257</td>\n",
       "    </tr>\n",
       "    <tr>\n",
       "      <th>nonflavanoid_phenols</th>\n",
       "      <td>-0.298533</td>\n",
       "      <td>-0.028779</td>\n",
       "      <td>0.170368</td>\n",
       "      <td>-0.203301</td>\n",
       "      <td>-0.500703</td>\n",
       "      <td>0.258594</td>\n",
       "      <td>0.595447</td>\n",
       "      <td>0.233285</td>\n",
       "      <td>0.195501</td>\n",
       "      <td>0.215535</td>\n",
       "      <td>0.116896</td>\n",
       "      <td>0.042352</td>\n",
       "      <td>0.114040</td>\n",
       "    </tr>\n",
       "    <tr>\n",
       "      <th>proanthocyanins</th>\n",
       "      <td>0.313429</td>\n",
       "      <td>-0.039302</td>\n",
       "      <td>0.149454</td>\n",
       "      <td>0.399057</td>\n",
       "      <td>0.136860</td>\n",
       "      <td>0.533795</td>\n",
       "      <td>0.372139</td>\n",
       "      <td>-0.368227</td>\n",
       "      <td>-0.209145</td>\n",
       "      <td>0.134184</td>\n",
       "      <td>-0.237363</td>\n",
       "      <td>-0.095553</td>\n",
       "      <td>-0.116917</td>\n",
       "    </tr>\n",
       "    <tr>\n",
       "      <th>color_intensity</th>\n",
       "      <td>-0.088617</td>\n",
       "      <td>-0.529996</td>\n",
       "      <td>-0.137306</td>\n",
       "      <td>0.065926</td>\n",
       "      <td>-0.076437</td>\n",
       "      <td>0.418644</td>\n",
       "      <td>-0.227712</td>\n",
       "      <td>0.033797</td>\n",
       "      <td>0.056218</td>\n",
       "      <td>-0.290775</td>\n",
       "      <td>0.031839</td>\n",
       "      <td>0.604222</td>\n",
       "      <td>-0.011993</td>\n",
       "    </tr>\n",
       "    <tr>\n",
       "      <th>hue</th>\n",
       "      <td>0.296715</td>\n",
       "      <td>0.279235</td>\n",
       "      <td>0.085222</td>\n",
       "      <td>-0.427771</td>\n",
       "      <td>-0.173615</td>\n",
       "      <td>-0.105983</td>\n",
       "      <td>0.232076</td>\n",
       "      <td>-0.436624</td>\n",
       "      <td>0.085828</td>\n",
       "      <td>-0.522399</td>\n",
       "      <td>-0.048212</td>\n",
       "      <td>0.259214</td>\n",
       "      <td>-0.089889</td>\n",
       "    </tr>\n",
       "    <tr>\n",
       "      <th>od280/od315_of_diluted_wines</th>\n",
       "      <td>0.376167</td>\n",
       "      <td>0.164496</td>\n",
       "      <td>0.166005</td>\n",
       "      <td>0.184121</td>\n",
       "      <td>-0.101161</td>\n",
       "      <td>-0.265851</td>\n",
       "      <td>-0.044764</td>\n",
       "      <td>0.078108</td>\n",
       "      <td>0.137227</td>\n",
       "      <td>0.523706</td>\n",
       "      <td>0.046423</td>\n",
       "      <td>0.600959</td>\n",
       "      <td>-0.156718</td>\n",
       "    </tr>\n",
       "    <tr>\n",
       "      <th>proline</th>\n",
       "      <td>0.286752</td>\n",
       "      <td>-0.364903</td>\n",
       "      <td>-0.126746</td>\n",
       "      <td>-0.232071</td>\n",
       "      <td>-0.157869</td>\n",
       "      <td>-0.119726</td>\n",
       "      <td>0.076805</td>\n",
       "      <td>-0.120023</td>\n",
       "      <td>-0.575786</td>\n",
       "      <td>0.162116</td>\n",
       "      <td>0.539270</td>\n",
       "      <td>-0.079402</td>\n",
       "      <td>0.014447</td>\n",
       "    </tr>\n",
       "  </tbody>\n",
       "</table>\n",
       "</div>"
      ],
      "text/plain": [
       "                                   PC1       PC2       PC3       PC4  \\\n",
       "alcohol                       0.144329 -0.483652 -0.207383 -0.017856   \n",
       "malic_acid                   -0.245188 -0.224931  0.089013  0.536890   \n",
       "ash                          -0.002051 -0.316069  0.626224 -0.214176   \n",
       "alcalinity_of_ash            -0.239320  0.010591  0.612080  0.060859   \n",
       "magnesium                     0.141992 -0.299634  0.130757 -0.351797   \n",
       "total_phenols                 0.394661 -0.065040  0.146179  0.198068   \n",
       "flavanoids                    0.422934  0.003360  0.150682  0.152295   \n",
       "nonflavanoid_phenols         -0.298533 -0.028779  0.170368 -0.203301   \n",
       "proanthocyanins               0.313429 -0.039302  0.149454  0.399057   \n",
       "color_intensity              -0.088617 -0.529996 -0.137306  0.065926   \n",
       "hue                           0.296715  0.279235  0.085222 -0.427771   \n",
       "od280/od315_of_diluted_wines  0.376167  0.164496  0.166005  0.184121   \n",
       "proline                       0.286752 -0.364903 -0.126746 -0.232071   \n",
       "\n",
       "                                   PC5       PC6       PC7       PC8  \\\n",
       "alcohol                      -0.265664 -0.213539 -0.056396 -0.396139   \n",
       "malic_acid                    0.035214 -0.536814  0.420524 -0.065827   \n",
       "ash                          -0.143025 -0.154475 -0.149171  0.170260   \n",
       "alcalinity_of_ash             0.066103  0.100825 -0.286969 -0.427970   \n",
       "magnesium                     0.727049 -0.038144  0.322883  0.156361   \n",
       "total_phenols                -0.149318  0.084122 -0.027925  0.405934   \n",
       "flavanoids                   -0.109026  0.018920 -0.060685  0.187245   \n",
       "nonflavanoid_phenols         -0.500703  0.258594  0.595447  0.233285   \n",
       "proanthocyanins               0.136860  0.533795  0.372139 -0.368227   \n",
       "color_intensity              -0.076437  0.418644 -0.227712  0.033797   \n",
       "hue                          -0.173615 -0.105983  0.232076 -0.436624   \n",
       "od280/od315_of_diluted_wines -0.101161 -0.265851 -0.044764  0.078108   \n",
       "proline                      -0.157869 -0.119726  0.076805 -0.120023   \n",
       "\n",
       "                                   PC9      PC10      PC11      PC12      PC13  \n",
       "alcohol                       0.508619  0.211605 -0.225917 -0.266286  0.014970  \n",
       "malic_acid                   -0.075283 -0.309080  0.076486  0.121696  0.025964  \n",
       "ash                          -0.307694 -0.027125 -0.498691 -0.049622 -0.141218  \n",
       "alcalinity_of_ash             0.200449  0.052799  0.479314 -0.055743  0.091683  \n",
       "magnesium                     0.271403  0.067870  0.071289  0.062220  0.056774  \n",
       "total_phenols                 0.286035 -0.320131  0.304341 -0.303882 -0.463908  \n",
       "flavanoids                    0.049578 -0.163151 -0.025694 -0.042899  0.832257  \n",
       "nonflavanoid_phenols          0.195501  0.215535  0.116896  0.042352  0.114040  \n",
       "proanthocyanins              -0.209145  0.134184 -0.237363 -0.095553 -0.116917  \n",
       "color_intensity               0.056218 -0.290775  0.031839  0.604222 -0.011993  \n",
       "hue                           0.085828 -0.522399 -0.048212  0.259214 -0.089889  \n",
       "od280/od315_of_diluted_wines  0.137227  0.523706  0.046423  0.600959 -0.156718  \n",
       "proline                      -0.575786  0.162116  0.539270 -0.079402  0.014447  "
      ]
     },
     "execution_count": 60,
     "metadata": {},
     "output_type": "execute_result"
    }
   ],
   "source": [
    "full_weights = pd.DataFrame(pca_wine.components_.T, columns = ['PC1','PC2','PC3','PC4','PC5','PC6','PC7','PC8','PC9','PC10','PC11','PC12', 'PC13'], index = wine_std.columns)\n",
    "full_weights"
   ]
  },
  {
   "cell_type": "code",
   "execution_count": 56,
   "metadata": {},
   "outputs": [
    {
     "name": "stdout",
     "output_type": "stream",
     "text": [
      "[0.36198848 0.1920749  0.11123631 0.0706903  0.06563294 0.04935823\n",
      " 0.04238679 0.02680749 0.02222153 0.01930019 0.01736836 0.01298233\n",
      " 0.00795215]\n"
     ]
    }
   ],
   "source": [
    "print(pca_wine.explained_variance_ratio_) \n"
   ]
  },
  {
   "cell_type": "markdown",
   "metadata": {
    "slideshow": {
     "slide_type": "slide"
    }
   },
   "source": [
    "## Variable Selection or PCA?\n",
    "- PCA is a sophisticated way to try to \"pack more data into less dimensions\"\n",
    "- The challenge is explainability: we no longer really know -in deep detail- what the dimensions represent\n",
    "\n",
    "### Why variable selection?\n",
    "- Other variable selection techniques exist to maintain explainability while downselecting variables\n",
    "- They require less computational time and may perform just as well\n",
    "- A simple example is just picking the best 10 out of the 20 features that are available"
   ]
  },
  {
   "cell_type": "code",
   "execution_count": null,
   "metadata": {},
   "outputs": [],
   "source": []
  }
 ],
 "metadata": {
  "celltoolbar": "Slideshow",
  "kernelspec": {
   "display_name": "Python 3",
   "language": "python",
   "name": "python3"
  },
  "language_info": {
   "codemirror_mode": {
    "name": "ipython",
    "version": 3
   },
   "file_extension": ".py",
   "mimetype": "text/x-python",
   "name": "python",
   "nbconvert_exporter": "python",
   "pygments_lexer": "ipython3",
   "version": "3.7.4"
  }
 },
 "nbformat": 4,
 "nbformat_minor": 4
}
